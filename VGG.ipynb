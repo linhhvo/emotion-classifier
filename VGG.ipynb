{
  "nbformat": 4,
  "nbformat_minor": 0,
  "metadata": {
    "colab": {
      "name": "VGG Final.ipynb",
      "provenance": [],
      "collapsed_sections": [
        "ryMwdtEczpob",
        "bt13c9cTo4EG",
        "TXhog-Re0dDL",
        "UqE0evuBCb5I"
      ],
      "include_colab_link": true
    },
    "kernelspec": {
      "name": "python3",
      "display_name": "Python 3"
    },
    "language_info": {
      "name": "python"
    },
    "accelerator": "GPU"
  },
  "cells": [
    {
      "cell_type": "markdown",
      "metadata": {
        "id": "view-in-github",
        "colab_type": "text"
      },
      "source": [
        "<a href=\"https://colab.research.google.com/github/linhhvo/emotion-classifier/blob/main/VGG.ipynb\" target=\"_parent\"><img src=\"https://colab.research.google.com/assets/colab-badge.svg\" alt=\"Open In Colab\"/></a>"
      ]
    },
    {
      "cell_type": "code",
      "metadata": {
        "id": "Hp1DXnGU3DuU"
      },
      "source": [
        "import numpy as np\n",
        "import matplotlib.pyplot as plt\n",
        "import tensorflow as tf\n",
        "from tensorflow import keras\n",
        "from tensorflow.keras.models import Sequential, Model\n",
        "from tensorflow.keras.layers import Activation, Dense, Flatten, BatchNormalization, Conv2D, MaxPooling2D, Dropout, GlobalAveragePooling2D\n",
        "from tensorflow.keras.optimizers import Adam, SGD, Nadam, Adadelta, RMSprop\n",
        "from tensorflow.keras.optimizers.schedules import ExponentialDecay\n",
        "from tensorflow.keras.metrics import categorical_crossentropy\n",
        "from tensorflow.keras.preprocessing.image import ImageDataGenerator\n",
        "from tensorflow.keras.preprocessing import image_dataset_from_directory \n",
        "from tensorflow.keras.applications import VGG16, VGG19, vgg16\n",
        "from tensorflow.keras import layers\n",
        "from tensorflow.keras.callbacks import ReduceLROnPlateau, EarlyStopping\n",
        "from tensorflow.keras.regularizers import l1, l2, l1_l2\n",
        "import sys\n",
        "import os\n",
        "import random"
      ],
      "execution_count": null,
      "outputs": []
    },
    {
      "cell_type": "code",
      "metadata": {
        "colab": {
          "base_uri": "https://localhost:8080/"
        },
        "id": "OwNQP5VY3LfJ",
        "outputId": "47880c15-d4d6-4217-c44a-3976f0683304"
      },
      "source": [
        "from google.colab import drive\n",
        "drive.mount(\"/content/drive/\")"
      ],
      "execution_count": null,
      "outputs": [
        {
          "output_type": "stream",
          "text": [
            "Mounted at /content/drive/\n"
          ],
          "name": "stdout"
        }
      ]
    },
    {
      "cell_type": "code",
      "metadata": {
        "id": "xfRvMwWQ3L3x"
      },
      "source": [
        "!unzip drive/MyDrive/images.zip > /dev/null"
      ],
      "execution_count": null,
      "outputs": []
    },
    {
      "cell_type": "code",
      "metadata": {
        "colab": {
          "base_uri": "https://localhost:8080/"
        },
        "id": "UhudhrLd3NEB",
        "outputId": "035baa04-689b-4c36-dda7-ea0477ca65fb"
      },
      "source": [
        "labels = os.listdir('train')\n",
        "labels"
      ],
      "execution_count": null,
      "outputs": [
        {
          "output_type": "execute_result",
          "data": {
            "text/plain": [
              "['surprise', 'disgust', 'happy', 'angry', 'fear', 'neutral', 'sad']"
            ]
          },
          "metadata": {
            "tags": []
          },
          "execution_count": 5
        }
      ]
    },
    {
      "cell_type": "code",
      "metadata": {
        "id": "if1Smlia3OOO"
      },
      "source": [
        "np.random.seed(212)\n",
        "tf.random.set_seed(101)"
      ],
      "execution_count": null,
      "outputs": []
    },
    {
      "cell_type": "code",
      "metadata": {
        "id": "_R6JAOCp3eDx"
      },
      "source": [
        "def plot_graphs(history, metric):\n",
        "  plt.plot(history.history[metric])\n",
        "  plt.plot(history.history['val_'+metric], '') # for validation results\n",
        "  plt.xlabel(\"Epochs\")\n",
        "  plt.ylabel(metric)\n",
        "  plt.legend([metric, 'val_'+metric])"
      ],
      "execution_count": null,
      "outputs": []
    },
    {
      "cell_type": "code",
      "metadata": {
        "colab": {
          "base_uri": "https://localhost:8080/"
        },
        "id": "_IJ1ODfq3PtA",
        "outputId": "0d5b1e31-4551-4477-af15-3608d5d49578"
      },
      "source": [
        "train_batches = ImageDataGenerator(preprocessing_function=vgg16.preprocess_input) \\\n",
        "    .flow_from_directory(directory='train', target_size=(224,224), classes=labels)\n",
        "validate_batches = ImageDataGenerator(preprocessing_function=vgg16.preprocess_input) \\\n",
        "    .flow_from_directory(directory='validation', target_size=(224,224), classes=labels, shuffle=False)"
      ],
      "execution_count": null,
      "outputs": [
        {
          "output_type": "stream",
          "text": [
            "Found 20725 images belonging to 7 classes.\n",
            "Found 2000 images belonging to 7 classes.\n"
          ],
          "name": "stdout"
        }
      ]
    },
    {
      "cell_type": "markdown",
      "metadata": {
        "id": "ryMwdtEczpob"
      },
      "source": [
        "## Base Model\n",
        "\n",
        "Include and freeze all VGG16 layers"
      ]
    },
    {
      "cell_type": "code",
      "metadata": {
        "colab": {
          "base_uri": "https://localhost:8080/"
        },
        "id": "idFpU4Hxzmp6",
        "outputId": "d8fe8c33-9c56-4e08-ec96-8046e0b51360"
      },
      "source": [
        "vgg16 = VGG16()\n",
        "\n",
        "for layer in vgg16.layers:\n",
        "  layer.trainable = False\n",
        "\n",
        "vgg16.summary()"
      ],
      "execution_count": null,
      "outputs": [
        {
          "output_type": "stream",
          "text": [
            "Downloading data from https://storage.googleapis.com/tensorflow/keras-applications/vgg16/vgg16_weights_tf_dim_ordering_tf_kernels.h5\n",
            "553467904/553467096 [==============================] - 4s 0us/step\n",
            "Model: \"vgg16\"\n",
            "_________________________________________________________________\n",
            "Layer (type)                 Output Shape              Param #   \n",
            "=================================================================\n",
            "input_1 (InputLayer)         [(None, 224, 224, 3)]     0         \n",
            "_________________________________________________________________\n",
            "block1_conv1 (Conv2D)        (None, 224, 224, 64)      1792      \n",
            "_________________________________________________________________\n",
            "block1_conv2 (Conv2D)        (None, 224, 224, 64)      36928     \n",
            "_________________________________________________________________\n",
            "block1_pool (MaxPooling2D)   (None, 112, 112, 64)      0         \n",
            "_________________________________________________________________\n",
            "block2_conv1 (Conv2D)        (None, 112, 112, 128)     73856     \n",
            "_________________________________________________________________\n",
            "block2_conv2 (Conv2D)        (None, 112, 112, 128)     147584    \n",
            "_________________________________________________________________\n",
            "block2_pool (MaxPooling2D)   (None, 56, 56, 128)       0         \n",
            "_________________________________________________________________\n",
            "block3_conv1 (Conv2D)        (None, 56, 56, 256)       295168    \n",
            "_________________________________________________________________\n",
            "block3_conv2 (Conv2D)        (None, 56, 56, 256)       590080    \n",
            "_________________________________________________________________\n",
            "block3_conv3 (Conv2D)        (None, 56, 56, 256)       590080    \n",
            "_________________________________________________________________\n",
            "block3_pool (MaxPooling2D)   (None, 28, 28, 256)       0         \n",
            "_________________________________________________________________\n",
            "block4_conv1 (Conv2D)        (None, 28, 28, 512)       1180160   \n",
            "_________________________________________________________________\n",
            "block4_conv2 (Conv2D)        (None, 28, 28, 512)       2359808   \n",
            "_________________________________________________________________\n",
            "block4_conv3 (Conv2D)        (None, 28, 28, 512)       2359808   \n",
            "_________________________________________________________________\n",
            "block4_pool (MaxPooling2D)   (None, 14, 14, 512)       0         \n",
            "_________________________________________________________________\n",
            "block5_conv1 (Conv2D)        (None, 14, 14, 512)       2359808   \n",
            "_________________________________________________________________\n",
            "block5_conv2 (Conv2D)        (None, 14, 14, 512)       2359808   \n",
            "_________________________________________________________________\n",
            "block5_conv3 (Conv2D)        (None, 14, 14, 512)       2359808   \n",
            "_________________________________________________________________\n",
            "block5_pool (MaxPooling2D)   (None, 7, 7, 512)         0         \n",
            "_________________________________________________________________\n",
            "flatten (Flatten)            (None, 25088)             0         \n",
            "_________________________________________________________________\n",
            "fc1 (Dense)                  (None, 4096)              102764544 \n",
            "_________________________________________________________________\n",
            "fc2 (Dense)                  (None, 4096)              16781312  \n",
            "_________________________________________________________________\n",
            "predictions (Dense)          (None, 1000)              4097000   \n",
            "=================================================================\n",
            "Total params: 138,357,544\n",
            "Trainable params: 0\n",
            "Non-trainable params: 138,357,544\n",
            "_________________________________________________________________\n"
          ],
          "name": "stdout"
        }
      ]
    },
    {
      "cell_type": "code",
      "metadata": {
        "colab": {
          "base_uri": "https://localhost:8080/"
        },
        "id": "X6_JnB_gzmqB",
        "outputId": "1f89accb-cc13-4242-9571-a7db2ea48524"
      },
      "source": [
        "model = Sequential()\n",
        "\n",
        "for layer in vgg16.layers[:-1]:\n",
        "  model.add(layer)\n",
        "\n",
        "model.add(Dense(7, activation='softmax', name='predictions'))\n",
        "\n",
        "model.summary()"
      ],
      "execution_count": null,
      "outputs": [
        {
          "output_type": "stream",
          "text": [
            "Model: \"sequential\"\n",
            "_________________________________________________________________\n",
            "Layer (type)                 Output Shape              Param #   \n",
            "=================================================================\n",
            "block1_conv1 (Conv2D)        (None, 224, 224, 64)      1792      \n",
            "_________________________________________________________________\n",
            "block1_conv2 (Conv2D)        (None, 224, 224, 64)      36928     \n",
            "_________________________________________________________________\n",
            "block1_pool (MaxPooling2D)   (None, 112, 112, 64)      0         \n",
            "_________________________________________________________________\n",
            "block2_conv1 (Conv2D)        (None, 112, 112, 128)     73856     \n",
            "_________________________________________________________________\n",
            "block2_conv2 (Conv2D)        (None, 112, 112, 128)     147584    \n",
            "_________________________________________________________________\n",
            "block2_pool (MaxPooling2D)   (None, 56, 56, 128)       0         \n",
            "_________________________________________________________________\n",
            "block3_conv1 (Conv2D)        (None, 56, 56, 256)       295168    \n",
            "_________________________________________________________________\n",
            "block3_conv2 (Conv2D)        (None, 56, 56, 256)       590080    \n",
            "_________________________________________________________________\n",
            "block3_conv3 (Conv2D)        (None, 56, 56, 256)       590080    \n",
            "_________________________________________________________________\n",
            "block3_pool (MaxPooling2D)   (None, 28, 28, 256)       0         \n",
            "_________________________________________________________________\n",
            "block4_conv1 (Conv2D)        (None, 28, 28, 512)       1180160   \n",
            "_________________________________________________________________\n",
            "block4_conv2 (Conv2D)        (None, 28, 28, 512)       2359808   \n",
            "_________________________________________________________________\n",
            "block4_conv3 (Conv2D)        (None, 28, 28, 512)       2359808   \n",
            "_________________________________________________________________\n",
            "block4_pool (MaxPooling2D)   (None, 14, 14, 512)       0         \n",
            "_________________________________________________________________\n",
            "block5_conv1 (Conv2D)        (None, 14, 14, 512)       2359808   \n",
            "_________________________________________________________________\n",
            "block5_conv2 (Conv2D)        (None, 14, 14, 512)       2359808   \n",
            "_________________________________________________________________\n",
            "block5_conv3 (Conv2D)        (None, 14, 14, 512)       2359808   \n",
            "_________________________________________________________________\n",
            "block5_pool (MaxPooling2D)   (None, 7, 7, 512)         0         \n",
            "_________________________________________________________________\n",
            "flatten (Flatten)            (None, 25088)             0         \n",
            "_________________________________________________________________\n",
            "fc1 (Dense)                  (None, 4096)              102764544 \n",
            "_________________________________________________________________\n",
            "fc2 (Dense)                  (None, 4096)              16781312  \n",
            "_________________________________________________________________\n",
            "predictions (Dense)          (None, 7)                 28679     \n",
            "=================================================================\n",
            "Total params: 134,289,223\n",
            "Trainable params: 28,679\n",
            "Non-trainable params: 134,260,544\n",
            "_________________________________________________________________\n"
          ],
          "name": "stdout"
        }
      ]
    },
    {
      "cell_type": "code",
      "metadata": {
        "id": "HqLwyl1KzmqE"
      },
      "source": [
        "model.compile(\n",
        "    optimizer='nadam',\n",
        "    loss='categorical_crossentropy', \n",
        "    metrics=['accuracy'])"
      ],
      "execution_count": null,
      "outputs": []
    },
    {
      "cell_type": "code",
      "metadata": {
        "colab": {
          "base_uri": "https://localhost:8080/"
        },
        "id": "6USii1bDzmqF",
        "outputId": "369eacdd-ec3f-4dc4-f685-01dd4a3dcba9"
      },
      "source": [
        "earlystopper = EarlyStopping(\n",
        "    patience=25,\n",
        "    restore_best_weights=True,\n",
        "    verbose=1)\n",
        "\n",
        "history = model.fit(x=train_batches,\n",
        "    steps_per_epoch=len(train_batches),\n",
        "    validation_data=validate_batches,\n",
        "    validation_steps=len(validate_batches),\n",
        "    epochs=40,\n",
        "    callbacks=[earlystopper]\n",
        ")"
      ],
      "execution_count": null,
      "outputs": [
        {
          "output_type": "stream",
          "text": [
            "Epoch 1/40\n",
            "648/648 [==============================] - 136s 151ms/step - loss: 1.7343 - accuracy: 0.3536 - val_loss: 1.9445 - val_accuracy: 0.3040\n",
            "Epoch 2/40\n",
            "648/648 [==============================] - 92s 142ms/step - loss: 1.4434 - accuracy: 0.4540 - val_loss: 1.8289 - val_accuracy: 0.3695\n",
            "Epoch 3/40\n",
            "648/648 [==============================] - 92s 142ms/step - loss: 1.3291 - accuracy: 0.5042 - val_loss: 1.8774 - val_accuracy: 0.3425\n",
            "Epoch 4/40\n",
            "648/648 [==============================] - 92s 142ms/step - loss: 1.2569 - accuracy: 0.5243 - val_loss: 1.7705 - val_accuracy: 0.3940\n",
            "Epoch 5/40\n",
            "648/648 [==============================] - 92s 142ms/step - loss: 1.2189 - accuracy: 0.5409 - val_loss: 1.8242 - val_accuracy: 0.3850\n",
            "Epoch 6/40\n",
            "648/648 [==============================] - 92s 142ms/step - loss: 1.1670 - accuracy: 0.5557 - val_loss: 1.7794 - val_accuracy: 0.3700\n",
            "Epoch 7/40\n",
            "648/648 [==============================] - 92s 142ms/step - loss: 1.1309 - accuracy: 0.5675 - val_loss: 1.7992 - val_accuracy: 0.3845\n",
            "Epoch 8/40\n",
            "648/648 [==============================] - 92s 142ms/step - loss: 1.0922 - accuracy: 0.5880 - val_loss: 1.8215 - val_accuracy: 0.3830\n",
            "Epoch 9/40\n",
            "648/648 [==============================] - 92s 142ms/step - loss: 1.0692 - accuracy: 0.5981 - val_loss: 1.9508 - val_accuracy: 0.3775\n",
            "Epoch 10/40\n",
            "648/648 [==============================] - 92s 142ms/step - loss: 1.0408 - accuracy: 0.6102 - val_loss: 1.7870 - val_accuracy: 0.4030\n",
            "Epoch 11/40\n",
            "648/648 [==============================] - 92s 142ms/step - loss: 1.0225 - accuracy: 0.6195 - val_loss: 1.9185 - val_accuracy: 0.3685\n",
            "Epoch 12/40\n",
            "648/648 [==============================] - 92s 142ms/step - loss: 0.9985 - accuracy: 0.6208 - val_loss: 1.8388 - val_accuracy: 0.3885\n",
            "Epoch 13/40\n",
            "648/648 [==============================] - 92s 142ms/step - loss: 0.9879 - accuracy: 0.6308 - val_loss: 2.0471 - val_accuracy: 0.3545\n",
            "Epoch 14/40\n",
            "648/648 [==============================] - 92s 142ms/step - loss: 0.9720 - accuracy: 0.6358 - val_loss: 1.9455 - val_accuracy: 0.3680\n",
            "Epoch 15/40\n",
            "648/648 [==============================] - 92s 142ms/step - loss: 0.9589 - accuracy: 0.6430 - val_loss: 2.0381 - val_accuracy: 0.3625\n",
            "Epoch 16/40\n",
            "648/648 [==============================] - 92s 142ms/step - loss: 0.9387 - accuracy: 0.6500 - val_loss: 1.9764 - val_accuracy: 0.3745\n",
            "Epoch 17/40\n",
            "648/648 [==============================] - 92s 142ms/step - loss: 0.9353 - accuracy: 0.6496 - val_loss: 1.9587 - val_accuracy: 0.3890\n",
            "Epoch 18/40\n",
            "648/648 [==============================] - 92s 142ms/step - loss: 0.9244 - accuracy: 0.6554 - val_loss: 1.9173 - val_accuracy: 0.3845\n",
            "Epoch 19/40\n",
            "648/648 [==============================] - 92s 142ms/step - loss: 0.9141 - accuracy: 0.6581 - val_loss: 1.9316 - val_accuracy: 0.3880\n",
            "Epoch 20/40\n",
            "648/648 [==============================] - 92s 142ms/step - loss: 0.9069 - accuracy: 0.6617 - val_loss: 2.0638 - val_accuracy: 0.3730\n",
            "Epoch 21/40\n",
            "648/648 [==============================] - 92s 142ms/step - loss: 0.8750 - accuracy: 0.6750 - val_loss: 2.0650 - val_accuracy: 0.3815\n",
            "Epoch 22/40\n",
            "648/648 [==============================] - 92s 142ms/step - loss: 0.8871 - accuracy: 0.6720 - val_loss: 1.9493 - val_accuracy: 0.3870\n",
            "Epoch 23/40\n",
            "648/648 [==============================] - 92s 142ms/step - loss: 0.8733 - accuracy: 0.6742 - val_loss: 1.9791 - val_accuracy: 0.3835\n",
            "Epoch 24/40\n",
            "648/648 [==============================] - 92s 142ms/step - loss: 0.8632 - accuracy: 0.6829 - val_loss: 2.1029 - val_accuracy: 0.3835\n",
            "Epoch 25/40\n",
            "648/648 [==============================] - 92s 142ms/step - loss: 0.8589 - accuracy: 0.6813 - val_loss: 2.0557 - val_accuracy: 0.3840\n",
            "Epoch 26/40\n",
            "648/648 [==============================] - 92s 142ms/step - loss: 0.8566 - accuracy: 0.6792 - val_loss: 2.0476 - val_accuracy: 0.3810\n",
            "Epoch 27/40\n",
            "648/648 [==============================] - 92s 142ms/step - loss: 0.8500 - accuracy: 0.6832 - val_loss: 2.0154 - val_accuracy: 0.3975\n",
            "Epoch 28/40\n",
            "648/648 [==============================] - 92s 142ms/step - loss: 0.8421 - accuracy: 0.6883 - val_loss: 2.1967 - val_accuracy: 0.3880\n",
            "Epoch 29/40\n",
            "648/648 [==============================] - 92s 142ms/step - loss: 0.8449 - accuracy: 0.6884 - val_loss: 2.0376 - val_accuracy: 0.3855\n",
            "Restoring model weights from the end of the best epoch.\n",
            "Epoch 00029: early stopping\n"
          ],
          "name": "stdout"
        }
      ]
    },
    {
      "cell_type": "code",
      "metadata": {
        "colab": {
          "base_uri": "https://localhost:8080/",
          "height": 388
        },
        "id": "4k_MrQemzmqH",
        "outputId": "487fd19d-40c4-4ec2-f47f-559a436222db"
      },
      "source": [
        "plt.figure(figsize=(16,6))\n",
        "plt.subplot(1,2,1)\n",
        "plot_graphs(history, 'accuracy')\n",
        "plt.subplot(1,2,2)\n",
        "plot_graphs(history, 'loss')"
      ],
      "execution_count": null,
      "outputs": [
        {
          "output_type": "display_data",
          "data": {
            "image/png": "[encoded data removed]",
            "text/plain": [
              "<Figure size 1152x432 with 2 Axes>"
            ]
          },
          "metadata": {
            "tags": [],
            "needs_background": "light"
          }
        }
      ]
    },
    {
      "cell_type": "code",
      "metadata": {
        "colab": {
          "base_uri": "https://localhost:8080/"
        },
        "id": "KXNn40xbzmqJ",
        "outputId": "07e4a87d-64d9-4efe-f0a3-deebc2ee0ebc"
      },
      "source": [
        "train_loss, train_acc = model.evaluate(train_batches)\n",
        "print('Train Accuracy: {:.2f}'.format(train_acc))\n",
        "\n",
        "valid_loss, valid_acc = model.evaluate(validate_batches)\n",
        "print('Validation Accuracy: {:.2f}'.format(valid_acc))\n"
      ],
      "execution_count": null,
      "outputs": [
        {
          "output_type": "stream",
          "text": [
            "648/648 [==============================] - 83s 129ms/step - loss: 1.1290 - accuracy: 0.5804\n",
            "Train Accuracy: 0.58\n",
            "63/63 [==============================] - 8s 128ms/step - loss: 1.7705 - accuracy: 0.3940\n",
            "Validation Accuracy: 0.39\n"
          ],
          "name": "stdout"
        }
      ]
    },
    {
      "cell_type": "markdown",
      "metadata": {
        "id": "bt13c9cTo4EG"
      },
      "source": [
        "## Model 1"
      ]
    },
    {
      "cell_type": "markdown",
      "metadata": {
        "id": "Ojcw5NU90I8p"
      },
      "source": [
        "Use custom fully-connected layers\n",
        "Use lower learning rate"
      ]
    },
    {
      "cell_type": "code",
      "metadata": {
        "colab": {
          "base_uri": "https://localhost:8080/"
        },
        "id": "rFVuoNhd3RD5",
        "outputId": "52920f62-0ab9-4eee-9f66-d29eabeff436"
      },
      "source": [
        "vgg16 = VGG16(pooling='max', include_top=False)\n",
        "\n",
        "for layer in vgg16.layers:\n",
        "  layer.trainable = False\n",
        "\n",
        "vgg16.summary()"
      ],
      "execution_count": null,
      "outputs": [
        {
          "output_type": "stream",
          "text": [
            "Downloading data from https://storage.googleapis.com/tensorflow/keras-applications/vgg16/vgg16_weights_tf_dim_ordering_tf_kernels_notop.h5\n",
            "58892288/58889256 [==============================] - 0s 0us/step\n",
            "Model: \"vgg16\"\n",
            "_________________________________________________________________\n",
            "Layer (type)                 Output Shape              Param #   \n",
            "=================================================================\n",
            "input_2 (InputLayer)         [(None, None, None, 3)]   0         \n",
            "_________________________________________________________________\n",
            "block1_conv1 (Conv2D)        (None, None, None, 64)    1792      \n",
            "_________________________________________________________________\n",
            "block1_conv2 (Conv2D)        (None, None, None, 64)    36928     \n",
            "_________________________________________________________________\n",
            "block1_pool (MaxPooling2D)   (None, None, None, 64)    0         \n",
            "_________________________________________________________________\n",
            "block2_conv1 (Conv2D)        (None, None, None, 128)   73856     \n",
            "_________________________________________________________________\n",
            "block2_conv2 (Conv2D)        (None, None, None, 128)   147584    \n",
            "_________________________________________________________________\n",
            "block2_pool (MaxPooling2D)   (None, None, None, 128)   0         \n",
            "_________________________________________________________________\n",
            "block3_conv1 (Conv2D)        (None, None, None, 256)   295168    \n",
            "_________________________________________________________________\n",
            "block3_conv2 (Conv2D)        (None, None, None, 256)   590080    \n",
            "_________________________________________________________________\n",
            "block3_conv3 (Conv2D)        (None, None, None, 256)   590080    \n",
            "_________________________________________________________________\n",
            "block3_pool (MaxPooling2D)   (None, None, None, 256)   0         \n",
            "_________________________________________________________________\n",
            "block4_conv1 (Conv2D)        (None, None, None, 512)   1180160   \n",
            "_________________________________________________________________\n",
            "block4_conv2 (Conv2D)        (None, None, None, 512)   2359808   \n",
            "_________________________________________________________________\n",
            "block4_conv3 (Conv2D)        (None, None, None, 512)   2359808   \n",
            "_________________________________________________________________\n",
            "block4_pool (MaxPooling2D)   (None, None, None, 512)   0         \n",
            "_________________________________________________________________\n",
            "block5_conv1 (Conv2D)        (None, None, None, 512)   2359808   \n",
            "_________________________________________________________________\n",
            "block5_conv2 (Conv2D)        (None, None, None, 512)   2359808   \n",
            "_________________________________________________________________\n",
            "block5_conv3 (Conv2D)        (None, None, None, 512)   2359808   \n",
            "_________________________________________________________________\n",
            "block5_pool (MaxPooling2D)   (None, None, None, 512)   0         \n",
            "_________________________________________________________________\n",
            "global_max_pooling2d (Global (None, 512)               0         \n",
            "=================================================================\n",
            "Total params: 14,714,688\n",
            "Trainable params: 0\n",
            "Non-trainable params: 14,714,688\n",
            "_________________________________________________________________\n"
          ],
          "name": "stdout"
        }
      ]
    },
    {
      "cell_type": "code",
      "metadata": {
        "colab": {
          "base_uri": "https://localhost:8080/"
        },
        "id": "u4HwrwAn7dw7",
        "outputId": "ee58a1f4-30b0-4c53-a35a-f37c3ce08c85"
      },
      "source": [
        "model = Sequential()\n",
        "\n",
        "for layer in vgg16.layers:\n",
        "  model.add(layer)\n",
        "\n",
        "model.add(Flatten())\n",
        "model.add(Dense(1024, activation='relu'))\n",
        "model.add(Dense(1024, activation='relu'))\n",
        "model.add(Dense(1024, activation='relu'))\n",
        "\n",
        "model.add(Dense(7, activation='softmax', name='predictions'))\n",
        "\n",
        "model.summary()"
      ],
      "execution_count": null,
      "outputs": [
        {
          "output_type": "stream",
          "text": [
            "Model: \"sequential_1\"\n",
            "_________________________________________________________________\n",
            "Layer (type)                 Output Shape              Param #   \n",
            "=================================================================\n",
            "block1_conv1 (Conv2D)        (None, None, None, 64)    1792      \n",
            "_________________________________________________________________\n",
            "block1_conv2 (Conv2D)        (None, None, None, 64)    36928     \n",
            "_________________________________________________________________\n",
            "block1_pool (MaxPooling2D)   (None, None, None, 64)    0         \n",
            "_________________________________________________________________\n",
            "block2_conv1 (Conv2D)        (None, None, None, 128)   73856     \n",
            "_________________________________________________________________\n",
            "block2_conv2 (Conv2D)        (None, None, None, 128)   147584    \n",
            "_________________________________________________________________\n",
            "block2_pool (MaxPooling2D)   (None, None, None, 128)   0         \n",
            "_________________________________________________________________\n",
            "block3_conv1 (Conv2D)        (None, None, None, 256)   295168    \n",
            "_________________________________________________________________\n",
            "block3_conv2 (Conv2D)        (None, None, None, 256)   590080    \n",
            "_________________________________________________________________\n",
            "block3_conv3 (Conv2D)        (None, None, None, 256)   590080    \n",
            "_________________________________________________________________\n",
            "block3_pool (MaxPooling2D)   (None, None, None, 256)   0         \n",
            "_________________________________________________________________\n",
            "block4_conv1 (Conv2D)        (None, None, None, 512)   1180160   \n",
            "_________________________________________________________________\n",
            "block4_conv2 (Conv2D)        (None, None, None, 512)   2359808   \n",
            "_________________________________________________________________\n",
            "block4_conv3 (Conv2D)        (None, None, None, 512)   2359808   \n",
            "_________________________________________________________________\n",
            "block4_pool (MaxPooling2D)   (None, None, None, 512)   0         \n",
            "_________________________________________________________________\n",
            "block5_conv1 (Conv2D)        (None, None, None, 512)   2359808   \n",
            "_________________________________________________________________\n",
            "block5_conv2 (Conv2D)        (None, None, None, 512)   2359808   \n",
            "_________________________________________________________________\n",
            "block5_conv3 (Conv2D)        (None, None, None, 512)   2359808   \n",
            "_________________________________________________________________\n",
            "block5_pool (MaxPooling2D)   (None, None, None, 512)   0         \n",
            "_________________________________________________________________\n",
            "global_max_pooling2d (Global (None, 512)               0         \n",
            "_________________________________________________________________\n",
            "flatten (Flatten)            (None, 512)               0         \n",
            "_________________________________________________________________\n",
            "dense (Dense)                (None, 1024)              525312    \n",
            "_________________________________________________________________\n",
            "dense_1 (Dense)              (None, 1024)              1049600   \n",
            "_________________________________________________________________\n",
            "dense_2 (Dense)              (None, 1024)              1049600   \n",
            "_________________________________________________________________\n",
            "predictions (Dense)          (None, 7)                 7175      \n",
            "=================================================================\n",
            "Total params: 17,346,375\n",
            "Trainable params: 2,631,687\n",
            "Non-trainable params: 14,714,688\n",
            "_________________________________________________________________\n"
          ],
          "name": "stdout"
        }
      ]
    },
    {
      "cell_type": "code",
      "metadata": {
        "id": "RJw6dqD67xkC"
      },
      "source": [
        "model.compile(\n",
        "    optimizer=Nadam(learning_rate=0.0001), \n",
        "    loss='categorical_crossentropy', \n",
        "    metrics=['accuracy'])"
      ],
      "execution_count": null,
      "outputs": []
    },
    {
      "cell_type": "code",
      "metadata": {
        "colab": {
          "base_uri": "https://localhost:8080/"
        },
        "id": "hoWpVJye8vOh",
        "outputId": "0221d817-0d0f-46a5-fb47-fc4588c278bf"
      },
      "source": [
        "history = model.fit(x=train_batches,\n",
        "    steps_per_epoch=len(train_batches),\n",
        "    validation_data=validate_batches,\n",
        "    validation_steps=len(validate_batches),\n",
        "    epochs=40\n",
        ")"
      ],
      "execution_count": null,
      "outputs": [
        {
          "output_type": "stream",
          "text": [
            "Epoch 1/40\n",
            "648/648 [==============================] - 92s 141ms/step - loss: 2.5934 - accuracy: 0.2997 - val_loss: 1.9308 - val_accuracy: 0.2930\n",
            "Epoch 2/40\n",
            "648/648 [==============================] - 91s 141ms/step - loss: 1.4319 - accuracy: 0.4552 - val_loss: 1.7959 - val_accuracy: 0.3340\n",
            "Epoch 3/40\n",
            "648/648 [==============================] - 91s 141ms/step - loss: 1.2072 - accuracy: 0.5493 - val_loss: 1.8233 - val_accuracy: 0.3595\n",
            "Epoch 4/40\n",
            "648/648 [==============================] - 91s 141ms/step - loss: 1.0157 - accuracy: 0.6291 - val_loss: 1.9382 - val_accuracy: 0.3715\n",
            "Epoch 5/40\n",
            "648/648 [==============================] - 91s 141ms/step - loss: 0.7712 - accuracy: 0.7373 - val_loss: 1.9650 - val_accuracy: 0.3675\n",
            "Epoch 6/40\n",
            "648/648 [==============================] - 91s 141ms/step - loss: 0.5022 - accuracy: 0.8488 - val_loss: 2.0973 - val_accuracy: 0.3735\n",
            "Epoch 7/40\n",
            "648/648 [==============================] - 91s 141ms/step - loss: 0.2930 - accuracy: 0.9290 - val_loss: 2.3065 - val_accuracy: 0.3805\n",
            "Epoch 8/40\n",
            "648/648 [==============================] - 91s 141ms/step - loss: 0.1608 - accuracy: 0.9687 - val_loss: 2.4380 - val_accuracy: 0.3760\n",
            "Epoch 9/40\n",
            "648/648 [==============================] - 91s 141ms/step - loss: 0.0868 - accuracy: 0.9875 - val_loss: 2.6500 - val_accuracy: 0.3560\n",
            "Epoch 10/40\n",
            "648/648 [==============================] - 91s 141ms/step - loss: 0.0593 - accuracy: 0.9918 - val_loss: 2.9977 - val_accuracy: 0.3665\n",
            "Epoch 11/40\n",
            "648/648 [==============================] - 91s 141ms/step - loss: 0.1003 - accuracy: 0.9736 - val_loss: 3.0630 - val_accuracy: 0.3660\n",
            "Epoch 12/40\n",
            "648/648 [==============================] - 91s 141ms/step - loss: 0.0682 - accuracy: 0.9860 - val_loss: 3.0886 - val_accuracy: 0.3765\n",
            "Epoch 13/40\n",
            "648/648 [==============================] - 91s 141ms/step - loss: 0.0695 - accuracy: 0.9816 - val_loss: 3.3608 - val_accuracy: 0.3635\n",
            "Epoch 14/40\n",
            "648/648 [==============================] - 91s 141ms/step - loss: 0.0581 - accuracy: 0.9849 - val_loss: 3.2909 - val_accuracy: 0.3640\n",
            "Epoch 15/40\n",
            "648/648 [==============================] - 91s 141ms/step - loss: 0.0591 - accuracy: 0.9844 - val_loss: 3.4245 - val_accuracy: 0.3660\n",
            "Epoch 16/40\n",
            "648/648 [==============================] - 91s 141ms/step - loss: 0.0515 - accuracy: 0.9860 - val_loss: 3.6271 - val_accuracy: 0.3575\n",
            "Epoch 17/40\n",
            "648/648 [==============================] - 91s 141ms/step - loss: 0.0407 - accuracy: 0.9889 - val_loss: 3.7329 - val_accuracy: 0.3735\n",
            "Epoch 18/40\n",
            "648/648 [==============================] - 91s 141ms/step - loss: 0.0825 - accuracy: 0.9736 - val_loss: 3.5768 - val_accuracy: 0.3745\n",
            "Epoch 19/40\n",
            "648/648 [==============================] - 91s 141ms/step - loss: 0.0492 - accuracy: 0.9855 - val_loss: 3.7312 - val_accuracy: 0.3700\n",
            "Epoch 20/40\n",
            "648/648 [==============================] - 91s 141ms/step - loss: 0.0304 - accuracy: 0.9916 - val_loss: 3.7165 - val_accuracy: 0.3730\n",
            "Epoch 21/40\n",
            "648/648 [==============================] - 91s 141ms/step - loss: 0.0622 - accuracy: 0.9806 - val_loss: 3.9209 - val_accuracy: 0.3810\n",
            "Epoch 22/40\n",
            "648/648 [==============================] - 91s 141ms/step - loss: 0.0340 - accuracy: 0.9897 - val_loss: 3.8924 - val_accuracy: 0.3750\n",
            "Epoch 23/40\n",
            "648/648 [==============================] - 91s 141ms/step - loss: 0.0439 - accuracy: 0.9875 - val_loss: 4.0108 - val_accuracy: 0.3610\n",
            "Epoch 24/40\n",
            "648/648 [==============================] - 92s 141ms/step - loss: 0.0371 - accuracy: 0.9894 - val_loss: 4.0923 - val_accuracy: 0.3665\n",
            "Epoch 25/40\n",
            "648/648 [==============================] - 91s 141ms/step - loss: 0.0416 - accuracy: 0.9869 - val_loss: 3.9090 - val_accuracy: 0.3650\n",
            "Epoch 26/40\n",
            "648/648 [==============================] - 91s 141ms/step - loss: 0.0356 - accuracy: 0.9891 - val_loss: 4.2014 - val_accuracy: 0.3825\n",
            "Epoch 27/40\n",
            "648/648 [==============================] - 91s 141ms/step - loss: 0.0326 - accuracy: 0.9904 - val_loss: 4.0324 - val_accuracy: 0.3795\n",
            "Epoch 28/40\n",
            "648/648 [==============================] - 91s 141ms/step - loss: 0.0328 - accuracy: 0.9902 - val_loss: 4.1469 - val_accuracy: 0.3820\n",
            "Epoch 29/40\n",
            "648/648 [==============================] - 91s 141ms/step - loss: 0.0215 - accuracy: 0.9944 - val_loss: 4.2462 - val_accuracy: 0.3655\n",
            "Epoch 30/40\n",
            "648/648 [==============================] - 91s 141ms/step - loss: 0.0357 - accuracy: 0.9887 - val_loss: 4.0411 - val_accuracy: 0.3855\n",
            "Epoch 31/40\n",
            "648/648 [==============================] - 92s 141ms/step - loss: 0.0507 - accuracy: 0.9822 - val_loss: 4.4420 - val_accuracy: 0.3530\n",
            "Epoch 32/40\n",
            "648/648 [==============================] - 91s 141ms/step - loss: 0.0306 - accuracy: 0.9906 - val_loss: 4.2376 - val_accuracy: 0.3685\n",
            "Epoch 33/40\n",
            "648/648 [==============================] - 91s 141ms/step - loss: 0.0331 - accuracy: 0.9894 - val_loss: 4.3893 - val_accuracy: 0.3700\n",
            "Epoch 34/40\n",
            "648/648 [==============================] - 91s 141ms/step - loss: 0.0305 - accuracy: 0.9905 - val_loss: 4.4026 - val_accuracy: 0.3805\n",
            "Epoch 35/40\n",
            "648/648 [==============================] - 91s 141ms/step - loss: 0.0251 - accuracy: 0.9914 - val_loss: 4.7470 - val_accuracy: 0.3610\n",
            "Epoch 36/40\n",
            "648/648 [==============================] - 91s 141ms/step - loss: 0.0433 - accuracy: 0.9852 - val_loss: 4.0988 - val_accuracy: 0.3885\n",
            "Epoch 37/40\n",
            "648/648 [==============================] - 91s 141ms/step - loss: 0.0230 - accuracy: 0.9931 - val_loss: 4.5300 - val_accuracy: 0.3740\n",
            "Epoch 38/40\n",
            "648/648 [==============================] - 91s 141ms/step - loss: 0.0412 - accuracy: 0.9873 - val_loss: 4.4149 - val_accuracy: 0.3970\n",
            "Epoch 39/40\n",
            "648/648 [==============================] - 92s 141ms/step - loss: 0.0239 - accuracy: 0.9933 - val_loss: 4.5744 - val_accuracy: 0.3860\n",
            "Epoch 40/40\n",
            "648/648 [==============================] - 92s 141ms/step - loss: 0.0422 - accuracy: 0.9861 - val_loss: 4.4038 - val_accuracy: 0.3865\n"
          ],
          "name": "stdout"
        }
      ]
    },
    {
      "cell_type": "code",
      "metadata": {
        "colab": {
          "base_uri": "https://localhost:8080/",
          "height": 388
        },
        "id": "t5yzecEh8zgq",
        "outputId": "60c8d3a9-6fc6-4e84-e9ad-3829be71cc6d"
      },
      "source": [
        "plt.figure(figsize=(16,6))\n",
        "plt.subplot(1,2,1)\n",
        "plot_graphs(history, 'accuracy')\n",
        "plt.subplot(1,2,2)\n",
        "plot_graphs(history, 'loss')"
      ],
      "execution_count": null,
      "outputs": [
        {
          "output_type": "display_data",
          "data": {
            "image/png": "[encoded data removed]",
            "text/plain": [
              "<Figure size 1152x432 with 2 Axes>"
            ]
          },
          "metadata": {
            "tags": [],
            "needs_background": "light"
          }
        }
      ]
    },
    {
      "cell_type": "code",
      "metadata": {
        "colab": {
          "base_uri": "https://localhost:8080/"
        },
        "id": "-3nVyYIp81P7",
        "outputId": "6f7c5beb-90fd-49eb-ddbb-482eb932f916"
      },
      "source": [
        "train_loss, train_acc = model.evaluate(train_batches)\n",
        "print('Train Accuracy: {:.2f}'.format(train_acc))\n",
        "\n",
        "valid_loss, valid_acc = model.evaluate(validate_batches)\n",
        "print('Validation Accuracy: {:.2f}'.format(valid_acc))"
      ],
      "execution_count": null,
      "outputs": [
        {
          "output_type": "stream",
          "text": [
            "648/648 [==============================] - 82s 126ms/step - loss: 0.0163 - accuracy: 0.9945\n",
            "Train Accuracy: 0.99\n",
            "63/63 [==============================] - 8s 126ms/step - loss: 4.4038 - accuracy: 0.3865\n",
            "Validation Accuracy: 0.39\n"
          ],
          "name": "stdout"
        }
      ]
    },
    {
      "cell_type": "markdown",
      "metadata": {
        "id": "TXhog-Re0dDL"
      },
      "source": [
        "## Model 2"
      ]
    },
    {
      "cell_type": "markdown",
      "metadata": {
        "id": "jOpCXQZy0rzK"
      },
      "source": [
        "Add dropout\n",
        "\n",
        "Use early stopper and learning rate reducer"
      ]
    },
    {
      "cell_type": "code",
      "metadata": {
        "colab": {
          "base_uri": "https://localhost:8080/"
        },
        "id": "f32VTtSfDy58",
        "outputId": "1b6655f3-0d96-4b0a-b6e4-56933480836d"
      },
      "source": [
        "vgg16 = VGG16(pooling='avg', include_top=False)\n",
        "\n",
        "for layer in vgg16.layers[:-5]:\n",
        "  layer.trainable = False\n",
        "\n",
        "vgg16.summary()"
      ],
      "execution_count": null,
      "outputs": [
        {
          "output_type": "stream",
          "text": [
            "Model: \"vgg16\"\n",
            "_________________________________________________________________\n",
            "Layer (type)                 Output Shape              Param #   \n",
            "=================================================================\n",
            "input_3 (InputLayer)         [(None, None, None, 3)]   0         \n",
            "_________________________________________________________________\n",
            "block1_conv1 (Conv2D)        (None, None, None, 64)    1792      \n",
            "_________________________________________________________________\n",
            "block1_conv2 (Conv2D)        (None, None, None, 64)    36928     \n",
            "_________________________________________________________________\n",
            "block1_pool (MaxPooling2D)   (None, None, None, 64)    0         \n",
            "_________________________________________________________________\n",
            "block2_conv1 (Conv2D)        (None, None, None, 128)   73856     \n",
            "_________________________________________________________________\n",
            "block2_conv2 (Conv2D)        (None, None, None, 128)   147584    \n",
            "_________________________________________________________________\n",
            "block2_pool (MaxPooling2D)   (None, None, None, 128)   0         \n",
            "_________________________________________________________________\n",
            "block3_conv1 (Conv2D)        (None, None, None, 256)   295168    \n",
            "_________________________________________________________________\n",
            "block3_conv2 (Conv2D)        (None, None, None, 256)   590080    \n",
            "_________________________________________________________________\n",
            "block3_conv3 (Conv2D)        (None, None, None, 256)   590080    \n",
            "_________________________________________________________________\n",
            "block3_pool (MaxPooling2D)   (None, None, None, 256)   0         \n",
            "_________________________________________________________________\n",
            "block4_conv1 (Conv2D)        (None, None, None, 512)   1180160   \n",
            "_________________________________________________________________\n",
            "block4_conv2 (Conv2D)        (None, None, None, 512)   2359808   \n",
            "_________________________________________________________________\n",
            "block4_conv3 (Conv2D)        (None, None, None, 512)   2359808   \n",
            "_________________________________________________________________\n",
            "block4_pool (MaxPooling2D)   (None, None, None, 512)   0         \n",
            "_________________________________________________________________\n",
            "block5_conv1 (Conv2D)        (None, None, None, 512)   2359808   \n",
            "_________________________________________________________________\n",
            "block5_conv2 (Conv2D)        (None, None, None, 512)   2359808   \n",
            "_________________________________________________________________\n",
            "block5_conv3 (Conv2D)        (None, None, None, 512)   2359808   \n",
            "_________________________________________________________________\n",
            "block5_pool (MaxPooling2D)   (None, None, None, 512)   0         \n",
            "_________________________________________________________________\n",
            "global_average_pooling2d (Gl (None, 512)               0         \n",
            "=================================================================\n",
            "Total params: 14,714,688\n",
            "Trainable params: 7,079,424\n",
            "Non-trainable params: 7,635,264\n",
            "_________________________________________________________________\n"
          ],
          "name": "stdout"
        }
      ]
    },
    {
      "cell_type": "code",
      "metadata": {
        "colab": {
          "base_uri": "https://localhost:8080/"
        },
        "id": "sWmzArCvD2_4",
        "outputId": "3d4a9265-8c08-4acf-b82b-9965b291882d"
      },
      "source": [
        "model = Sequential()\n",
        "\n",
        "for layer in vgg16.layers:\n",
        "  model.add(layer)\n",
        "\n",
        "model.add(Dense(1024, activation='relu'))\n",
        "model.add(Dropout(0.5))\n",
        "\n",
        "model.add(Dense(1024, activation='relu'))\n",
        "model.add(Dropout(0.5))\n",
        "\n",
        "model.add(Dense(1024, activation='relu'))\n",
        "model.add(Dropout(0.5))\n",
        "\n",
        "model.add(Dense(7, activation='softmax', name='predictions'))\n",
        "\n",
        "model.summary()"
      ],
      "execution_count": null,
      "outputs": [
        {
          "output_type": "stream",
          "text": [
            "Model: \"sequential_2\"\n",
            "_________________________________________________________________\n",
            "Layer (type)                 Output Shape              Param #   \n",
            "=================================================================\n",
            "block1_conv1 (Conv2D)        (None, None, None, 64)    1792      \n",
            "_________________________________________________________________\n",
            "block1_conv2 (Conv2D)        (None, None, None, 64)    36928     \n",
            "_________________________________________________________________\n",
            "block1_pool (MaxPooling2D)   (None, None, None, 64)    0         \n",
            "_________________________________________________________________\n",
            "block2_conv1 (Conv2D)        (None, None, None, 128)   73856     \n",
            "_________________________________________________________________\n",
            "block2_conv2 (Conv2D)        (None, None, None, 128)   147584    \n",
            "_________________________________________________________________\n",
            "block2_pool (MaxPooling2D)   (None, None, None, 128)   0         \n",
            "_________________________________________________________________\n",
            "block3_conv1 (Conv2D)        (None, None, None, 256)   295168    \n",
            "_________________________________________________________________\n",
            "block3_conv2 (Conv2D)        (None, None, None, 256)   590080    \n",
            "_________________________________________________________________\n",
            "block3_conv3 (Conv2D)        (None, None, None, 256)   590080    \n",
            "_________________________________________________________________\n",
            "block3_pool (MaxPooling2D)   (None, None, None, 256)   0         \n",
            "_________________________________________________________________\n",
            "block4_conv1 (Conv2D)        (None, None, None, 512)   1180160   \n",
            "_________________________________________________________________\n",
            "block4_conv2 (Conv2D)        (None, None, None, 512)   2359808   \n",
            "_________________________________________________________________\n",
            "block4_conv3 (Conv2D)        (None, None, None, 512)   2359808   \n",
            "_________________________________________________________________\n",
            "block4_pool (MaxPooling2D)   (None, None, None, 512)   0         \n",
            "_________________________________________________________________\n",
            "block5_conv1 (Conv2D)        (None, None, None, 512)   2359808   \n",
            "_________________________________________________________________\n",
            "block5_conv2 (Conv2D)        (None, None, None, 512)   2359808   \n",
            "_________________________________________________________________\n",
            "block5_conv3 (Conv2D)        (None, None, None, 512)   2359808   \n",
            "_________________________________________________________________\n",
            "block5_pool (MaxPooling2D)   (None, None, None, 512)   0         \n",
            "_________________________________________________________________\n",
            "global_average_pooling2d (Gl (None, 512)               0         \n",
            "_________________________________________________________________\n",
            "dense_3 (Dense)              (None, 1024)              525312    \n",
            "_________________________________________________________________\n",
            "dropout (Dropout)            (None, 1024)              0         \n",
            "_________________________________________________________________\n",
            "dense_4 (Dense)              (None, 1024)              1049600   \n",
            "_________________________________________________________________\n",
            "dropout_1 (Dropout)          (None, 1024)              0         \n",
            "_________________________________________________________________\n",
            "dense_5 (Dense)              (None, 1024)              1049600   \n",
            "_________________________________________________________________\n",
            "dropout_2 (Dropout)          (None, 1024)              0         \n",
            "_________________________________________________________________\n",
            "predictions (Dense)          (None, 7)                 7175      \n",
            "=================================================================\n",
            "Total params: 17,346,375\n",
            "Trainable params: 9,711,111\n",
            "Non-trainable params: 7,635,264\n",
            "_________________________________________________________________\n"
          ],
          "name": "stdout"
        }
      ]
    },
    {
      "cell_type": "code",
      "metadata": {
        "id": "DqxKV_HiD5gl"
      },
      "source": [
        "model.compile(\n",
        "    optimizer=Nadam(learning_rate=0.001), \n",
        "    loss='categorical_crossentropy', \n",
        "    metrics=['accuracy'])"
      ],
      "execution_count": null,
      "outputs": []
    },
    {
      "cell_type": "code",
      "metadata": {
        "colab": {
          "base_uri": "https://localhost:8080/"
        },
        "id": "nOWGBoygD70h",
        "outputId": "6d706950-ecab-4e12-853a-4c25b563afa4"
      },
      "source": [
        "earlystopper = EarlyStopping(\n",
        "    patience=25,\n",
        "    restore_best_weights=True,\n",
        "    verbose=1)\n",
        "\n",
        "reducer = ReduceLROnPlateau(factor=np.sqrt(0.1), patience=4, verbose=1)\n",
        "\n",
        "history = model.fit(x=train_batches,\n",
        "    steps_per_epoch=len(train_batches),\n",
        "    validation_data=validate_batches,\n",
        "    validation_steps=len(validate_batches),\n",
        "    epochs=40,\n",
        "    callbacks=[earlystopper, reducer]\n",
        ")"
      ],
      "execution_count": null,
      "outputs": [
        {
          "output_type": "stream",
          "text": [
            "Epoch 1/40\n",
            "648/648 [==============================] - 108s 165ms/step - loss: 2.1351 - accuracy: 0.1383 - val_loss: 1.9468 - val_accuracy: 0.1500\n",
            "Epoch 2/40\n",
            "648/648 [==============================] - 106s 164ms/step - loss: 1.9474 - accuracy: 0.1420 - val_loss: 1.9439 - val_accuracy: 0.1500\n",
            "Epoch 3/40\n",
            "648/648 [==============================] - 106s 164ms/step - loss: 1.9470 - accuracy: 0.1419 - val_loss: 1.9422 - val_accuracy: 0.1500\n",
            "Epoch 4/40\n",
            "648/648 [==============================] - 106s 164ms/step - loss: 1.9461 - accuracy: 0.1491 - val_loss: 1.9423 - val_accuracy: 0.1500\n",
            "Epoch 5/40\n",
            "648/648 [==============================] - 106s 164ms/step - loss: 1.9465 - accuracy: 0.1415 - val_loss: 1.9425 - val_accuracy: 0.1500\n",
            "Epoch 6/40\n",
            "648/648 [==============================] - 106s 164ms/step - loss: 1.9462 - accuracy: 0.1437 - val_loss: 1.9430 - val_accuracy: 0.1500\n",
            "Epoch 7/40\n",
            "648/648 [==============================] - 106s 164ms/step - loss: 1.9463 - accuracy: 0.1417 - val_loss: 1.9431 - val_accuracy: 0.1500\n",
            "\n",
            "Epoch 00007: ReduceLROnPlateau reducing learning rate to 0.00031622778103685084.\n",
            "Epoch 8/40\n",
            "648/648 [==============================] - 106s 164ms/step - loss: 1.9461 - accuracy: 0.1413 - val_loss: 1.9432 - val_accuracy: 0.1500\n",
            "Epoch 9/40\n",
            "648/648 [==============================] - 106s 164ms/step - loss: 1.9461 - accuracy: 0.1406 - val_loss: 1.9431 - val_accuracy: 0.1500\n",
            "Epoch 10/40\n",
            "648/648 [==============================] - 106s 164ms/step - loss: 1.9456 - accuracy: 0.1474 - val_loss: 1.9431 - val_accuracy: 0.1500\n",
            "Epoch 11/40\n",
            "648/648 [==============================] - 106s 164ms/step - loss: 1.9458 - accuracy: 0.1446 - val_loss: 1.9431 - val_accuracy: 0.1500\n",
            "\n",
            "Epoch 00011: ReduceLROnPlateau reducing learning rate to 0.00010000000639606199.\n",
            "Epoch 12/40\n",
            "648/648 [==============================] - 106s 164ms/step - loss: 1.9455 - accuracy: 0.1462 - val_loss: 1.9432 - val_accuracy: 0.1500\n",
            "Epoch 13/40\n",
            "648/648 [==============================] - 106s 164ms/step - loss: 1.9456 - accuracy: 0.1476 - val_loss: 1.9432 - val_accuracy: 0.1500\n",
            "Epoch 14/40\n",
            "648/648 [==============================] - 106s 164ms/step - loss: 1.9458 - accuracy: 0.1511 - val_loss: 1.9432 - val_accuracy: 0.1500\n",
            "Epoch 15/40\n",
            "648/648 [==============================] - 106s 164ms/step - loss: 1.9457 - accuracy: 0.1488 - val_loss: 1.9432 - val_accuracy: 0.1500\n",
            "\n",
            "Epoch 00015: ReduceLROnPlateau reducing learning rate to 3.1622778103685084e-05.\n",
            "Epoch 16/40\n",
            "648/648 [==============================] - 106s 164ms/step - loss: 1.9456 - accuracy: 0.1395 - val_loss: 1.9432 - val_accuracy: 0.1500\n",
            "Epoch 17/40\n",
            "648/648 [==============================] - 106s 164ms/step - loss: 1.9457 - accuracy: 0.1417 - val_loss: 1.9432 - val_accuracy: 0.1500\n",
            "Epoch 18/40\n",
            "648/648 [==============================] - 106s 164ms/step - loss: 1.9455 - accuracy: 0.1465 - val_loss: 1.9432 - val_accuracy: 0.1500\n",
            "Epoch 19/40\n",
            "648/648 [==============================] - 106s 164ms/step - loss: 1.9456 - accuracy: 0.1411 - val_loss: 1.9432 - val_accuracy: 0.1500\n",
            "\n",
            "Epoch 00019: ReduceLROnPlateau reducing learning rate to 1.0000000409520217e-05.\n",
            "Epoch 20/40\n",
            "648/648 [==============================] - 107s 165ms/step - loss: 1.9458 - accuracy: 0.1429 - val_loss: 1.9432 - val_accuracy: 0.1500\n",
            "Epoch 21/40\n",
            "648/648 [==============================] - 106s 164ms/step - loss: 1.9459 - accuracy: 0.1447 - val_loss: 1.9432 - val_accuracy: 0.1500\n",
            "Epoch 22/40\n",
            "648/648 [==============================] - 106s 164ms/step - loss: 1.9459 - accuracy: 0.1471 - val_loss: 1.9432 - val_accuracy: 0.1500\n",
            "Epoch 23/40\n",
            "648/648 [==============================] - 106s 164ms/step - loss: 1.9453 - accuracy: 0.1505 - val_loss: 1.9432 - val_accuracy: 0.1500\n",
            "\n",
            "Epoch 00023: ReduceLROnPlateau reducing learning rate to 3.1622778678900043e-06.\n",
            "Epoch 24/40\n",
            "648/648 [==============================] - 106s 164ms/step - loss: 1.9455 - accuracy: 0.1501 - val_loss: 1.9432 - val_accuracy: 0.1500\n",
            "Epoch 25/40\n",
            "648/648 [==============================] - 106s 164ms/step - loss: 1.9458 - accuracy: 0.1436 - val_loss: 1.9432 - val_accuracy: 0.1500\n",
            "Epoch 26/40\n",
            "648/648 [==============================] - 106s 164ms/step - loss: 1.9457 - accuracy: 0.1412 - val_loss: 1.9432 - val_accuracy: 0.1500\n",
            "Epoch 27/40\n",
            "648/648 [==============================] - 106s 164ms/step - loss: 1.9458 - accuracy: 0.1420 - val_loss: 1.9432 - val_accuracy: 0.1500\n",
            "\n",
            "Epoch 00027: ReduceLROnPlateau reducing learning rate to 1.0000000553323957e-06.\n",
            "Epoch 28/40\n",
            "648/648 [==============================] - 106s 164ms/step - loss: 1.9455 - accuracy: 0.1416 - val_loss: 1.9432 - val_accuracy: 0.1500\n",
            "Restoring model weights from the end of the best epoch.\n",
            "Epoch 00028: early stopping\n"
          ],
          "name": "stdout"
        }
      ]
    },
    {
      "cell_type": "code",
      "metadata": {
        "colab": {
          "base_uri": "https://localhost:8080/",
          "height": 387
        },
        "id": "SLUOJ_pZD93q",
        "outputId": "a0aed2b6-260c-4cac-e494-c45a25691aa2"
      },
      "source": [
        "plt.figure(figsize=(16,6))\n",
        "plt.subplot(1,2,1)\n",
        "plot_graphs(history, 'accuracy')\n",
        "plt.subplot(1,2,2)\n",
        "plot_graphs(history, 'loss')"
      ],
      "execution_count": null,
      "outputs": [
        {
          "output_type": "display_data",
          "data": {
            "image/png": "[encoded data removed]",
            "text/plain": [
              "<Figure size 1152x432 with 2 Axes>"
            ]
          },
          "metadata": {
            "tags": [],
            "needs_background": "light"
          }
        }
      ]
    },
    {
      "cell_type": "code",
      "metadata": {
        "colab": {
          "base_uri": "https://localhost:8080/"
        },
        "id": "upfRUTEBEANP",
        "outputId": "bf8a9bee-3853-4c5f-f937-5510da81473f"
      },
      "source": [
        "train_loss, train_acc = model.evaluate(train_batches)\n",
        "print('Train Accuracy: {:.2f}'.format(train_acc))\n",
        "\n",
        "valid_loss, valid_acc = model.evaluate(validate_batches)\n",
        "print('Validation Accuracy: {:.2f}'.format(valid_acc))"
      ],
      "execution_count": null,
      "outputs": [
        {
          "output_type": "stream",
          "text": [
            "648/648 [==============================] - 82s 126ms/step - loss: 1.9458 - accuracy: 0.1448\n",
            "Train Accuracy: 0.14\n",
            "63/63 [==============================] - 8s 126ms/step - loss: 1.9422 - accuracy: 0.1500\n",
            "Validation Accuracy: 0.15\n"
          ],
          "name": "stdout"
        }
      ]
    },
    {
      "cell_type": "markdown",
      "metadata": {
        "id": "UqE0evuBCb5I"
      },
      "source": [
        "## Model 3"
      ]
    },
    {
      "cell_type": "markdown",
      "metadata": {
        "id": "2mv2XyAG086S"
      },
      "source": [
        "Change data batch size\n",
        "\n",
        "Change custom fully-connected layers\n",
        "\n",
        "Add batch normalization"
      ]
    },
    {
      "cell_type": "code",
      "metadata": {
        "colab": {
          "base_uri": "https://localhost:8080/"
        },
        "id": "Vj_dLHePChL5",
        "outputId": "c91da797-72d3-4e32-bfc5-f11ac6b8290b"
      },
      "source": [
        "train_batches = ImageDataGenerator(preprocessing_function=tf.keras.applications.vgg16.preprocess_input) \\\n",
        "    .flow_from_directory(\n",
        "        directory='train', \n",
        "        target_size=(224,224), \n",
        "        classes=labels, \n",
        "        batch_size=64)\n",
        "    \n",
        "validate_batches = ImageDataGenerator(preprocessing_function=tf.keras.applications.vgg16.preprocess_input) \\\n",
        "    .flow_from_directory(\n",
        "        directory='validation', \n",
        "        target_size=(224,224), \n",
        "        classes=labels,\n",
        "        batch_size=64)"
      ],
      "execution_count": null,
      "outputs": [
        {
          "output_type": "stream",
          "text": [
            "Found 20725 images belonging to 7 classes.\n",
            "Found 2000 images belonging to 7 classes.\n"
          ],
          "name": "stdout"
        }
      ]
    },
    {
      "cell_type": "code",
      "metadata": {
        "colab": {
          "base_uri": "https://localhost:8080/"
        },
        "id": "g6bBF2vuChMD",
        "outputId": "cc9c9d43-1d27-4d4e-bc8d-c932eb78d067"
      },
      "source": [
        "vgg16 = VGG16(pooling='max', include_top=False)\n",
        "\n",
        "for layer in vgg16.layers[:-5]:\n",
        "  layer.trainable = False\n",
        "\n",
        "vgg16.summary()"
      ],
      "execution_count": null,
      "outputs": [
        {
          "output_type": "stream",
          "text": [
            "Downloading data from https://storage.googleapis.com/tensorflow/keras-applications/vgg16/vgg16_weights_tf_dim_ordering_tf_kernels_notop.h5\n",
            "58892288/58889256 [==============================] - 0s 0us/step\n",
            "Model: \"vgg16\"\n",
            "_________________________________________________________________\n",
            "Layer (type)                 Output Shape              Param #   \n",
            "=================================================================\n",
            "input_1 (InputLayer)         [(None, None, None, 3)]   0         \n",
            "_________________________________________________________________\n",
            "block1_conv1 (Conv2D)        (None, None, None, 64)    1792      \n",
            "_________________________________________________________________\n",
            "block1_conv2 (Conv2D)        (None, None, None, 64)    36928     \n",
            "_________________________________________________________________\n",
            "block1_pool (MaxPooling2D)   (None, None, None, 64)    0         \n",
            "_________________________________________________________________\n",
            "block2_conv1 (Conv2D)        (None, None, None, 128)   73856     \n",
            "_________________________________________________________________\n",
            "block2_conv2 (Conv2D)        (None, None, None, 128)   147584    \n",
            "_________________________________________________________________\n",
            "block2_pool (MaxPooling2D)   (None, None, None, 128)   0         \n",
            "_________________________________________________________________\n",
            "block3_conv1 (Conv2D)        (None, None, None, 256)   295168    \n",
            "_________________________________________________________________\n",
            "block3_conv2 (Conv2D)        (None, None, None, 256)   590080    \n",
            "_________________________________________________________________\n",
            "block3_conv3 (Conv2D)        (None, None, None, 256)   590080    \n",
            "_________________________________________________________________\n",
            "block3_pool (MaxPooling2D)   (None, None, None, 256)   0         \n",
            "_________________________________________________________________\n",
            "block4_conv1 (Conv2D)        (None, None, None, 512)   1180160   \n",
            "_________________________________________________________________\n",
            "block4_conv2 (Conv2D)        (None, None, None, 512)   2359808   \n",
            "_________________________________________________________________\n",
            "block4_conv3 (Conv2D)        (None, None, None, 512)   2359808   \n",
            "_________________________________________________________________\n",
            "block4_pool (MaxPooling2D)   (None, None, None, 512)   0         \n",
            "_________________________________________________________________\n",
            "block5_conv1 (Conv2D)        (None, None, None, 512)   2359808   \n",
            "_________________________________________________________________\n",
            "block5_conv2 (Conv2D)        (None, None, None, 512)   2359808   \n",
            "_________________________________________________________________\n",
            "block5_conv3 (Conv2D)        (None, None, None, 512)   2359808   \n",
            "_________________________________________________________________\n",
            "block5_pool (MaxPooling2D)   (None, None, None, 512)   0         \n",
            "_________________________________________________________________\n",
            "global_max_pooling2d (Global (None, 512)               0         \n",
            "=================================================================\n",
            "Total params: 14,714,688\n",
            "Trainable params: 7,079,424\n",
            "Non-trainable params: 7,635,264\n",
            "_________________________________________________________________\n"
          ],
          "name": "stdout"
        }
      ]
    },
    {
      "cell_type": "code",
      "metadata": {
        "colab": {
          "base_uri": "https://localhost:8080/"
        },
        "id": "DhyTTLVcChMG",
        "outputId": "b5cc8e1e-284a-4be8-ba3a-50d97d9301a4"
      },
      "source": [
        "model = Sequential()\n",
        "\n",
        "for layer in vgg16.layers:\n",
        "  model.add(layer)\n",
        "\n",
        "model.add(BatchNormalization())\n",
        "model.add(Dropout(0.5))\n",
        "\n",
        "model.add(Dense(256, activation='relu', kernel_initializer= 'he_uniform', kernel_regularizer='l2'))\n",
        "model.add(BatchNormalization())\n",
        "model.add(Dropout(0.5))\n",
        "\n",
        "model.add(Dense(512, activation='relu', kernel_initializer= 'he_uniform', kernel_regularizer='l2'))\n",
        "model.add(BatchNormalization())\n",
        "model.add(Dropout(0.5))\n",
        "\n",
        "model.add(Dense(7, activation='softmax', name='predictions'))\n",
        "\n",
        "model.summary()"
      ],
      "execution_count": null,
      "outputs": [
        {
          "output_type": "stream",
          "text": [
            "Model: \"sequential\"\n",
            "_________________________________________________________________\n",
            "Layer (type)                 Output Shape              Param #   \n",
            "=================================================================\n",
            "block1_conv1 (Conv2D)        (None, None, None, 64)    1792      \n",
            "_________________________________________________________________\n",
            "block1_conv2 (Conv2D)        (None, None, None, 64)    36928     \n",
            "_________________________________________________________________\n",
            "block1_pool (MaxPooling2D)   (None, None, None, 64)    0         \n",
            "_________________________________________________________________\n",
            "block2_conv1 (Conv2D)        (None, None, None, 128)   73856     \n",
            "_________________________________________________________________\n",
            "block2_conv2 (Conv2D)        (None, None, None, 128)   147584    \n",
            "_________________________________________________________________\n",
            "block2_pool (MaxPooling2D)   (None, None, None, 128)   0         \n",
            "_________________________________________________________________\n",
            "block3_conv1 (Conv2D)        (None, None, None, 256)   295168    \n",
            "_________________________________________________________________\n",
            "block3_conv2 (Conv2D)        (None, None, None, 256)   590080    \n",
            "_________________________________________________________________\n",
            "block3_conv3 (Conv2D)        (None, None, None, 256)   590080    \n",
            "_________________________________________________________________\n",
            "block3_pool (MaxPooling2D)   (None, None, None, 256)   0         \n",
            "_________________________________________________________________\n",
            "block4_conv1 (Conv2D)        (None, None, None, 512)   1180160   \n",
            "_________________________________________________________________\n",
            "block4_conv2 (Conv2D)        (None, None, None, 512)   2359808   \n",
            "_________________________________________________________________\n",
            "block4_conv3 (Conv2D)        (None, None, None, 512)   2359808   \n",
            "_________________________________________________________________\n",
            "block4_pool (MaxPooling2D)   (None, None, None, 512)   0         \n",
            "_________________________________________________________________\n",
            "block5_conv1 (Conv2D)        (None, None, None, 512)   2359808   \n",
            "_________________________________________________________________\n",
            "block5_conv2 (Conv2D)        (None, None, None, 512)   2359808   \n",
            "_________________________________________________________________\n",
            "block5_conv3 (Conv2D)        (None, None, None, 512)   2359808   \n",
            "_________________________________________________________________\n",
            "block5_pool (MaxPooling2D)   (None, None, None, 512)   0         \n",
            "_________________________________________________________________\n",
            "global_max_pooling2d (Global (None, 512)               0         \n",
            "_________________________________________________________________\n",
            "batch_normalization (BatchNo (None, 512)               2048      \n",
            "_________________________________________________________________\n",
            "dropout (Dropout)            (None, 512)               0         \n",
            "_________________________________________________________________\n",
            "dense (Dense)                (None, 256)               131328    \n",
            "_________________________________________________________________\n",
            "batch_normalization_1 (Batch (None, 256)               1024      \n",
            "_________________________________________________________________\n",
            "dropout_1 (Dropout)          (None, 256)               0         \n",
            "_________________________________________________________________\n",
            "dense_1 (Dense)              (None, 512)               131584    \n",
            "_________________________________________________________________\n",
            "batch_normalization_2 (Batch (None, 512)               2048      \n",
            "_________________________________________________________________\n",
            "dropout_2 (Dropout)          (None, 512)               0         \n",
            "_________________________________________________________________\n",
            "predictions (Dense)          (None, 7)                 3591      \n",
            "=================================================================\n",
            "Total params: 14,986,311\n",
            "Trainable params: 7,348,487\n",
            "Non-trainable params: 7,637,824\n",
            "_________________________________________________________________\n"
          ],
          "name": "stdout"
        }
      ]
    },
    {
      "cell_type": "code",
      "metadata": {
        "id": "Zkh0zS2zChMI"
      },
      "source": [
        "model.compile(\n",
        "    optimizer=Nadam(learning_rate=0.0001), \n",
        "    loss='categorical_crossentropy', \n",
        "    metrics=['accuracy'])"
      ],
      "execution_count": null,
      "outputs": []
    },
    {
      "cell_type": "code",
      "metadata": {
        "colab": {
          "base_uri": "https://localhost:8080/"
        },
        "id": "YgHQ6Dg8ChMJ",
        "outputId": "44138da3-3bcf-493f-f8f1-67ef52acdf52"
      },
      "source": [
        "earlystopper = EarlyStopping(\n",
        "    patience=10,\n",
        "    restore_best_weights=True,\n",
        "    verbose=1)\n",
        "\n",
        "reducer = ReduceLROnPlateau(factor=np.sqrt(0.1), patience=4, verbose=1)\n",
        "\n",
        "history = model.fit(x=train_batches,\n",
        "    steps_per_epoch=len(train_batches),\n",
        "    validation_data=validate_batches,\n",
        "    validation_steps=len(validate_batches),\n",
        "    epochs=40,\n",
        "    callbacks=[earlystopper, reducer]\n",
        ")"
      ],
      "execution_count": null,
      "outputs": [
        {
          "output_type": "stream",
          "text": [
            "Epoch 1/40\n",
            "324/324 [==============================] - 157s 349ms/step - loss: 17.7923 - accuracy: 0.1865 - val_loss: 15.5478 - val_accuracy: 0.2440\n",
            "Epoch 2/40\n",
            "324/324 [==============================] - 100s 310ms/step - loss: 15.3930 - accuracy: 0.2890 - val_loss: 13.9215 - val_accuracy: 0.1910\n",
            "Epoch 3/40\n",
            "324/324 [==============================] - 100s 309ms/step - loss: 13.5306 - accuracy: 0.2976 - val_loss: 12.1905 - val_accuracy: 0.2515\n",
            "Epoch 4/40\n",
            "324/324 [==============================] - 100s 309ms/step - loss: 11.8077 - accuracy: 0.3216 - val_loss: 11.0617 - val_accuracy: 0.1540\n",
            "Epoch 5/40\n",
            "324/324 [==============================] - 100s 309ms/step - loss: 10.4682 - accuracy: 0.2954 - val_loss: 9.6288 - val_accuracy: 0.1950\n",
            "Epoch 6/40\n",
            "324/324 [==============================] - 100s 309ms/step - loss: 9.1323 - accuracy: 0.3044 - val_loss: 8.3096 - val_accuracy: 0.2770\n",
            "Epoch 7/40\n",
            "324/324 [==============================] - 100s 309ms/step - loss: 7.9446 - accuracy: 0.3223 - val_loss: 7.5603 - val_accuracy: 0.1960\n",
            "Epoch 8/40\n",
            "324/324 [==============================] - 100s 309ms/step - loss: 6.8549 - accuracy: 0.3581 - val_loss: 6.3567 - val_accuracy: 0.3780\n",
            "Epoch 9/40\n",
            "324/324 [==============================] - 100s 309ms/step - loss: 5.9131 - accuracy: 0.3977 - val_loss: 5.6126 - val_accuracy: 0.3605\n",
            "Epoch 10/40\n",
            "324/324 [==============================] - 100s 309ms/step - loss: 5.1152 - accuracy: 0.4262 - val_loss: 4.9286 - val_accuracy: 0.3805\n",
            "Epoch 11/40\n",
            "324/324 [==============================] - 100s 309ms/step - loss: 4.4272 - accuracy: 0.4496 - val_loss: 4.2998 - val_accuracy: 0.4120\n",
            "Epoch 12/40\n",
            "324/324 [==============================] - 100s 309ms/step - loss: 3.8593 - accuracy: 0.4657 - val_loss: 3.7544 - val_accuracy: 0.4340\n",
            "Epoch 13/40\n",
            "324/324 [==============================] - 100s 309ms/step - loss: 3.3561 - accuracy: 0.4869 - val_loss: 3.3473 - val_accuracy: 0.4470\n",
            "Epoch 14/40\n",
            "324/324 [==============================] - 100s 309ms/step - loss: 2.9002 - accuracy: 0.5230 - val_loss: 2.9402 - val_accuracy: 0.4370\n",
            "Epoch 15/40\n",
            "324/324 [==============================] - 100s 309ms/step - loss: 2.5783 - accuracy: 0.5284 - val_loss: 2.7273 - val_accuracy: 0.4430\n",
            "Epoch 16/40\n",
            "324/324 [==============================] - 100s 309ms/step - loss: 2.2840 - accuracy: 0.5464 - val_loss: 2.4826 - val_accuracy: 0.4700\n",
            "Epoch 17/40\n",
            "324/324 [==============================] - 100s 310ms/step - loss: 2.0041 - accuracy: 0.5758 - val_loss: 2.3151 - val_accuracy: 0.4325\n",
            "Epoch 18/40\n",
            "324/324 [==============================] - 100s 310ms/step - loss: 1.8586 - accuracy: 0.5791 - val_loss: 2.2055 - val_accuracy: 0.4685\n",
            "Epoch 19/40\n",
            "324/324 [==============================] - 100s 309ms/step - loss: 1.6259 - accuracy: 0.6277 - val_loss: 3.8569 - val_accuracy: 0.2210\n",
            "Epoch 20/40\n",
            "324/324 [==============================] - 100s 310ms/step - loss: 1.4867 - accuracy: 0.6427 - val_loss: 1.9118 - val_accuracy: 0.5180\n",
            "Epoch 21/40\n",
            "324/324 [==============================] - 100s 310ms/step - loss: 1.3079 - accuracy: 0.6838 - val_loss: 1.8294 - val_accuracy: 0.5095\n",
            "Epoch 22/40\n",
            "324/324 [==============================] - 100s 310ms/step - loss: 1.1618 - accuracy: 0.7135 - val_loss: 1.8410 - val_accuracy: 0.4780\n",
            "Epoch 23/40\n",
            "324/324 [==============================] - 100s 310ms/step - loss: 1.0176 - accuracy: 0.7507 - val_loss: 1.8318 - val_accuracy: 0.5145\n",
            "Epoch 24/40\n",
            "324/324 [==============================] - 100s 310ms/step - loss: 0.8891 - accuracy: 0.7744 - val_loss: 1.7999 - val_accuracy: 0.5170\n",
            "Epoch 25/40\n",
            "324/324 [==============================] - 100s 309ms/step - loss: 0.7729 - accuracy: 0.8094 - val_loss: 1.8279 - val_accuracy: 0.5225\n",
            "Epoch 26/40\n",
            "324/324 [==============================] - 100s 310ms/step - loss: 0.6426 - accuracy: 0.8523 - val_loss: 1.9100 - val_accuracy: 0.5210\n",
            "Epoch 27/40\n",
            "324/324 [==============================] - 101s 310ms/step - loss: 0.5625 - accuracy: 0.8707 - val_loss: 1.9298 - val_accuracy: 0.5330\n",
            "Epoch 28/40\n",
            "324/324 [==============================] - 101s 310ms/step - loss: 0.4803 - accuracy: 0.8932 - val_loss: 2.0106 - val_accuracy: 0.5300\n",
            "\n",
            "Epoch 00028: ReduceLROnPlateau reducing learning rate to 3.1622775802825264e-05.\n",
            "Epoch 29/40\n",
            "324/324 [==============================] - 101s 310ms/step - loss: 0.3433 - accuracy: 0.9413 - val_loss: 2.0071 - val_accuracy: 0.5520\n",
            "Epoch 30/40\n",
            "324/324 [==============================] - 101s 310ms/step - loss: 0.2648 - accuracy: 0.9658 - val_loss: 2.3694 - val_accuracy: 0.5240\n",
            "Epoch 31/40\n",
            "324/324 [==============================] - 100s 310ms/step - loss: 0.2350 - accuracy: 0.9708 - val_loss: 2.2752 - val_accuracy: 0.5530\n",
            "Epoch 32/40\n",
            "324/324 [==============================] - 101s 310ms/step - loss: 0.2112 - accuracy: 0.9781 - val_loss: 2.3195 - val_accuracy: 0.5520\n",
            "\n",
            "Epoch 00032: ReduceLROnPlateau reducing learning rate to 9.999999259090306e-06.\n",
            "Epoch 33/40\n",
            "324/324 [==============================] - 100s 309ms/step - loss: 0.1896 - accuracy: 0.9833 - val_loss: 2.3386 - val_accuracy: 0.5605\n",
            "Epoch 34/40\n",
            "324/324 [==============================] - 101s 310ms/step - loss: 0.1750 - accuracy: 0.9857 - val_loss: 2.3709 - val_accuracy: 0.5525\n",
            "Restoring model weights from the end of the best epoch.\n",
            "Epoch 00034: early stopping\n"
          ],
          "name": "stdout"
        }
      ]
    },
    {
      "cell_type": "code",
      "metadata": {
        "colab": {
          "base_uri": "https://localhost:8080/",
          "height": 388
        },
        "id": "WVw34SaVChML",
        "outputId": "1833f303-d1b0-4cc2-c800-eab9ae3df78a"
      },
      "source": [
        "plt.figure(figsize=(16,6))\n",
        "plt.subplot(1,2,1)\n",
        "plot_graphs(history, 'accuracy')\n",
        "plt.subplot(1,2,2)\n",
        "plot_graphs(history, 'loss')"
      ],
      "execution_count": null,
      "outputs": [
        {
          "output_type": "display_data",
          "data": {
            "image/png": "[encoded data removed]",
            "text/plain": [
              "<Figure size 1152x432 with 2 Axes>"
            ]
          },
          "metadata": {
            "tags": [],
            "needs_background": "light"
          }
        }
      ]
    },
    {
      "cell_type": "code",
      "metadata": {
        "id": "Dkvqg_gWChMN",
        "colab": {
          "base_uri": "https://localhost:8080/"
        },
        "outputId": "4054c549-5c10-4fa5-a980-47342b206944"
      },
      "source": [
        "train_loss, train_acc = model.evaluate(train_batches, verbose=1)\n",
        "print('Train Accuracy: {:.2f}'.format(train_acc))\n",
        "\n",
        "valid_loss, valid_acc = model.evaluate(validate_batches, verbose=1)\n",
        "print('Validation Accuracy: {:.2f}'.format(valid_acc))"
      ],
      "execution_count": null,
      "outputs": [
        {
          "output_type": "stream",
          "text": [
            "324/324 [==============================] - 79s 245ms/step - loss: 0.6967 - accuracy: 0.8450\n",
            "Train Accuracy: 0.85\n",
            "32/32 [==============================] - 8s 241ms/step - loss: 1.7999 - accuracy: 0.5170\n",
            "Validation Accuracy: 0.52\n"
          ],
          "name": "stdout"
        }
      ]
    }
  ]
}