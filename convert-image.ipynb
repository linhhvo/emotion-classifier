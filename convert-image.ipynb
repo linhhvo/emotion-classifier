{
 "metadata": {
  "language_info": {
   "codemirror_mode": {
    "name": "ipython",
    "version": 3
   },
   "file_extension": ".py",
   "mimetype": "text/x-python",
   "name": "python",
   "nbconvert_exporter": "python",
   "pygments_lexer": "ipython3",
   "version": "3.8.5-final"
  },
  "orig_nbformat": 2,
  "kernelspec": {
   "name": "python3",
   "display_name": "Python 3",
   "language": "python"
  }
 },
 "nbformat": 4,
 "nbformat_minor": 2,
 "cells": [
  {
   "cell_type": "code",
   "execution_count": null,
   "metadata": {},
   "outputs": [],
   "source": [
    "import os\n",
    "import glob\n",
    "import random\n",
    "import shutil"
   ]
  },
  {
   "cell_type": "code",
   "execution_count": null,
   "metadata": {},
   "outputs": [],
   "source": [
    "for folder in os.listdir('images/train'):\n",
    "    # for filepath in glob.iglob(f'train/{folder}/*.jpg'):\n",
    "    # print(os.listdir(f'../new-images/train/{folder}'))\n",
    "    # print(folder)\n",
    "    count = len(os.listdir(f'images/train/{folder}'))\n",
    "    print(f'{folder}: {count}')"
   ]
  },
  {
   "cell_type": "code",
   "execution_count": null,
   "metadata": {},
   "outputs": [],
   "source": [
    "for folder in os.listdir('images/validation'):\n",
    "    # for filepath in glob.iglob(f'train/{folder}/*.jpg'):\n",
    "    # print(os.listdir(f'../new-images/train/{folder}'))\n",
    "    # print(folder)\n",
    "    count = len(os.listdir(f'images/validation/{folder}'))\n",
    "    print(f'{folder}: {count}')"
   ]
  },
  {
   "cell_type": "code",
   "execution_count": null,
   "metadata": {},
   "outputs": [],
   "source": [
    "emotions = os.listdir('images/train')\n",
    "emotions"
   ]
  },
  {
   "cell_type": "code",
   "execution_count": null,
   "metadata": {},
   "outputs": [],
   "source": [
    "# os.chdir(f'../images-final')\n",
    "\n",
    "# for emotion in emotions:\n",
    "#   if os.path.isdir(f'train/{emotion}') is False:\n",
    "#     os.makedirs(f'train/{emotion}')\n",
    "#     os.makedirs(f'validate/{emotion}')\n",
    "#     print('Success')\n",
    "#   else:\n",
    "#     print(f'Directories already created for {emotion}')"
   ]
  },
  {
   "cell_type": "code",
   "execution_count": null,
   "metadata": {},
   "outputs": [],
   "source": [
    "# train_cnt = 430\n",
    "# validate_cnt = 100\n",
    "\n",
    "# for emotion in emotions:\n",
    "#     train_list = glob.glob(f'../new-images/train/{emotion}/*.jpg')\n",
    "#     validate_list = glob.glob(f'../new-images/validation/{emotion}/*.jpg')\n",
    "\n",
    "#     for i in random.sample(train_list, train_cnt):\n",
    "#         shutil.copy(i, f'train/{emotion}')\n",
    "\n",
    "#     for i in random.sample(validate_list, validate_cnt):\n",
    "#         shutil.copy(i, f'validate/{emotion}')"
   ]
  },
  {
   "cell_type": "code",
   "execution_count": 47,
   "metadata": {},
   "outputs": [],
   "source": [
    "import tensorflow as tf\n",
    "from tensorflow.keras.preprocessing.image import ImageDataGenerator\n",
    "\n",
    "datagen = ImageDataGenerator(rotation_range=20, width_shift_range=0.1, height_shift_range=0.1, shear_range=0.1, zoom_range=0.2, horizontal_flip=True)\n"
   ]
  },
  {
   "cell_type": "code",
   "execution_count": 48,
   "metadata": {},
   "outputs": [],
   "source": [
    "import matplotlib.pyplot as plt\n",
    "import numpy as np\n",
    "import random\n",
    "for filename in os.listdir('images/train/disgust'):\n",
    "    filename = random.choice(os.listdir('images/train/disgust'))\n",
    "    image_path = 'images/train/disgust/' + filename\n",
    "    image = np.expand_dims(plt.imread(image_path),0)\n",
    "    image = image.reshape(1,48,48,1)\n",
    "    augment = datagen.flow(image,save_to_dir='images/disgust_aug', save_format='jpg', save_prefix='aug')"
   ]
  },
  {
   "cell_type": "code",
   "execution_count": null,
   "metadata": {},
   "outputs": [],
   "source": [
    "plt.imshow(image[0])"
   ]
  },
  {
   "cell_type": "code",
   "execution_count": null,
   "metadata": {},
   "outputs": [],
   "source": [
    "def plotImages(images_arr):\n",
    "    fig, axes = plt.subplots(1, 10, figsize=(20,20))\n",
    "    axes = axes.flatten()\n",
    "    for img, ax in zip( images_arr, axes):\n",
    "        ax.imshow(img)\n",
    "        ax.axis('off')\n",
    "    plt.tight_layout()\n",
    "    plt.show()"
   ]
  },
  {
   "cell_type": "code",
   "execution_count": null,
   "metadata": {},
   "outputs": [],
   "source": [
    "aug_images = [next(augment)[0].astype(np.uint8) for i in range(10)]"
   ]
  },
  {
   "cell_type": "code",
   "execution_count": null,
   "metadata": {},
   "outputs": [],
   "source": [
    "plotImages(aug_images)"
   ]
  },
  {
   "cell_type": "code",
   "execution_count": null,
   "metadata": {},
   "outputs": [],
   "source": [
    "# import albumentations as A\n",
    "# import cv2\n",
    "\n",
    "# transform = A.Compose([\n",
    "#     A.HorizontalFlip(p=0.6),\n",
    "#     A.RandomBrightness(limit=0.1, p=.3),\n",
    "#     A.CLAHE(p=.4),\n",
    "#     A.RandomContrast(limit=0.2, p=.7),\n",
    "#     A.ShiftScaleRotate(border_mode=1, rotate_limit=(-30,30), scale_limit=(0,1))\n",
    "# ])"
   ]
  },
  {
   "cell_type": "code",
   "execution_count": null,
   "metadata": {},
   "outputs": [],
   "source": [
    "# def visualize(image):\n",
    "#     plt.figure(figsize=(5, 5))\n",
    "#     plt.axis('off')\n",
    "#     plt.imshow(image)"
   ]
  },
  {
   "cell_type": "code",
   "execution_count": null,
   "metadata": {},
   "outputs": [],
   "source": [
    "# filename = random.choice(os.listdir('images/train/disgust'))\n",
    "# image_path = 'images/train/disgust/' + filename\n",
    "\n",
    "# image = cv2.imread(image_path)\n",
    "# image = cv2.cvtColor(image, cv2.COLOR_BGR2GRAY)\n",
    "# visualize(image)"
   ]
  },
  {
   "cell_type": "code",
   "execution_count": null,
   "metadata": {},
   "outputs": [],
   "source": [
    "# augmented_image = transform(image=image)['image']\n",
    "# cv2.imwrite('aug.jpg', augmented_image)\n",
    "# visualize(augmented_image)"
   ]
  },
  {
   "cell_type": "code",
   "execution_count": null,
   "metadata": {},
   "outputs": [],
   "source": []
  }
 ]
}