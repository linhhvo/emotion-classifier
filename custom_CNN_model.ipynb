{
  "nbformat": 4,
  "nbformat_minor": 0,
  "metadata": {
    "colab": {
      "name": "custom-model.ipynb",
      "provenance": [],
      "collapsed_sections": [
        "JXj1-KpuaY79"
      ],
      "authorship_tag": "ABX9TyO6H1TFiuz3n/WcOigdeHOL",
      "include_colab_link": true
    },
    "kernelspec": {
      "name": "python3",
      "display_name": "Python 3"
    },
    "language_info": {
      "name": "python"
    },
    "accelerator": "GPU"
  },
  "cells": [
    {
      "cell_type": "markdown",
      "metadata": {
        "id": "view-in-github",
        "colab_type": "text"
      },
      "source": [
        "<a href=\"https://colab.research.google.com/github/linhhvo/emotion-classifier/blob/main/custom_CNN_model.ipynb\" target=\"_parent\"><img src=\"https://colab.research.google.com/assets/colab-badge.svg\" alt=\"Open In Colab\"/></a>"
      ]
    },
    {
      "cell_type": "code",
      "metadata": {
        "colab": {
          "base_uri": "https://localhost:8080/"
        },
        "id": "b2prX5K6pv0o",
        "outputId": "8cbd9532-9b58-4c8f-9063-df83dfb51a63"
      },
      "source": [
        "!pip install ipython-autotime\n",
        "\n",
        "%load_ext autotime"
      ],
      "execution_count": 4,
      "outputs": [
        {
          "output_type": "stream",
          "text": [
            "Collecting ipython-autotime\n",
            "  Downloading https://files.pythonhosted.org/packages/b4/c9/b413a24f759641bc27ef98c144b590023c8038dfb8a3f09e713e9dff12c1/ipython_autotime-0.3.1-py2.py3-none-any.whl\n",
            "Requirement already satisfied: ipython in /usr/local/lib/python3.7/dist-packages (from ipython-autotime) (5.5.0)\n",
            "Requirement already satisfied: decorator in /usr/local/lib/python3.7/dist-packages (from ipython->ipython-autotime) (4.4.2)\n",
            "Requirement already satisfied: pickleshare in /usr/local/lib/python3.7/dist-packages (from ipython->ipython-autotime) (0.7.5)\n",
            "Requirement already satisfied: traitlets>=4.2 in /usr/local/lib/python3.7/dist-packages (from ipython->ipython-autotime) (5.0.5)\n",
            "Requirement already satisfied: pexpect; sys_platform != \"win32\" in /usr/local/lib/python3.7/dist-packages (from ipython->ipython-autotime) (4.8.0)\n",
            "Requirement already satisfied: simplegeneric>0.8 in /usr/local/lib/python3.7/dist-packages (from ipython->ipython-autotime) (0.8.1)\n",
            "Requirement already satisfied: prompt-toolkit<2.0.0,>=1.0.4 in /usr/local/lib/python3.7/dist-packages (from ipython->ipython-autotime) (1.0.18)\n",
            "Requirement already satisfied: pygments in /usr/local/lib/python3.7/dist-packages (from ipython->ipython-autotime) (2.6.1)\n",
            "Requirement already satisfied: setuptools>=18.5 in /usr/local/lib/python3.7/dist-packages (from ipython->ipython-autotime) (56.0.0)\n",
            "Requirement already satisfied: ipython-genutils in /usr/local/lib/python3.7/dist-packages (from traitlets>=4.2->ipython->ipython-autotime) (0.2.0)\n",
            "Requirement already satisfied: ptyprocess>=0.5 in /usr/local/lib/python3.7/dist-packages (from pexpect; sys_platform != \"win32\"->ipython->ipython-autotime) (0.7.0)\n",
            "Requirement already satisfied: wcwidth in /usr/local/lib/python3.7/dist-packages (from prompt-toolkit<2.0.0,>=1.0.4->ipython->ipython-autotime) (0.2.5)\n",
            "Requirement already satisfied: six>=1.9.0 in /usr/local/lib/python3.7/dist-packages (from prompt-toolkit<2.0.0,>=1.0.4->ipython->ipython-autotime) (1.15.0)\n",
            "Installing collected packages: ipython-autotime\n",
            "Successfully installed ipython-autotime-0.3.1\n",
            "time: 121 µs (started: 2021-04-23 14:46:06 +00:00)\n"
          ],
          "name": "stdout"
        }
      ]
    },
    {
      "cell_type": "code",
      "metadata": {
        "colab": {
          "base_uri": "https://localhost:8080/"
        },
        "id": "TzaDqpXdn2Nm",
        "outputId": "aac2ee92-1c06-481c-a90f-4e62373f38b3"
      },
      "source": [
        "import numpy as np\n",
        "import matplotlib.pyplot as plt\n",
        "import tensorflow as tf\n",
        "from tensorflow import keras\n",
        "from tensorflow.keras.models import Sequential\n",
        "from tensorflow.keras.layers import Activation, Dense, Flatten, BatchNormalization, Conv2D, MaxPooling2D, Dropout, GlobalAveragePooling2D\n",
        "from tensorflow.keras.optimizers import Adam, SGD\n",
        "from tensorflow.keras.optimizers.schedules import ExponentialDecay\n",
        "from tensorflow.keras.metrics import categorical_crossentropy\n",
        "from tensorflow.keras.preprocessing.image import ImageDataGenerator\n",
        "from tensorflow.keras.preprocessing import image_dataset_from_directory \n",
        "from tensorflow.keras.models import Model\n",
        "from tensorflow.keras.applications import EfficientNetB0\n",
        "from tensorflow.keras import layers\n",
        "from tensorflow.keras.callbacks import ReduceLROnPlateau, EarlyStopping\n",
        "import sys\n",
        "import os\n",
        "import random"
      ],
      "execution_count": 5,
      "outputs": [
        {
          "output_type": "stream",
          "text": [
            "time: 1.51 s (started: 2021-04-23 14:46:06 +00:00)\n"
          ],
          "name": "stdout"
        }
      ]
    },
    {
      "cell_type": "code",
      "metadata": {
        "colab": {
          "base_uri": "https://localhost:8080/"
        },
        "id": "CzCaz4syn_UM",
        "outputId": "377666a3-38e3-4c0b-bafe-2123a8cd80aa"
      },
      "source": [
        "from google.colab import drive\n",
        "drive.mount(\"/content/drive/\")"
      ],
      "execution_count": 6,
      "outputs": [
        {
          "output_type": "stream",
          "text": [
            "Mounted at /content/drive/\n",
            "time: 25.7 s (started: 2021-04-23 14:46:08 +00:00)\n"
          ],
          "name": "stdout"
        }
      ]
    },
    {
      "cell_type": "code",
      "metadata": {
        "colab": {
          "base_uri": "https://localhost:8080/"
        },
        "id": "XQVRXfK8n_tX",
        "outputId": "4ab33d81-715a-4927-a3cf-908e35fc58cb"
      },
      "source": [
        "!unzip drive/MyDrive/images.zip > /dev/null"
      ],
      "execution_count": 7,
      "outputs": [
        {
          "output_type": "stream",
          "text": [
            "time: 3.06 s (started: 2021-04-23 14:46:33 +00:00)\n"
          ],
          "name": "stdout"
        }
      ]
    },
    {
      "cell_type": "code",
      "metadata": {
        "colab": {
          "base_uri": "https://localhost:8080/"
        },
        "id": "b1IaQ8B2oFiY",
        "outputId": "d0fbdd21-0a87-4d48-87d6-267a5a055dc2"
      },
      "source": [
        "labels = os.listdir('train')\n",
        "labels"
      ],
      "execution_count": 8,
      "outputs": [
        {
          "output_type": "execute_result",
          "data": {
            "text/plain": [
              "['disgust', 'fear', 'sad', 'angry', 'surprise', 'happy', 'neutral']"
            ]
          },
          "metadata": {
            "tags": []
          },
          "execution_count": 8
        },
        {
          "output_type": "stream",
          "text": [
            "time: 6.89 ms (started: 2021-04-23 14:46:37 +00:00)\n"
          ],
          "name": "stdout"
        }
      ]
    },
    {
      "cell_type": "code",
      "metadata": {
        "colab": {
          "base_uri": "https://localhost:8080/"
        },
        "id": "5CzsdzUGoHJe",
        "outputId": "1caee803-0c90-4ee8-e1a5-94ba783de86b"
      },
      "source": [
        "np.random.seed(212)\n",
        "tf.random.set_seed(101)"
      ],
      "execution_count": 9,
      "outputs": [
        {
          "output_type": "stream",
          "text": [
            "time: 2.78 ms (started: 2021-04-23 14:46:37 +00:00)\n"
          ],
          "name": "stdout"
        }
      ]
    },
    {
      "cell_type": "code",
      "metadata": {
        "colab": {
          "base_uri": "https://localhost:8080/"
        },
        "id": "Y4oYqT4DoIe8",
        "outputId": "61a140aa-d160-433d-920f-f3df446e63fd"
      },
      "source": [
        "train_batches = image_dataset_from_directory(\n",
        "    directory='train', \n",
        "    label_mode='categorical',\n",
        "    image_size=(48, 48), \n",
        "    # batch_size=100,\n",
        "    color_mode='grayscale')\n",
        "\n",
        "validate_batches = image_dataset_from_directory(\n",
        "    directory='validation', \n",
        "    label_mode='categorical',\n",
        "    image_size=(48, 48), \n",
        "    color_mode='grayscale', \n",
        "    # batch_size=100, \n",
        "    shuffle=False)"
      ],
      "execution_count": 29,
      "outputs": [
        {
          "output_type": "stream",
          "text": [
            "Found 20725 files belonging to 7 classes.\n",
            "Found 2000 files belonging to 7 classes.\n",
            "time: 995 ms (started: 2021-04-23 15:53:06 +00:00)\n"
          ],
          "name": "stdout"
        }
      ]
    },
    {
      "cell_type": "code",
      "metadata": {
        "colab": {
          "base_uri": "https://localhost:8080/"
        },
        "id": "bx-ZiHfwTrnp",
        "outputId": "f42a1e1e-e7ac-4f74-b653-0b70371e78f1"
      },
      "source": [
        "test_batches = image_dataset_from_directory(\n",
        "    directory='drive/MyDrive/test',\n",
        "    label_mode='categorical',\n",
        "    image_size=(48,48),\n",
        "    color_mode='grayscale'\n",
        ")"
      ],
      "execution_count": 11,
      "outputs": [
        {
          "output_type": "stream",
          "text": [
            "Found 193 files belonging to 7 classes.\n",
            "time: 638 ms (started: 2021-04-23 14:46:43 +00:00)\n"
          ],
          "name": "stdout"
        }
      ]
    },
    {
      "cell_type": "markdown",
      "metadata": {
        "id": "JXj1-KpuaY79"
      },
      "source": [
        "## Model 1"
      ]
    },
    {
      "cell_type": "code",
      "metadata": {
        "colab": {
          "base_uri": "https://localhost:8080/"
        },
        "id": "J7e-bmQEqtBj",
        "outputId": "4823cac5-0c0b-4406-a375-c5b4198d6ffd"
      },
      "source": [
        "model = Sequential()\n",
        "\n",
        "model.add(Conv2D(128, 3, activation='relu', padding='same', input_shape=(48,48,1)))\n",
        "model.add(Conv2D(128, 3, activation='relu', padding='same'))\n",
        "\n",
        "model.add(MaxPooling2D())\n",
        "\n",
        "model.add(Conv2D(128, 3, activation='relu', padding='same'))\n",
        "model.add(Conv2D(128, 3, activation='relu', padding='same'))\n",
        "\n",
        "model.add(MaxPooling2D())\n",
        "\n",
        "model.add(Conv2D(64, 3, activation='relu', padding='same'))\n",
        "model.add(Conv2D(64, 3, activation='relu', padding='same'))\n",
        "\n",
        "model.add(MaxPooling2D())\n",
        "\n",
        "model.add(Conv2D(256, 3, activation='relu', padding='same'))\n",
        "model.add(Conv2D(256, 3, activation='relu', padding='same'))\n",
        "\n",
        "\n",
        "model.add(Flatten())\n",
        "model.add(Dense(1024, activation='relu'))\n",
        "\n",
        "model.add(Dense(7, activation='softmax'))\n",
        "\n",
        "model.summary()"
      ],
      "execution_count": 12,
      "outputs": [
        {
          "output_type": "stream",
          "text": [
            "Model: \"sequential\"\n",
            "_________________________________________________________________\n",
            "Layer (type)                 Output Shape              Param #   \n",
            "=================================================================\n",
            "conv2d (Conv2D)              (None, 48, 48, 128)       1280      \n",
            "_________________________________________________________________\n",
            "conv2d_1 (Conv2D)            (None, 48, 48, 128)       147584    \n",
            "_________________________________________________________________\n",
            "max_pooling2d (MaxPooling2D) (None, 24, 24, 128)       0         \n",
            "_________________________________________________________________\n",
            "conv2d_2 (Conv2D)            (None, 24, 24, 128)       147584    \n",
            "_________________________________________________________________\n",
            "conv2d_3 (Conv2D)            (None, 24, 24, 128)       147584    \n",
            "_________________________________________________________________\n",
            "max_pooling2d_1 (MaxPooling2 (None, 12, 12, 128)       0         \n",
            "_________________________________________________________________\n",
            "conv2d_4 (Conv2D)            (None, 12, 12, 64)        73792     \n",
            "_________________________________________________________________\n",
            "conv2d_5 (Conv2D)            (None, 12, 12, 64)        36928     \n",
            "_________________________________________________________________\n",
            "max_pooling2d_2 (MaxPooling2 (None, 6, 6, 64)          0         \n",
            "_________________________________________________________________\n",
            "conv2d_6 (Conv2D)            (None, 6, 6, 256)         147712    \n",
            "_________________________________________________________________\n",
            "conv2d_7 (Conv2D)            (None, 6, 6, 256)         590080    \n",
            "_________________________________________________________________\n",
            "flatten (Flatten)            (None, 9216)              0         \n",
            "_________________________________________________________________\n",
            "dense (Dense)                (None, 1024)              9438208   \n",
            "_________________________________________________________________\n",
            "dense_1 (Dense)              (None, 7)                 7175      \n",
            "=================================================================\n",
            "Total params: 10,737,927\n",
            "Trainable params: 10,737,927\n",
            "Non-trainable params: 0\n",
            "_________________________________________________________________\n",
            "time: 270 ms (started: 2021-04-23 14:46:44 +00:00)\n"
          ],
          "name": "stdout"
        }
      ]
    },
    {
      "cell_type": "code",
      "metadata": {
        "colab": {
          "base_uri": "https://localhost:8080/"
        },
        "id": "jqBYcYJzr_6x",
        "outputId": "3e5d3678-455c-4e79-81b8-952b7cb6f4a2"
      },
      "source": [
        "model.compile(\n",
        "    optimizer=Adam(learning_rate=0.001), \n",
        "    loss='categorical_crossentropy', \n",
        "    metrics=['accuracy'])"
      ],
      "execution_count": 13,
      "outputs": [
        {
          "output_type": "stream",
          "text": [
            "time: 14 ms (started: 2021-04-23 14:46:44 +00:00)\n"
          ],
          "name": "stdout"
        }
      ]
    },
    {
      "cell_type": "code",
      "metadata": {
        "colab": {
          "base_uri": "https://localhost:8080/"
        },
        "id": "0KYvb_losS39",
        "outputId": "cbeda859-bef4-455d-fcd0-3dce4d88fc4b"
      },
      "source": [
        "history = model.fit(x=train_batches,\n",
        "    steps_per_epoch=len(train_batches),\n",
        "    validation_data=validate_batches,\n",
        "    validation_steps=len(validate_batches),\n",
        "    epochs=30\n",
        ")"
      ],
      "execution_count": 14,
      "outputs": [
        {
          "output_type": "stream",
          "text": [
            "Epoch 1/30\n",
            "208/208 [==============================] - 54s 97ms/step - loss: 3.0889 - accuracy: 0.1709 - val_loss: 1.8399 - val_accuracy: 0.2450\n",
            "Epoch 2/30\n",
            "208/208 [==============================] - 20s 94ms/step - loss: 1.7337 - accuracy: 0.3244 - val_loss: 1.7682 - val_accuracy: 0.2920\n",
            "Epoch 3/30\n",
            "208/208 [==============================] - 20s 93ms/step - loss: 1.5998 - accuracy: 0.3793 - val_loss: 1.6868 - val_accuracy: 0.3575\n",
            "Epoch 4/30\n",
            "208/208 [==============================] - 20s 93ms/step - loss: 1.4850 - accuracy: 0.4329 - val_loss: 1.6371 - val_accuracy: 0.3830\n",
            "Epoch 5/30\n",
            "208/208 [==============================] - 20s 93ms/step - loss: 1.3595 - accuracy: 0.4792 - val_loss: 1.5884 - val_accuracy: 0.4005\n",
            "Epoch 6/30\n",
            "208/208 [==============================] - 20s 93ms/step - loss: 1.2385 - accuracy: 0.5319 - val_loss: 1.6220 - val_accuracy: 0.4100\n",
            "Epoch 7/30\n",
            "208/208 [==============================] - 20s 93ms/step - loss: 1.1180 - accuracy: 0.5777 - val_loss: 1.8136 - val_accuracy: 0.4115\n",
            "Epoch 8/30\n",
            "208/208 [==============================] - 20s 93ms/step - loss: 0.9855 - accuracy: 0.6335 - val_loss: 2.0271 - val_accuracy: 0.4205\n",
            "Epoch 9/30\n",
            "208/208 [==============================] - 20s 94ms/step - loss: 0.8367 - accuracy: 0.6880 - val_loss: 2.1541 - val_accuracy: 0.4250\n",
            "Epoch 10/30\n",
            "208/208 [==============================] - 20s 95ms/step - loss: 0.6718 - accuracy: 0.7515 - val_loss: 2.6478 - val_accuracy: 0.4025\n",
            "Epoch 11/30\n",
            "208/208 [==============================] - 20s 94ms/step - loss: 0.5600 - accuracy: 0.7976 - val_loss: 2.8904 - val_accuracy: 0.4135\n",
            "Epoch 12/30\n",
            "208/208 [==============================] - 20s 94ms/step - loss: 0.4615 - accuracy: 0.8396 - val_loss: 3.1889 - val_accuracy: 0.3935\n",
            "Epoch 13/30\n",
            "208/208 [==============================] - 20s 94ms/step - loss: 0.3914 - accuracy: 0.8626 - val_loss: 3.5877 - val_accuracy: 0.4010\n",
            "Epoch 14/30\n",
            "208/208 [==============================] - 20s 95ms/step - loss: 0.3550 - accuracy: 0.8798 - val_loss: 3.2158 - val_accuracy: 0.4175\n",
            "Epoch 15/30\n",
            "208/208 [==============================] - 20s 94ms/step - loss: 0.2894 - accuracy: 0.8967 - val_loss: 3.4996 - val_accuracy: 0.4290\n",
            "Epoch 16/30\n",
            "208/208 [==============================] - 20s 94ms/step - loss: 0.2447 - accuracy: 0.9198 - val_loss: 3.8552 - val_accuracy: 0.4295\n",
            "Epoch 17/30\n",
            "208/208 [==============================] - 20s 95ms/step - loss: 0.2120 - accuracy: 0.9310 - val_loss: 3.5005 - val_accuracy: 0.4115\n",
            "Epoch 18/30\n",
            "208/208 [==============================] - 20s 94ms/step - loss: 0.1785 - accuracy: 0.9418 - val_loss: 3.7820 - val_accuracy: 0.4445\n",
            "Epoch 19/30\n",
            "208/208 [==============================] - 20s 94ms/step - loss: 0.1615 - accuracy: 0.9460 - val_loss: 3.6199 - val_accuracy: 0.4295\n",
            "Epoch 20/30\n",
            "208/208 [==============================] - 20s 93ms/step - loss: 0.1984 - accuracy: 0.9408 - val_loss: 4.4746 - val_accuracy: 0.3965\n",
            "Epoch 21/30\n",
            "208/208 [==============================] - 20s 94ms/step - loss: 0.1733 - accuracy: 0.9471 - val_loss: 4.7069 - val_accuracy: 0.4185\n",
            "Epoch 22/30\n",
            "208/208 [==============================] - 20s 95ms/step - loss: 0.1500 - accuracy: 0.9540 - val_loss: 4.1481 - val_accuracy: 0.4260\n",
            "Epoch 23/30\n",
            "208/208 [==============================] - 20s 95ms/step - loss: 0.1190 - accuracy: 0.9644 - val_loss: 4.6420 - val_accuracy: 0.4250\n",
            "Epoch 24/30\n",
            "208/208 [==============================] - 20s 95ms/step - loss: 0.1105 - accuracy: 0.9649 - val_loss: 4.8662 - val_accuracy: 0.4225\n",
            "Epoch 25/30\n",
            "208/208 [==============================] - 20s 95ms/step - loss: 0.1113 - accuracy: 0.9652 - val_loss: 4.0350 - val_accuracy: 0.4375\n",
            "Epoch 26/30\n",
            "208/208 [==============================] - 20s 95ms/step - loss: 0.0884 - accuracy: 0.9713 - val_loss: 4.5813 - val_accuracy: 0.4270\n",
            "Epoch 27/30\n",
            "208/208 [==============================] - 20s 94ms/step - loss: 0.1063 - accuracy: 0.9682 - val_loss: 4.9483 - val_accuracy: 0.4210\n",
            "Epoch 28/30\n",
            "208/208 [==============================] - 20s 95ms/step - loss: 0.0980 - accuracy: 0.9705 - val_loss: 4.6084 - val_accuracy: 0.4120\n",
            "Epoch 29/30\n",
            "208/208 [==============================] - 20s 95ms/step - loss: 0.0908 - accuracy: 0.9712 - val_loss: 4.6667 - val_accuracy: 0.4295\n",
            "Epoch 30/30\n",
            "208/208 [==============================] - 20s 95ms/step - loss: 0.0872 - accuracy: 0.9749 - val_loss: 4.4986 - val_accuracy: 0.4215\n",
            "time: 10min 29s (started: 2021-04-23 14:46:44 +00:00)\n"
          ],
          "name": "stdout"
        }
      ]
    },
    {
      "cell_type": "code",
      "metadata": {
        "colab": {
          "base_uri": "https://localhost:8080/",
          "height": 406
        },
        "id": "ssotGpLNsY49",
        "outputId": "c0f8088d-eb7d-42a0-f176-54fbbbe4eefd"
      },
      "source": [
        "def plot_graphs(history, metric):\n",
        "  plt.plot(history.history[metric])\n",
        "  plt.plot(history.history['val_'+metric], '') # for validation results\n",
        "  plt.xlabel(\"Epochs\")\n",
        "  plt.ylabel(metric)\n",
        "  plt.legend([metric, 'val_'+metric])\n",
        "\n",
        "plt.figure(figsize=(16,6))\n",
        "plt.subplot(1,2,1)\n",
        "plot_graphs(history, 'accuracy')\n",
        "plt.subplot(1,2,2)\n",
        "plot_graphs(history, 'loss')"
      ],
      "execution_count": 15,
      "outputs": [
        {
          "output_type": "display_data",
          "data": {
            "image/png": "[encoded data removed]",
            "text/plain": [
              "<Figure size 1152x432 with 2 Axes>"
            ]
          },
          "metadata": {
            "tags": [],
            "needs_background": "light"
          }
        },
        {
          "output_type": "stream",
          "text": [
            "time: 408 ms (started: 2021-04-23 14:57:14 +00:00)\n"
          ],
          "name": "stdout"
        }
      ]
    },
    {
      "cell_type": "code",
      "metadata": {
        "colab": {
          "base_uri": "https://localhost:8080/"
        },
        "id": "uIVnTkF0sWqf",
        "outputId": "63c711dd-ff14-42d1-e39b-9d6e73c1d660"
      },
      "source": [
        "train_loss, train_acc = model.evaluate(train_batches, verbose=0)\n",
        "print('Train Accuracy: {:.2f}'.format(train_acc))\n",
        "\n",
        "valid_loss, valid_acc = model.evaluate(validate_batches, verbose=0)\n",
        "print('Validation Accuracy: {:.2f}'.format(valid_acc))\n",
        "\n",
        "test_loss, test_acc = model.evaluate(test_batches, verbose=0)\n",
        "print('Test Accuracy: {:.2f}'.format(test_acc))"
      ],
      "execution_count": 16,
      "outputs": [
        {
          "output_type": "stream",
          "text": [
            "Train Accuracy: 0.88\n",
            "Validation Accuracy: 0.42\n",
            "Test Accuracy: 0.42\n",
            "time: 1min 7s (started: 2021-04-23 14:57:14 +00:00)\n"
          ],
          "name": "stdout"
        }
      ]
    },
    {
      "cell_type": "markdown",
      "metadata": {
        "id": "5vZqHsWLai_v"
      },
      "source": [
        "## Model 2"
      ]
    },
    {
      "cell_type": "code",
      "metadata": {
        "id": "RcsecF7-lFX0",
        "colab": {
          "base_uri": "https://localhost:8080/"
        },
        "outputId": "a3646aa6-6872-47d2-901c-3183f44d6ff9"
      },
      "source": [
        "np.random.seed(212)\n",
        "tf.random.set_seed(101)"
      ],
      "execution_count": 17,
      "outputs": [
        {
          "output_type": "stream",
          "text": [
            "time: 7.85 ms (started: 2021-04-23 14:58:22 +00:00)\n"
          ],
          "name": "stdout"
        }
      ]
    },
    {
      "cell_type": "code",
      "metadata": {
        "colab": {
          "base_uri": "https://localhost:8080/"
        },
        "id": "osmM1MOYaEu5",
        "outputId": "36e8c6ee-ea4d-475d-ab4f-88a1048a8e9f"
      },
      "source": [
        "model_2 = Sequential()\n",
        "\n",
        "model_2.add(Conv2D(128, 3, \n",
        "\tactivation='relu', \n",
        "\tpadding='same', \n",
        "\tinput_shape=(48,48,1), \n",
        "\tkernel_regularizer='l2')) #added regularizer\n",
        "model_2.add(BatchNormalization())\n",
        "\n",
        "model_2.add(Conv2D(128, 3, activation='relu', padding='same'))\n",
        "model_2.add(BatchNormalization())\n",
        "\n",
        "model_2.add(MaxPooling2D())\n",
        "model_2.add(Dropout(0.5))\n",
        "\n",
        "model_2.add(Conv2D(128, 3, activation='relu', padding='same'))\n",
        "model_2.add(BatchNormalization())\n",
        "\n",
        "model_2.add(Conv2D(128, 3, activation='relu', padding='same'))\n",
        "model_2.add(BatchNormalization())\n",
        "\n",
        "model_2.add(MaxPooling2D())\n",
        "model_2.add(Dropout(0.5))\n",
        "\n",
        "model_2.add(Conv2D(64, 3, activation='relu', padding='same'))\n",
        "model_2.add(BatchNormalization())\n",
        "\n",
        "model_2.add(Conv2D(64, 3, activation='relu', padding='same'))\n",
        "model_2.add(BatchNormalization())\n",
        "\n",
        "model_2.add(MaxPooling2D())\n",
        "model_2.add(Dropout(0.5))\n",
        "\n",
        "model_2.add(Conv2D(256, 3, activation='relu', padding='same'))\n",
        "model_2.add(BatchNormalization())\n",
        "\n",
        "model_2.add(Conv2D(256, 3, activation='relu', padding='same'))\n",
        "model_2.add(BatchNormalization())\n",
        "\n",
        "model_2.add(MaxPooling2D())\n",
        "model_2.add(Dropout(0.5))\n",
        "\n",
        "model_2.add(Flatten())\n",
        "\n",
        "model_2.add(Dense(1024, activation='relu'))\n",
        "model_2.add(BatchNormalization())\n",
        "model_2.add(Dropout(0.5))\n",
        "\n",
        "# added this block\n",
        "model_2.add(Dense(512, activation='relu'))\n",
        "model_2.add(BatchNormalization())\n",
        "model_2.add(Dropout(0.5))\n",
        "\n",
        "model_2.add(Dense(7, activation='softmax'))\n",
        "\n",
        "model_2.summary()"
      ],
      "execution_count": 30,
      "outputs": [
        {
          "output_type": "stream",
          "text": [
            "Model: \"sequential_3\"\n",
            "_________________________________________________________________\n",
            "Layer (type)                 Output Shape              Param #   \n",
            "=================================================================\n",
            "conv2d_24 (Conv2D)           (None, 48, 48, 128)       1280      \n",
            "_________________________________________________________________\n",
            "batch_normalization_20 (Batc (None, 48, 48, 128)       512       \n",
            "_________________________________________________________________\n",
            "conv2d_25 (Conv2D)           (None, 48, 48, 128)       147584    \n",
            "_________________________________________________________________\n",
            "batch_normalization_21 (Batc (None, 48, 48, 128)       512       \n",
            "_________________________________________________________________\n",
            "max_pooling2d_11 (MaxPooling (None, 24, 24, 128)       0         \n",
            "_________________________________________________________________\n",
            "dropout_12 (Dropout)         (None, 24, 24, 128)       0         \n",
            "_________________________________________________________________\n",
            "conv2d_26 (Conv2D)           (None, 24, 24, 128)       147584    \n",
            "_________________________________________________________________\n",
            "batch_normalization_22 (Batc (None, 24, 24, 128)       512       \n",
            "_________________________________________________________________\n",
            "conv2d_27 (Conv2D)           (None, 24, 24, 128)       147584    \n",
            "_________________________________________________________________\n",
            "batch_normalization_23 (Batc (None, 24, 24, 128)       512       \n",
            "_________________________________________________________________\n",
            "max_pooling2d_12 (MaxPooling (None, 12, 12, 128)       0         \n",
            "_________________________________________________________________\n",
            "dropout_13 (Dropout)         (None, 12, 12, 128)       0         \n",
            "_________________________________________________________________\n",
            "conv2d_28 (Conv2D)           (None, 12, 12, 64)        73792     \n",
            "_________________________________________________________________\n",
            "batch_normalization_24 (Batc (None, 12, 12, 64)        256       \n",
            "_________________________________________________________________\n",
            "conv2d_29 (Conv2D)           (None, 12, 12, 64)        36928     \n",
            "_________________________________________________________________\n",
            "batch_normalization_25 (Batc (None, 12, 12, 64)        256       \n",
            "_________________________________________________________________\n",
            "max_pooling2d_13 (MaxPooling (None, 6, 6, 64)          0         \n",
            "_________________________________________________________________\n",
            "dropout_14 (Dropout)         (None, 6, 6, 64)          0         \n",
            "_________________________________________________________________\n",
            "conv2d_30 (Conv2D)           (None, 6, 6, 256)         147712    \n",
            "_________________________________________________________________\n",
            "batch_normalization_26 (Batc (None, 6, 6, 256)         1024      \n",
            "_________________________________________________________________\n",
            "conv2d_31 (Conv2D)           (None, 6, 6, 256)         590080    \n",
            "_________________________________________________________________\n",
            "batch_normalization_27 (Batc (None, 6, 6, 256)         1024      \n",
            "_________________________________________________________________\n",
            "max_pooling2d_14 (MaxPooling (None, 3, 3, 256)         0         \n",
            "_________________________________________________________________\n",
            "dropout_15 (Dropout)         (None, 3, 3, 256)         0         \n",
            "_________________________________________________________________\n",
            "flatten_3 (Flatten)          (None, 2304)              0         \n",
            "_________________________________________________________________\n",
            "dense_8 (Dense)              (None, 1024)              2360320   \n",
            "_________________________________________________________________\n",
            "batch_normalization_28 (Batc (None, 1024)              4096      \n",
            "_________________________________________________________________\n",
            "dropout_16 (Dropout)         (None, 1024)              0         \n",
            "_________________________________________________________________\n",
            "dense_9 (Dense)              (None, 512)               524800    \n",
            "_________________________________________________________________\n",
            "batch_normalization_29 (Batc (None, 512)               2048      \n",
            "_________________________________________________________________\n",
            "dropout_17 (Dropout)         (None, 512)               0         \n",
            "_________________________________________________________________\n",
            "dense_10 (Dense)             (None, 7)                 3591      \n",
            "=================================================================\n",
            "Total params: 4,192,007\n",
            "Trainable params: 4,186,631\n",
            "Non-trainable params: 5,376\n",
            "_________________________________________________________________\n",
            "time: 270 ms (started: 2021-04-23 15:53:55 +00:00)\n"
          ],
          "name": "stdout"
        }
      ]
    },
    {
      "cell_type": "code",
      "metadata": {
        "colab": {
          "base_uri": "https://localhost:8080/"
        },
        "id": "Ib_pRBG-aGGj",
        "outputId": "8c13c74b-c1f1-4bfc-c59b-5f07adfd5873"
      },
      "source": [
        "lr_schedule = ExponentialDecay(0.001, decay_steps=100000, decay_rate=0.95, staircase=True)\n",
        "\n",
        "model_2.compile(\n",
        "    optimizer=Adam(learning_rate=lr_schedule), # used nadam optimizer\n",
        "    loss='categorical_crossentropy', \n",
        "    metrics=['accuracy'])"
      ],
      "execution_count": 31,
      "outputs": [
        {
          "output_type": "stream",
          "text": [
            "time: 12.1 ms (started: 2021-04-23 15:53:56 +00:00)\n"
          ],
          "name": "stdout"
        }
      ]
    },
    {
      "cell_type": "code",
      "metadata": {
        "colab": {
          "base_uri": "https://localhost:8080/"
        },
        "id": "g5qDYmsFaKyt",
        "outputId": "083fb4d6-3440-4f5b-a666-877914f5a310"
      },
      "source": [
        "earlystopper = EarlyStopping(\n",
        "    patience=20,\n",
        "    restore_best_weights=True,\n",
        "    verbose=1)\n",
        "\n",
        "reducelr = ReduceLROnPlateau(\n",
        "    factor=np.sqrt(.1),\n",
        "    patience=5,\n",
        "    verbose=1)\n",
        "\n",
        "history_2 = model_2.fit(x=train_batches,\n",
        "    steps_per_epoch=len(train_batches),\n",
        "    validation_data=validate_batches,\n",
        "    validation_steps=len(validate_batches),\n",
        "    epochs=50,\n",
        "    callbacks=[earlystopper, reducelr]\n",
        ")"
      ],
      "execution_count": 32,
      "outputs": [
        {
          "output_type": "stream",
          "text": [
            "Epoch 1/50\n",
            "648/648 [==============================] - 32s 44ms/step - loss: 2.6848 - accuracy: 0.1735 - val_loss: 1.8691 - val_accuracy: 0.2515\n",
            "Epoch 2/50\n",
            "648/648 [==============================] - 27s 42ms/step - loss: 1.9484 - accuracy: 0.2653 - val_loss: 1.8424 - val_accuracy: 0.3025\n",
            "Epoch 3/50\n",
            "648/648 [==============================] - 27s 42ms/step - loss: 1.6249 - accuracy: 0.3798 - val_loss: 1.7924 - val_accuracy: 0.3815\n",
            "Epoch 4/50\n",
            "648/648 [==============================] - 27s 42ms/step - loss: 1.4698 - accuracy: 0.4406 - val_loss: 1.8296 - val_accuracy: 0.3790\n",
            "Epoch 5/50\n",
            "648/648 [==============================] - 27s 41ms/step - loss: 1.3588 - accuracy: 0.4875 - val_loss: 1.6520 - val_accuracy: 0.4155\n",
            "Epoch 6/50\n",
            "648/648 [==============================] - 27s 41ms/step - loss: 1.2828 - accuracy: 0.5160 - val_loss: 1.5848 - val_accuracy: 0.4195\n",
            "Epoch 7/50\n",
            "648/648 [==============================] - 27s 41ms/step - loss: 1.2296 - accuracy: 0.5369 - val_loss: 1.4274 - val_accuracy: 0.4645\n",
            "Epoch 8/50\n",
            "648/648 [==============================] - 27s 41ms/step - loss: 1.2031 - accuracy: 0.5476 - val_loss: 1.4908 - val_accuracy: 0.4620\n",
            "Epoch 9/50\n",
            "648/648 [==============================] - 27s 42ms/step - loss: 1.1835 - accuracy: 0.5576 - val_loss: 1.3824 - val_accuracy: 0.4865\n",
            "Epoch 10/50\n",
            "648/648 [==============================] - 27s 42ms/step - loss: 1.1506 - accuracy: 0.5634 - val_loss: 1.6285 - val_accuracy: 0.4460\n",
            "Epoch 11/50\n",
            "648/648 [==============================] - 27s 42ms/step - loss: 1.1085 - accuracy: 0.5797 - val_loss: 1.6238 - val_accuracy: 0.4340\n",
            "Epoch 12/50\n",
            "648/648 [==============================] - 27s 42ms/step - loss: 1.0832 - accuracy: 0.5894 - val_loss: 1.4085 - val_accuracy: 0.5035\n",
            "Epoch 13/50\n",
            "648/648 [==============================] - 27s 42ms/step - loss: 1.0715 - accuracy: 0.5984 - val_loss: 1.5042 - val_accuracy: 0.4945\n",
            "Epoch 14/50\n",
            "648/648 [==============================] - 27s 42ms/step - loss: 1.0587 - accuracy: 0.6030 - val_loss: 1.3060 - val_accuracy: 0.5265\n",
            "Epoch 15/50\n",
            "648/648 [==============================] - 27s 42ms/step - loss: 1.0210 - accuracy: 0.6115 - val_loss: 1.3138 - val_accuracy: 0.5270\n",
            "Epoch 16/50\n",
            "648/648 [==============================] - 27s 42ms/step - loss: 1.0051 - accuracy: 0.6210 - val_loss: 15.6439 - val_accuracy: 0.1005\n",
            "Epoch 17/50\n",
            "648/648 [==============================] - 27s 42ms/step - loss: 0.9864 - accuracy: 0.6290 - val_loss: 1.4002 - val_accuracy: 0.5120\n",
            "Epoch 18/50\n",
            "648/648 [==============================] - 27s 42ms/step - loss: 0.9630 - accuracy: 0.6386 - val_loss: 1.3666 - val_accuracy: 0.5005\n",
            "Epoch 19/50\n",
            "648/648 [==============================] - 27s 42ms/step - loss: 0.9411 - accuracy: 0.6467 - val_loss: 1.2936 - val_accuracy: 0.5415\n",
            "Epoch 20/50\n",
            "648/648 [==============================] - 27s 42ms/step - loss: 0.9404 - accuracy: 0.6454 - val_loss: 1.3374 - val_accuracy: 0.5435\n",
            "Epoch 21/50\n",
            "648/648 [==============================] - 27s 42ms/step - loss: 0.9246 - accuracy: 0.6559 - val_loss: 1.3303 - val_accuracy: 0.5340\n",
            "Epoch 22/50\n",
            "648/648 [==============================] - 27s 42ms/step - loss: 0.9109 - accuracy: 0.6577 - val_loss: 2.3968 - val_accuracy: 0.3580\n",
            "Epoch 23/50\n",
            "648/648 [==============================] - 27s 42ms/step - loss: 0.8770 - accuracy: 0.6735 - val_loss: 1.2849 - val_accuracy: 0.5555\n",
            "Epoch 24/50\n",
            "648/648 [==============================] - 27s 42ms/step - loss: 0.8717 - accuracy: 0.6713 - val_loss: 1.2832 - val_accuracy: 0.5625\n",
            "Epoch 25/50\n",
            "648/648 [==============================] - 28s 42ms/step - loss: 0.8575 - accuracy: 0.6752 - val_loss: 1.3912 - val_accuracy: 0.5325\n",
            "Epoch 26/50\n",
            "648/648 [==============================] - 27s 42ms/step - loss: 0.8514 - accuracy: 0.6790 - val_loss: 1.2540 - val_accuracy: 0.5795\n",
            "Epoch 27/50\n",
            "648/648 [==============================] - 27s 42ms/step - loss: 0.8266 - accuracy: 0.6924 - val_loss: 1.2259 - val_accuracy: 0.5640\n",
            "Epoch 28/50\n",
            "648/648 [==============================] - 27s 42ms/step - loss: 0.8180 - accuracy: 0.6973 - val_loss: 1.4636 - val_accuracy: 0.5345\n",
            "Epoch 29/50\n",
            "648/648 [==============================] - 27s 42ms/step - loss: 0.7954 - accuracy: 0.7030 - val_loss: 1.2043 - val_accuracy: 0.5780\n",
            "Epoch 30/50\n",
            "648/648 [==============================] - 27s 42ms/step - loss: 0.8008 - accuracy: 0.7016 - val_loss: 1.2788 - val_accuracy: 0.5725\n",
            "Epoch 31/50\n",
            "648/648 [==============================] - 27s 42ms/step - loss: 0.7784 - accuracy: 0.7129 - val_loss: 1.3109 - val_accuracy: 0.5645\n",
            "Epoch 32/50\n",
            "648/648 [==============================] - 27s 41ms/step - loss: 0.7604 - accuracy: 0.7221 - val_loss: 1.2930 - val_accuracy: 0.5750\n",
            "Epoch 33/50\n",
            "648/648 [==============================] - 27s 41ms/step - loss: 0.7710 - accuracy: 0.7117 - val_loss: 1.2398 - val_accuracy: 0.5780\n",
            "Epoch 34/50\n",
            "648/648 [==============================] - 27s 42ms/step - loss: 0.7418 - accuracy: 0.7285 - val_loss: 1.2194 - val_accuracy: 0.5875\n",
            "\n",
            "Epoch 00034: ReduceLROnPlateau reducing learning rate to 0.00031622778103685084.\n",
            "Epoch 35/50\n",
            "648/648 [==============================] - 27s 42ms/step - loss: 0.6895 - accuracy: 0.7422 - val_loss: 1.2758 - val_accuracy: 0.5695\n",
            "Epoch 36/50\n",
            "648/648 [==============================] - 27s 42ms/step - loss: 0.6630 - accuracy: 0.7552 - val_loss: 1.2270 - val_accuracy: 0.5945\n",
            "Epoch 37/50\n",
            "648/648 [==============================] - 28s 42ms/step - loss: 0.6487 - accuracy: 0.7585 - val_loss: 1.2618 - val_accuracy: 0.5755\n",
            "Epoch 38/50\n",
            "648/648 [==============================] - 27s 42ms/step - loss: 0.6415 - accuracy: 0.7636 - val_loss: 1.2581 - val_accuracy: 0.5890\n",
            "Epoch 39/50\n",
            "648/648 [==============================] - 27s 42ms/step - loss: 0.6231 - accuracy: 0.7693 - val_loss: 1.3181 - val_accuracy: 0.5790\n",
            "\n",
            "Epoch 00039: ReduceLROnPlateau reducing learning rate to 0.00010000000639606199.\n",
            "Epoch 40/50\n",
            "648/648 [==============================] - 27s 42ms/step - loss: 0.6001 - accuracy: 0.7785 - val_loss: 1.2664 - val_accuracy: 0.5945\n",
            "Epoch 41/50\n",
            "648/648 [==============================] - 27s 42ms/step - loss: 0.5812 - accuracy: 0.7884 - val_loss: 1.2711 - val_accuracy: 0.6005\n",
            "Epoch 42/50\n",
            "648/648 [==============================] - 28s 43ms/step - loss: 0.5818 - accuracy: 0.7838 - val_loss: 1.2826 - val_accuracy: 0.5985\n",
            "Epoch 43/50\n",
            "648/648 [==============================] - 27s 42ms/step - loss: 0.5780 - accuracy: 0.7803 - val_loss: 1.2815 - val_accuracy: 0.5995\n",
            "Epoch 44/50\n",
            "648/648 [==============================] - 27s 42ms/step - loss: 0.5729 - accuracy: 0.7887 - val_loss: 1.2935 - val_accuracy: 0.5975\n",
            "\n",
            "Epoch 00044: ReduceLROnPlateau reducing learning rate to 3.1622778103685084e-05.\n",
            "Epoch 45/50\n",
            "648/648 [==============================] - 27s 42ms/step - loss: 0.5660 - accuracy: 0.7943 - val_loss: 1.2884 - val_accuracy: 0.5985\n",
            "Epoch 46/50\n",
            "648/648 [==============================] - 27s 42ms/step - loss: 0.5546 - accuracy: 0.7968 - val_loss: 1.2831 - val_accuracy: 0.6010\n",
            "Epoch 47/50\n",
            "648/648 [==============================] - 27s 42ms/step - loss: 0.5511 - accuracy: 0.7971 - val_loss: 1.2898 - val_accuracy: 0.6010\n",
            "Epoch 48/50\n",
            "648/648 [==============================] - 28s 42ms/step - loss: 0.5502 - accuracy: 0.7976 - val_loss: 1.2874 - val_accuracy: 0.6015\n",
            "Epoch 49/50\n",
            "648/648 [==============================] - 27s 42ms/step - loss: 0.5506 - accuracy: 0.7915 - val_loss: 1.2974 - val_accuracy: 0.5990\n",
            "Restoring model weights from the end of the best epoch.\n",
            "\n",
            "Epoch 00049: ReduceLROnPlateau reducing learning rate to 1.0000000409520217e-05.\n",
            "Epoch 00049: early stopping\n",
            "time: 22min 19s (started: 2021-04-23 15:53:56 +00:00)\n"
          ],
          "name": "stdout"
        }
      ]
    },
    {
      "cell_type": "code",
      "metadata": {
        "colab": {
          "base_uri": "https://localhost:8080/",
          "height": 406
        },
        "id": "kB6aEAWLaN6z",
        "outputId": "90a65e18-e7b1-4123-bf17-3a0f39748b7d"
      },
      "source": [
        "plt.figure(figsize=(16,6))\n",
        "plt.subplot(1,2,1)\n",
        "plot_graphs(history_2, 'accuracy')\n",
        "plt.subplot(1,2,2)\n",
        "plot_graphs(history_2, 'loss')"
      ],
      "execution_count": 33,
      "outputs": [
        {
          "output_type": "display_data",
          "data": {
            "image/png": "[encoded data removed]",
            "text/plain": [
              "<Figure size 1152x432 with 2 Axes>"
            ]
          },
          "metadata": {
            "tags": [],
            "needs_background": "light"
          }
        },
        {
          "output_type": "stream",
          "text": [
            "time: 332 ms (started: 2021-04-23 16:16:15 +00:00)\n"
          ],
          "name": "stdout"
        }
      ]
    },
    {
      "cell_type": "code",
      "metadata": {
        "colab": {
          "base_uri": "https://localhost:8080/"
        },
        "id": "wzXs4ZbGaPn3",
        "outputId": "7bc2a89a-f8d9-4269-aeea-0beaf6c5e317"
      },
      "source": [
        "train_loss_2, train_acc_2 = model_2.evaluate(train_batches, verbose=0)\n",
        "print('Train Accuracy: {:.2f}'.format(train_acc_2))\n",
        "\n",
        "valid_loss_2, valid_acc_2 = model_2.evaluate(validate_batches, verbose=0)\n",
        "print('Validation Accuracy: {:.2f}'.format(valid_acc_2))\n",
        "\n",
        "test_loss_2, test_acc_2 = model_2.evaluate(test_batches, verbose=0)\n",
        "print('Test Accuracy: {:.2f}'.format(test_acc_2))"
      ],
      "execution_count": 34,
      "outputs": [
        {
          "output_type": "stream",
          "text": [
            "Train Accuracy: 0.78\n",
            "Validation Accuracy: 0.58\n",
            "Test Accuracy: 0.46\n",
            "time: 12.3 s (started: 2021-04-23 16:16:15 +00:00)\n"
          ],
          "name": "stdout"
        }
      ]
    },
    {
      "cell_type": "code",
      "metadata": {
        "colab": {
          "base_uri": "https://localhost:8080/"
        },
        "id": "DbMqAo_ej68O",
        "outputId": "e20ad524-05e3-4243-e410-04a72fa93874"
      },
      "source": [
        "print(test_batches.take(1))"
      ],
      "execution_count": 37,
      "outputs": [
        {
          "output_type": "stream",
          "text": [
            "<TakeDataset shapes: ((None, 48, 48, 1), (None, 7)), types: (tf.float32, tf.float32)>\n",
            "time: 5.75 ms (started: 2021-04-23 16:34:06 +00:00)\n"
          ],
          "name": "stdout"
        }
      ]
    },
    {
      "cell_type": "code",
      "metadata": {
        "colab": {
          "base_uri": "https://localhost:8080/"
        },
        "id": "EkABsvSzluf4",
        "outputId": "c7500094-c293-4a64-d142-0d6ee11ee262"
      },
      "source": [
        "predictions = model.predict(test_batches)\n",
        "print(np.argmax(predictions[0]))\n",
        "print()"
      ],
      "execution_count": 44,
      "outputs": [
        {
          "output_type": "stream",
          "text": [
            "0\n",
            "\n",
            "time: 280 ms (started: 2021-04-23 16:37:24 +00:00)\n"
          ],
          "name": "stdout"
        }
      ]
    },
    {
      "cell_type": "code",
      "metadata": {
        "id": "f9QVT8f-l_hH"
      },
      "source": [
        "test_labels[0]"
      ],
      "execution_count": null,
      "outputs": []
    },
    {
      "cell_type": "code",
      "metadata": {
        "id": "9s7UpqSojeC0"
      },
      "source": [
        "plt.figure(figsize=(10, 10))\n",
        "class_names = test_batches.class_names\n",
        "for images, labels in test_batches.take(1):\n",
        "    for i in range(32):\n",
        "        ax = plt.subplot(6, 6, i + 1)\n",
        "        plt.imshow(images[i], cmap=plt.cm.binary)\n",
        "        plt.title(class_names[labels[i]])\n",
        "        plt.axis(\"off\")"
      ],
      "execution_count": null,
      "outputs": []
    }
  ]
}