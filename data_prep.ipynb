{
  "nbformat": 4,
  "nbformat_minor": 0,
  "metadata": {
    "colab": {
      "name": "images-prep.ipynb",
      "provenance": []
    },
    "kernelspec": {
      "name": "python3",
      "display_name": "Python 3",
      "language": "python"
    },
    "language_info": {
      "name": "python",
      "version": "3.8.5-final"
    }
  },
  "cells": [
    {
      "cell_type": "code",
      "metadata": {
        "id": "RqIA3Yrtq7vA"
      },
      "source": [
        "import numpy as np\n",
        "import pandas as pd\n",
        "import matplotlib.pyplot as plt\n",
        "import tensorflow as tf\n",
        "from tensorflow import keras\n",
        "from tensorflow.keras.metrics import categorical_crossentropy\n",
        "from tensorflow.keras.preprocessing.image import ImageDataGenerator\n",
        "import sys\n",
        "import os\n",
        "import shutil\n",
        "import random\n",
        "# import glob"
      ],
      "execution_count": 1,
      "outputs": []
    },
    {
      "cell_type": "code",
      "metadata": {
        "colab": {
          "base_uri": "https://localhost:8080/",
          "height": 424
        },
        "id": "sP1X9U7_2P_l",
        "outputId": "101446e2-cb9b-4059-f647-f6c56ad292b1"
      },
      "source": [
        "df=pd.read_csv('data/legend.csv', low_memory=False)\n",
        "df"
      ],
      "execution_count": 2,
      "outputs": [
        {
          "output_type": "execute_result",
          "data": {
            "text/plain": [
              "       user.id                            image    emotion\n",
              "0          628  facial-expressions_2868588k.jpg      anger\n",
              "1          628  facial-expressions_2868585k.jpg   surprise\n",
              "2          628  facial-expressions_2868584k.jpg    disgust\n",
              "3          628  facial-expressions_2868582k.jpg       fear\n",
              "4        dwdii           Aaron_Eckhart_0001.jpg    neutral\n",
              "...        ...                              ...        ...\n",
              "13685  jhamski            SharmilaTagore_80.jpg  HAPPINESS\n",
              "13686  jhamski            SharmilaTagore_81.jpg  HAPPINESS\n",
              "13687  jhamski            SharmilaTagore_82.jpg  HAPPINESS\n",
              "13688  jhamski            SharmilaTagore_83.jpg  HAPPINESS\n",
              "13689  jhamski             SharmilaTagore_9.jpg  HAPPINESS\n",
              "\n",
              "[13690 rows x 3 columns]"
            ],
            "text/html": "<div>\n<style scoped>\n    .dataframe tbody tr th:only-of-type {\n        vertical-align: middle;\n    }\n\n    .dataframe tbody tr th {\n        vertical-align: top;\n    }\n\n    .dataframe thead th {\n        text-align: right;\n    }\n</style>\n<table border=\"1\" class=\"dataframe\">\n  <thead>\n    <tr style=\"text-align: right;\">\n      <th></th>\n      <th>user.id</th>\n      <th>image</th>\n      <th>emotion</th>\n    </tr>\n  </thead>\n  <tbody>\n    <tr>\n      <th>0</th>\n      <td>628</td>\n      <td>facial-expressions_2868588k.jpg</td>\n      <td>anger</td>\n    </tr>\n    <tr>\n      <th>1</th>\n      <td>628</td>\n      <td>facial-expressions_2868585k.jpg</td>\n      <td>surprise</td>\n    </tr>\n    <tr>\n      <th>2</th>\n      <td>628</td>\n      <td>facial-expressions_2868584k.jpg</td>\n      <td>disgust</td>\n    </tr>\n    <tr>\n      <th>3</th>\n      <td>628</td>\n      <td>facial-expressions_2868582k.jpg</td>\n      <td>fear</td>\n    </tr>\n    <tr>\n      <th>4</th>\n      <td>dwdii</td>\n      <td>Aaron_Eckhart_0001.jpg</td>\n      <td>neutral</td>\n    </tr>\n    <tr>\n      <th>...</th>\n      <td>...</td>\n      <td>...</td>\n      <td>...</td>\n    </tr>\n    <tr>\n      <th>13685</th>\n      <td>jhamski</td>\n      <td>SharmilaTagore_80.jpg</td>\n      <td>HAPPINESS</td>\n    </tr>\n    <tr>\n      <th>13686</th>\n      <td>jhamski</td>\n      <td>SharmilaTagore_81.jpg</td>\n      <td>HAPPINESS</td>\n    </tr>\n    <tr>\n      <th>13687</th>\n      <td>jhamski</td>\n      <td>SharmilaTagore_82.jpg</td>\n      <td>HAPPINESS</td>\n    </tr>\n    <tr>\n      <th>13688</th>\n      <td>jhamski</td>\n      <td>SharmilaTagore_83.jpg</td>\n      <td>HAPPINESS</td>\n    </tr>\n    <tr>\n      <th>13689</th>\n      <td>jhamski</td>\n      <td>SharmilaTagore_9.jpg</td>\n      <td>HAPPINESS</td>\n    </tr>\n  </tbody>\n</table>\n<p>13690 rows × 3 columns</p>\n</div>"
          },
          "metadata": {},
          "execution_count": 2
        }
      ]
    },
    {
      "cell_type": "code",
      "metadata": {
        "colab": {
          "base_uri": "https://localhost:8080/",
          "height": 551
        },
        "id": "UV9vPO6SnZrv",
        "outputId": "7a5a91f4-8771-4706-fa0d-1e509cbc99f0"
      },
      "source": [
        "# List of duplicate entries\n",
        "df[df.duplicated(subset='image', keep=False) == True]"
      ],
      "execution_count": 3,
      "outputs": [
        {
          "output_type": "execute_result",
          "data": {
            "text/plain": [
              "       user.id                       image    emotion\n",
              "7270     dwdii  Kimberly_Bruckner_0001.jpg  happiness\n",
              "7271     dwdii   Kimberly_Stewart_0001.jpg  happiness\n",
              "7272     dwdii     Kimi_Raikkonen_0001.jpg    neutral\n",
              "7273     dwdii     Kimi_Raikkonen_0002.jpg    neutral\n",
              "7274     dwdii     Kimi_Raikkonen_0003.jpg    neutral\n",
              "7275     dwdii         Kimora_Lee_0001.jpg  happiness\n",
              "7328     JN721  Kimberly_Bruckner_0001.jpg  happiness\n",
              "7329     JN721   Kimberly_Stewart_0001.jpg  happiness\n",
              "7330     JN721     Kimi_Raikkonen_0001.jpg    neutral\n",
              "7331     JN721     Kimi_Raikkonen_0002.jpg    neutral\n",
              "7332     JN721     Kimi_Raikkonen_0003.jpg    neutral\n",
              "7333     JN721         Kimora_Lee_0001.jpg  happiness\n",
              "7740     JN721          Lin_Yi-fu_0001.jpg    neutral\n",
              "7783     dwdii          Lin_Yi-fu_0001.jpg    neutral\n",
              "12792  jhamski              Avinash_30.jpg   SURPRISE\n",
              "12799  jhamski              Avinash_30.jpg    SADNESS"
            ],
            "text/html": "<div>\n<style scoped>\n    .dataframe tbody tr th:only-of-type {\n        vertical-align: middle;\n    }\n\n    .dataframe tbody tr th {\n        vertical-align: top;\n    }\n\n    .dataframe thead th {\n        text-align: right;\n    }\n</style>\n<table border=\"1\" class=\"dataframe\">\n  <thead>\n    <tr style=\"text-align: right;\">\n      <th></th>\n      <th>user.id</th>\n      <th>image</th>\n      <th>emotion</th>\n    </tr>\n  </thead>\n  <tbody>\n    <tr>\n      <th>7270</th>\n      <td>dwdii</td>\n      <td>Kimberly_Bruckner_0001.jpg</td>\n      <td>happiness</td>\n    </tr>\n    <tr>\n      <th>7271</th>\n      <td>dwdii</td>\n      <td>Kimberly_Stewart_0001.jpg</td>\n      <td>happiness</td>\n    </tr>\n    <tr>\n      <th>7272</th>\n      <td>dwdii</td>\n      <td>Kimi_Raikkonen_0001.jpg</td>\n      <td>neutral</td>\n    </tr>\n    <tr>\n      <th>7273</th>\n      <td>dwdii</td>\n      <td>Kimi_Raikkonen_0002.jpg</td>\n      <td>neutral</td>\n    </tr>\n    <tr>\n      <th>7274</th>\n      <td>dwdii</td>\n      <td>Kimi_Raikkonen_0003.jpg</td>\n      <td>neutral</td>\n    </tr>\n    <tr>\n      <th>7275</th>\n      <td>dwdii</td>\n      <td>Kimora_Lee_0001.jpg</td>\n      <td>happiness</td>\n    </tr>\n    <tr>\n      <th>7328</th>\n      <td>JN721</td>\n      <td>Kimberly_Bruckner_0001.jpg</td>\n      <td>happiness</td>\n    </tr>\n    <tr>\n      <th>7329</th>\n      <td>JN721</td>\n      <td>Kimberly_Stewart_0001.jpg</td>\n      <td>happiness</td>\n    </tr>\n    <tr>\n      <th>7330</th>\n      <td>JN721</td>\n      <td>Kimi_Raikkonen_0001.jpg</td>\n      <td>neutral</td>\n    </tr>\n    <tr>\n      <th>7331</th>\n      <td>JN721</td>\n      <td>Kimi_Raikkonen_0002.jpg</td>\n      <td>neutral</td>\n    </tr>\n    <tr>\n      <th>7332</th>\n      <td>JN721</td>\n      <td>Kimi_Raikkonen_0003.jpg</td>\n      <td>neutral</td>\n    </tr>\n    <tr>\n      <th>7333</th>\n      <td>JN721</td>\n      <td>Kimora_Lee_0001.jpg</td>\n      <td>happiness</td>\n    </tr>\n    <tr>\n      <th>7740</th>\n      <td>JN721</td>\n      <td>Lin_Yi-fu_0001.jpg</td>\n      <td>neutral</td>\n    </tr>\n    <tr>\n      <th>7783</th>\n      <td>dwdii</td>\n      <td>Lin_Yi-fu_0001.jpg</td>\n      <td>neutral</td>\n    </tr>\n    <tr>\n      <th>12792</th>\n      <td>jhamski</td>\n      <td>Avinash_30.jpg</td>\n      <td>SURPRISE</td>\n    </tr>\n    <tr>\n      <th>12799</th>\n      <td>jhamski</td>\n      <td>Avinash_30.jpg</td>\n      <td>SADNESS</td>\n    </tr>\n  </tbody>\n</table>\n</div>"
          },
          "metadata": {},
          "execution_count": 3
        }
      ]
    },
    {
      "cell_type": "code",
      "metadata": {
        "colab": {
          "base_uri": "https://localhost:8080/",
          "height": 49
        },
        "id": "hzcCJSgHqAQk",
        "outputId": "d894266e-a350-469f-ac0a-7e618a4359fe"
      },
      "source": [
        "# Remove all duplicates\n",
        "df.drop_duplicates(subset='image', inplace=True, ignore_index=True)\n",
        "\n",
        "# Check to see if there are any duplicate left\n",
        "df[df.duplicated(subset='image', keep=False) == True]"
      ],
      "execution_count": 4,
      "outputs": [
        {
          "output_type": "execute_result",
          "data": {
            "text/plain": [
              "Empty DataFrame\n",
              "Columns: [user.id, image, emotion]\n",
              "Index: []"
            ],
            "text/html": "<div>\n<style scoped>\n    .dataframe tbody tr th:only-of-type {\n        vertical-align: middle;\n    }\n\n    .dataframe tbody tr th {\n        vertical-align: top;\n    }\n\n    .dataframe thead th {\n        text-align: right;\n    }\n</style>\n<table border=\"1\" class=\"dataframe\">\n  <thead>\n    <tr style=\"text-align: right;\">\n      <th></th>\n      <th>user.id</th>\n      <th>image</th>\n      <th>emotion</th>\n    </tr>\n  </thead>\n  <tbody>\n  </tbody>\n</table>\n</div>"
          },
          "metadata": {},
          "execution_count": 4
        }
      ]
    },
    {
      "cell_type": "code",
      "metadata": {
        "colab": {
          "base_uri": "https://localhost:8080/"
        },
        "id": "lgfrnS2s2yr3",
        "outputId": "2b036b43-c08f-436b-f365-bcc9f6741586"
      },
      "source": [
        "# Drop user id column\n",
        "df.drop(columns='user.id', inplace=True)\n",
        "\n",
        "# Change all values in emotion column to lowercase\n",
        "df.emotion = df.emotion.str.lower()\n",
        "df.emotion.unique()"
      ],
      "execution_count": 5,
      "outputs": [
        {
          "output_type": "execute_result",
          "data": {
            "text/plain": [
              "array(['anger', 'surprise', 'disgust', 'fear', 'neutral', 'happiness',\n",
              "       'sadness', 'contempt'], dtype=object)"
            ]
          },
          "metadata": {},
          "execution_count": 5
        }
      ]
    },
    {
      "cell_type": "code",
      "metadata": {
        "colab": {
          "base_uri": "https://localhost:8080/"
        },
        "id": "bQxlYnU04iPd",
        "outputId": "f20495f8-5331-415e-e1ae-accf2dadd2e5"
      },
      "source": [
        "emotions = list(df.emotion.unique())\n",
        "emotions"
      ],
      "execution_count": 6,
      "outputs": [
        {
          "output_type": "execute_result",
          "data": {
            "text/plain": [
              "['anger',\n",
              " 'surprise',\n",
              " 'disgust',\n",
              " 'fear',\n",
              " 'neutral',\n",
              " 'happiness',\n",
              " 'sadness',\n",
              " 'contempt']"
            ]
          },
          "metadata": {},
          "execution_count": 6
        }
      ]
    },
    {
      "cell_type": "code",
      "metadata": {
        "colab": {
          "base_uri": "https://localhost:8080/"
        },
        "id": "SU3WDRzv4wDg",
        "outputId": "a0cbe078-9857-4bad-9fb1-1a0845961fcd"
      },
      "source": [
        "os.chdir(f'images')\n",
        "\n",
        "for emotion in emotions:\n",
        "  if os.path.isdir(f'train/{emotion}') is False:\n",
        "    os.makedirs(f'train/{emotion}')\n",
        "    os.makedirs(f'validate/{emotion}')\n",
        "    os.makedirs(f'test/{emotion}')\n",
        "    print('Success')\n",
        "  else:\n",
        "    print(f'Directories already created for {emotion}')"
      ],
      "execution_count": 8,
      "outputs": [
        {
          "output_type": "stream",
          "name": "stdout",
          "text": [
            "Success\nSuccess\nSuccess\nSuccess\nSuccess\nSuccess\nSuccess\nSuccess\n"
          ]
        }
      ]
    },
    {
      "cell_type": "code",
      "metadata": {
        "id": "gGhndEI7ndBE"
      },
      "source": [
        "emotions_dict = {\n",
        "    'anger' : [],\n",
        "    'surprise' : [],\n",
        "    'disgust' : [],\n",
        "    'fear' : [],\n",
        "    'neutral' : [],\n",
        "    'happiness' : [],\n",
        "    'sadness' : [],\n",
        "    'contempt' : []\n",
        "}"
      ],
      "execution_count": 17,
      "outputs": []
    },
    {
      "cell_type": "code",
      "metadata": {
        "id": "BKUJAelF5HLv"
      },
      "source": [
        "# Add image names from legend.csv to the appropriate emotion list\n",
        "# These lists will be used later to get random sample for train data, validation data, and test data\n",
        "\n",
        "for idx, row in df.iterrows():\n",
        "  if row['emotion'] in emotions_dict:\n",
        "    emotions_dict[row['emotion']].append(row['image'])"
      ],
      "execution_count": 18,
      "outputs": []
    },
    {
      "cell_type": "code",
      "metadata": {
        "colab": {
          "base_uri": "https://localhost:8080/"
        },
        "id": "82SS6ieorHC-",
        "outputId": "5bd0ae0b-9363-4705-a526-6b8839f6018f"
      },
      "source": [
        "# sanity check - make sure all records in the legend.csv are added to lists\n",
        "sum = 0\n",
        "\n",
        "for emotion, image_list in emotions_dict.items():\n",
        "  print(f'{emotion}: {len(image_list)}')\n",
        "  sum += len(image_list)\n",
        "\n",
        "print(f'\\nTotal records: {sum}')\n",
        "print(len(df))"
      ],
      "execution_count": 19,
      "outputs": [
        {
          "output_type": "stream",
          "name": "stdout",
          "text": [
            "anger: 252\nsurprise: 368\ndisgust: 208\nfear: 21\nneutral: 6864\nhappiness: 5693\nsadness: 267\ncontempt: 9\n\nTotal records: 13682\n13682\n"
          ]
        }
      ]
    },
    {
      "cell_type": "code",
      "metadata": {
        "colab": {
          "base_uri": "https://localhost:8080/",
          "height": 453
        },
        "id": "kuoUjYaqrGqL",
        "outputId": "e2957d19-31a5-4149-b2df-aef4f5195a3c"
      },
      "source": [
        "'''\n",
        "Move images to train, validate, test folders to its appropriate emotion folders\n",
        "  88% in train folders\n",
        "  7% in validate folders\n",
        "  5% in test folders\n",
        "'''\n",
        "\n",
        "for emotion, image_list in emotions_dict.items():\n",
        "  count = len(image_list)\n",
        "  traint_cnt = round(count * .88)\n",
        "  validate_cnt = round(count *  .07)\n",
        "  test_cnt = count - traint_cnt - validate_cnt\n",
        "\n",
        "  for i in random.sample(image_list, traint_cnt):\n",
        "    if os.path.exists(f'train/{emotion}/{i}') is False:\n",
        "      shutil.move(i, f'train/{emotion}')\n",
        "    image_list.remove(i)\n",
        "\n",
        "  for i in random.sample(image_list, validate_cnt):\n",
        "    if os.path.exists(f'validate/{emotion}/{i}') is False:\n",
        "      shutil.move(i, f'validate/{emotion}')\n",
        "    image_list.remove(i)\n",
        "\n",
        "  for i in random.sample(image_list, test_cnt):\n",
        "    if os.path.exists(f'test/{emotion}/{i}') is False:\n",
        "      shutil.move(i, f'test/{emotion}')\n",
        "    image_list.remove(i)"
      ],
      "execution_count": 20,
      "outputs": []
    },
    {
      "cell_type": "code",
      "execution_count": null,
      "metadata": {},
      "outputs": [],
      "source": []
    }
  ]
}