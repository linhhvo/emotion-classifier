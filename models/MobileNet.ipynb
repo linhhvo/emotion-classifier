{
  "nbformat": 4,
  "nbformat_minor": 0,
  "metadata": {
    "colab": {
      "name": "MobileNet_(1).ipynb",
      "provenance": [],
      "collapsed_sections": []
    },
    "kernelspec": {
      "name": "python3",
      "display_name": "Python 3"
    },
    "language_info": {
      "name": "python"
    },
    "accelerator": "GPU"
  },
  "cells": [
    {
      "cell_type": "markdown",
      "metadata": {
        "id": "QMLef78u--eE"
      },
      "source": [
        "# MobileNet"
      ]
    },
    {
      "cell_type": "markdown",
      "metadata": {
        "id": "Q74mCQ0I_XDK"
      },
      "source": [
        "## Setup"
      ]
    },
    {
      "cell_type": "code",
      "metadata": {
        "id": "MU-tm6nZkeM3",
        "colab": {
          "base_uri": "https://localhost:8080/"
        },
        "outputId": "7c2596ad-6215-4e4b-9d85-cb214dca2db4"
      },
      "source": [
        "from google.colab import drive\n",
        "drive.mount('/content/gdrive')"
      ],
      "execution_count": null,
      "outputs": [
        {
          "output_type": "stream",
          "text": [
            "Mounted at /content/gdrive\n"
          ],
          "name": "stdout"
        }
      ]
    },
    {
      "cell_type": "code",
      "metadata": {
        "id": "whL8IgHNkt0a"
      },
      "source": [
        "!unzip gdrive/My\\ Drive/Colab\\ Notebooks/Final\\ Project/project_model/images-final.zip &> /dev/null\n"
      ],
      "execution_count": null,
      "outputs": []
    },
    {
      "cell_type": "code",
      "metadata": {
        "id": "ZZ1GZij6_0-j"
      },
      "source": [
        "import numpy as np\n",
        "import tensorflow as tf\n",
        "from tensorflow import keras\n",
        "import keras.models\n",
        "from tensorflow.keras.layers import Dense, Activation, Flatten\n",
        "from tensorflow.keras.optimizers import Adam\n",
        "from tensorflow.keras.metrics import categorical_crossentropy\n",
        "from tensorflow.keras.preprocessing.image import ImageDataGenerator\n",
        "from tensorflow.keras.preprocessing import image,image_dataset_from_directory\n",
        "from tensorflow.keras.models import Model\n",
        "from tensorflow.keras.applications import imagenet_utils\n",
        "from sklearn.metrics import confusion_matrix\n",
        "from tensorflow.keras import layers\n",
        "from keras.layers import Dropout\n",
        "from keras.callbacks import ReduceLROnPlateau\n",
        "#from keras.applications import MobileNet\n",
        "import os\n",
        "import matplotlib.pyplot as plt\n",
        "from keras.models import Sequential\n",
        "%matplotlib inline"
      ],
      "execution_count": null,
      "outputs": []
    },
    {
      "cell_type": "markdown",
      "metadata": {
        "id": "5MjH45oN_vuv"
      },
      "source": [
        "Test the input image"
      ]
    },
    {
      "cell_type": "code",
      "metadata": {
        "id": "493Ad9mekt3S",
        "colab": {
          "base_uri": "https://localhost:8080/",
          "height": 65
        },
        "outputId": "05519335-7419-4a54-e840-e6f35d30de68"
      },
      "source": [
        "import tensorflow as tf\n",
        "img = tf.keras.preprocessing.image.load_img('train/angry/10002.jpg')\n",
        "img"
      ],
      "execution_count": null,
      "outputs": [
        {
          "output_type": "execute_result",
          "data": {
            "image/png": "[encoded data removed]",
            "text/plain": [
              "<PIL.Image.Image image mode=RGB size=48x48 at 0x7FD98238CE90>"
            ]
          },
          "metadata": {
            "tags": []
          },
          "execution_count": 4
        }
      ]
    },
    {
      "cell_type": "markdown",
      "metadata": {
        "id": "l2wTozHb_9nX"
      },
      "source": [
        "Preprocess the input images.\n",
        "Enable training, validation and testing data to fit in the model\n"
      ]
    },
    {
      "cell_type": "markdown",
      "metadata": {
        "id": "ODQRMARcAg2d"
      },
      "source": [
        "Adapted from DEEPLIZARD website"
      ]
    },
    {
      "cell_type": "code",
      "metadata": {
        "id": "P89_h4KVkt8s",
        "colab": {
          "base_uri": "https://localhost:8080/"
        },
        "outputId": "475b66cc-6642-4731-9a0f-d755358ff0cf"
      },
      "source": [
        "labels = os.listdir('train')\n",
        "\n",
        "train_batches=ImageDataGenerator(preprocessing_function=tf.keras.applications.efficientnet.preprocess_input).flow_from_directory(directory='train', \n",
        "                                                                                                                                 target_size=(224,224), \n",
        "                                                                                                                                 classes=labels, \n",
        "                                                                                                                                 batch_size=100)\n",
        "\n",
        "validate_batches=ImageDataGenerator(preprocessing_function=tf.keras.applications.efficientnet.preprocess_input).flow_from_directory(directory='validation', \n",
        "                                                                                                                                    target_size=(224,224), \n",
        "                                                                                                                                    classes=labels, \n",
        "                                                                                                                                    batch_size=100)\n",
        "\n"
      ],
      "execution_count": null,
      "outputs": [
        {
          "output_type": "stream",
          "text": [
            "Found 20725 images belonging to 7 classes.\n",
            "Found 2000 images belonging to 7 classes.\n"
          ],
          "name": "stdout"
        }
      ]
    },
    {
      "cell_type": "markdown",
      "metadata": {
        "id": "KCN5RVTeBp8V"
      },
      "source": [
        "Get base_model of MoblieNet from keras"
      ]
    },
    {
      "cell_type": "code",
      "metadata": {
        "id": "nGs-YOLikt_G",
        "colab": {
          "base_uri": "https://localhost:8080/"
        },
        "outputId": "f3603548-a30f-429c-9c3b-1bf7024b0450"
      },
      "source": [
        "base_model = tf.keras.applications.mobilenet.MobileNet(input_shape=(224, 224, 3))\n",
        "base_model.summary()"
      ],
      "execution_count": null,
      "outputs": [
        {
          "output_type": "stream",
          "text": [
            "Model: \"mobilenet_1.00_224\"\n",
            "_________________________________________________________________\n",
            "Layer (type)                 Output Shape              Param #   \n",
            "=================================================================\n",
            "input_2 (InputLayer)         [(None, 224, 224, 3)]     0         \n",
            "_________________________________________________________________\n",
            "conv1 (Conv2D)               (None, 112, 112, 32)      864       \n",
            "_________________________________________________________________\n",
            "conv1_bn (BatchNormalization (None, 112, 112, 32)      128       \n",
            "_________________________________________________________________\n",
            "conv1_relu (ReLU)            (None, 112, 112, 32)      0         \n",
            "_________________________________________________________________\n",
            "conv_dw_1 (DepthwiseConv2D)  (None, 112, 112, 32)      288       \n",
            "_________________________________________________________________\n",
            "conv_dw_1_bn (BatchNormaliza (None, 112, 112, 32)      128       \n",
            "_________________________________________________________________\n",
            "conv_dw_1_relu (ReLU)        (None, 112, 112, 32)      0         \n",
            "_________________________________________________________________\n",
            "conv_pw_1 (Conv2D)           (None, 112, 112, 64)      2048      \n",
            "_________________________________________________________________\n",
            "conv_pw_1_bn (BatchNormaliza (None, 112, 112, 64)      256       \n",
            "_________________________________________________________________\n",
            "conv_pw_1_relu (ReLU)        (None, 112, 112, 64)      0         \n",
            "_________________________________________________________________\n",
            "conv_pad_2 (ZeroPadding2D)   (None, 113, 113, 64)      0         \n",
            "_________________________________________________________________\n",
            "conv_dw_2 (DepthwiseConv2D)  (None, 56, 56, 64)        576       \n",
            "_________________________________________________________________\n",
            "conv_dw_2_bn (BatchNormaliza (None, 56, 56, 64)        256       \n",
            "_________________________________________________________________\n",
            "conv_dw_2_relu (ReLU)        (None, 56, 56, 64)        0         \n",
            "_________________________________________________________________\n",
            "conv_pw_2 (Conv2D)           (None, 56, 56, 128)       8192      \n",
            "_________________________________________________________________\n",
            "conv_pw_2_bn (BatchNormaliza (None, 56, 56, 128)       512       \n",
            "_________________________________________________________________\n",
            "conv_pw_2_relu (ReLU)        (None, 56, 56, 128)       0         \n",
            "_________________________________________________________________\n",
            "conv_dw_3 (DepthwiseConv2D)  (None, 56, 56, 128)       1152      \n",
            "_________________________________________________________________\n",
            "conv_dw_3_bn (BatchNormaliza (None, 56, 56, 128)       512       \n",
            "_________________________________________________________________\n",
            "conv_dw_3_relu (ReLU)        (None, 56, 56, 128)       0         \n",
            "_________________________________________________________________\n",
            "conv_pw_3 (Conv2D)           (None, 56, 56, 128)       16384     \n",
            "_________________________________________________________________\n",
            "conv_pw_3_bn (BatchNormaliza (None, 56, 56, 128)       512       \n",
            "_________________________________________________________________\n",
            "conv_pw_3_relu (ReLU)        (None, 56, 56, 128)       0         \n",
            "_________________________________________________________________\n",
            "conv_pad_4 (ZeroPadding2D)   (None, 57, 57, 128)       0         \n",
            "_________________________________________________________________\n",
            "conv_dw_4 (DepthwiseConv2D)  (None, 28, 28, 128)       1152      \n",
            "_________________________________________________________________\n",
            "conv_dw_4_bn (BatchNormaliza (None, 28, 28, 128)       512       \n",
            "_________________________________________________________________\n",
            "conv_dw_4_relu (ReLU)        (None, 28, 28, 128)       0         \n",
            "_________________________________________________________________\n",
            "conv_pw_4 (Conv2D)           (None, 28, 28, 256)       32768     \n",
            "_________________________________________________________________\n",
            "conv_pw_4_bn (BatchNormaliza (None, 28, 28, 256)       1024      \n",
            "_________________________________________________________________\n",
            "conv_pw_4_relu (ReLU)        (None, 28, 28, 256)       0         \n",
            "_________________________________________________________________\n",
            "conv_dw_5 (DepthwiseConv2D)  (None, 28, 28, 256)       2304      \n",
            "_________________________________________________________________\n",
            "conv_dw_5_bn (BatchNormaliza (None, 28, 28, 256)       1024      \n",
            "_________________________________________________________________\n",
            "conv_dw_5_relu (ReLU)        (None, 28, 28, 256)       0         \n",
            "_________________________________________________________________\n",
            "conv_pw_5 (Conv2D)           (None, 28, 28, 256)       65536     \n",
            "_________________________________________________________________\n",
            "conv_pw_5_bn (BatchNormaliza (None, 28, 28, 256)       1024      \n",
            "_________________________________________________________________\n",
            "conv_pw_5_relu (ReLU)        (None, 28, 28, 256)       0         \n",
            "_________________________________________________________________\n",
            "conv_pad_6 (ZeroPadding2D)   (None, 29, 29, 256)       0         \n",
            "_________________________________________________________________\n",
            "conv_dw_6 (DepthwiseConv2D)  (None, 14, 14, 256)       2304      \n",
            "_________________________________________________________________\n",
            "conv_dw_6_bn (BatchNormaliza (None, 14, 14, 256)       1024      \n",
            "_________________________________________________________________\n",
            "conv_dw_6_relu (ReLU)        (None, 14, 14, 256)       0         \n",
            "_________________________________________________________________\n",
            "conv_pw_6 (Conv2D)           (None, 14, 14, 512)       131072    \n",
            "_________________________________________________________________\n",
            "conv_pw_6_bn (BatchNormaliza (None, 14, 14, 512)       2048      \n",
            "_________________________________________________________________\n",
            "conv_pw_6_relu (ReLU)        (None, 14, 14, 512)       0         \n",
            "_________________________________________________________________\n",
            "conv_dw_7 (DepthwiseConv2D)  (None, 14, 14, 512)       4608      \n",
            "_________________________________________________________________\n",
            "conv_dw_7_bn (BatchNormaliza (None, 14, 14, 512)       2048      \n",
            "_________________________________________________________________\n",
            "conv_dw_7_relu (ReLU)        (None, 14, 14, 512)       0         \n",
            "_________________________________________________________________\n",
            "conv_pw_7 (Conv2D)           (None, 14, 14, 512)       262144    \n",
            "_________________________________________________________________\n",
            "conv_pw_7_bn (BatchNormaliza (None, 14, 14, 512)       2048      \n",
            "_________________________________________________________________\n",
            "conv_pw_7_relu (ReLU)        (None, 14, 14, 512)       0         \n",
            "_________________________________________________________________\n",
            "conv_dw_8 (DepthwiseConv2D)  (None, 14, 14, 512)       4608      \n",
            "_________________________________________________________________\n",
            "conv_dw_8_bn (BatchNormaliza (None, 14, 14, 512)       2048      \n",
            "_________________________________________________________________\n",
            "conv_dw_8_relu (ReLU)        (None, 14, 14, 512)       0         \n",
            "_________________________________________________________________\n",
            "conv_pw_8 (Conv2D)           (None, 14, 14, 512)       262144    \n",
            "_________________________________________________________________\n",
            "conv_pw_8_bn (BatchNormaliza (None, 14, 14, 512)       2048      \n",
            "_________________________________________________________________\n",
            "conv_pw_8_relu (ReLU)        (None, 14, 14, 512)       0         \n",
            "_________________________________________________________________\n",
            "conv_dw_9 (DepthwiseConv2D)  (None, 14, 14, 512)       4608      \n",
            "_________________________________________________________________\n",
            "conv_dw_9_bn (BatchNormaliza (None, 14, 14, 512)       2048      \n",
            "_________________________________________________________________\n",
            "conv_dw_9_relu (ReLU)        (None, 14, 14, 512)       0         \n",
            "_________________________________________________________________\n",
            "conv_pw_9 (Conv2D)           (None, 14, 14, 512)       262144    \n",
            "_________________________________________________________________\n",
            "conv_pw_9_bn (BatchNormaliza (None, 14, 14, 512)       2048      \n",
            "_________________________________________________________________\n",
            "conv_pw_9_relu (ReLU)        (None, 14, 14, 512)       0         \n",
            "_________________________________________________________________\n",
            "conv_dw_10 (DepthwiseConv2D) (None, 14, 14, 512)       4608      \n",
            "_________________________________________________________________\n",
            "conv_dw_10_bn (BatchNormaliz (None, 14, 14, 512)       2048      \n",
            "_________________________________________________________________\n",
            "conv_dw_10_relu (ReLU)       (None, 14, 14, 512)       0         \n",
            "_________________________________________________________________\n",
            "conv_pw_10 (Conv2D)          (None, 14, 14, 512)       262144    \n",
            "_________________________________________________________________\n",
            "conv_pw_10_bn (BatchNormaliz (None, 14, 14, 512)       2048      \n",
            "_________________________________________________________________\n",
            "conv_pw_10_relu (ReLU)       (None, 14, 14, 512)       0         \n",
            "_________________________________________________________________\n",
            "conv_dw_11 (DepthwiseConv2D) (None, 14, 14, 512)       4608      \n",
            "_________________________________________________________________\n",
            "conv_dw_11_bn (BatchNormaliz (None, 14, 14, 512)       2048      \n",
            "_________________________________________________________________\n",
            "conv_dw_11_relu (ReLU)       (None, 14, 14, 512)       0         \n",
            "_________________________________________________________________\n",
            "conv_pw_11 (Conv2D)          (None, 14, 14, 512)       262144    \n",
            "_________________________________________________________________\n",
            "conv_pw_11_bn (BatchNormaliz (None, 14, 14, 512)       2048      \n",
            "_________________________________________________________________\n",
            "conv_pw_11_relu (ReLU)       (None, 14, 14, 512)       0         \n",
            "_________________________________________________________________\n",
            "conv_pad_12 (ZeroPadding2D)  (None, 15, 15, 512)       0         \n",
            "_________________________________________________________________\n",
            "conv_dw_12 (DepthwiseConv2D) (None, 7, 7, 512)         4608      \n",
            "_________________________________________________________________\n",
            "conv_dw_12_bn (BatchNormaliz (None, 7, 7, 512)         2048      \n",
            "_________________________________________________________________\n",
            "conv_dw_12_relu (ReLU)       (None, 7, 7, 512)         0         \n",
            "_________________________________________________________________\n",
            "conv_pw_12 (Conv2D)          (None, 7, 7, 1024)        524288    \n",
            "_________________________________________________________________\n",
            "conv_pw_12_bn (BatchNormaliz (None, 7, 7, 1024)        4096      \n",
            "_________________________________________________________________\n",
            "conv_pw_12_relu (ReLU)       (None, 7, 7, 1024)        0         \n",
            "_________________________________________________________________\n",
            "conv_dw_13 (DepthwiseConv2D) (None, 7, 7, 1024)        9216      \n",
            "_________________________________________________________________\n",
            "conv_dw_13_bn (BatchNormaliz (None, 7, 7, 1024)        4096      \n",
            "_________________________________________________________________\n",
            "conv_dw_13_relu (ReLU)       (None, 7, 7, 1024)        0         \n",
            "_________________________________________________________________\n",
            "conv_pw_13 (Conv2D)          (None, 7, 7, 1024)        1048576   \n",
            "_________________________________________________________________\n",
            "conv_pw_13_bn (BatchNormaliz (None, 7, 7, 1024)        4096      \n",
            "_________________________________________________________________\n",
            "conv_pw_13_relu (ReLU)       (None, 7, 7, 1024)        0         \n",
            "_________________________________________________________________\n",
            "global_average_pooling2d_1 ( (None, 1024)              0         \n",
            "_________________________________________________________________\n",
            "reshape_1 (Reshape)          (None, 1, 1, 1024)        0         \n",
            "_________________________________________________________________\n",
            "dropout (Dropout)            (None, 1, 1, 1024)        0         \n",
            "_________________________________________________________________\n",
            "conv_preds (Conv2D)          (None, 1, 1, 1000)        1025000   \n",
            "_________________________________________________________________\n",
            "reshape_2 (Reshape)          (None, 1000)              0         \n",
            "_________________________________________________________________\n",
            "predictions (Activation)     (None, 1000)              0         \n",
            "=================================================================\n",
            "Total params: 4,253,864\n",
            "Trainable params: 4,231,976\n",
            "Non-trainable params: 21,888\n",
            "_________________________________________________________________\n"
          ],
          "name": "stdout"
        }
      ]
    },
    {
      "cell_type": "markdown",
      "metadata": {
        "id": "03LYG6wNB06y"
      },
      "source": [
        "Set up l2 value"
      ]
    },
    {
      "cell_type": "code",
      "metadata": {
        "id": "l7wbGN5CkuBq"
      },
      "source": [
        "alpha = 1e-5"
      ],
      "execution_count": null,
      "outputs": []
    },
    {
      "cell_type": "markdown",
      "metadata": {
        "id": "figcK9WPFbaw"
      },
      "source": [
        "Import `matplotlib` and create a helper function to plot graphs:\n"
      ]
    },
    {
      "cell_type": "code",
      "metadata": {
        "id": "MBZmfLMCFamH"
      },
      "source": [
        "import matplotlib.pyplot as plt\n",
        "\n",
        "def plot_graphs(history, metric):\n",
        "  plt.plot(history.history[metric])\n",
        "  plt.plot(history.history['val_'+metric], '') \n",
        "  plt.xlabel(\"Epochs\")\n",
        "  plt.ylabel(metric)\n",
        "  plt.legend([metric, 'val_'+metric])"
      ],
      "execution_count": null,
      "outputs": []
    },
    {
      "cell_type": "markdown",
      "metadata": {
        "id": "u25g0kJ7gkT-"
      },
      "source": [
        "Set for callback and reducer"
      ]
    },
    {
      "cell_type": "code",
      "metadata": {
        "id": "qMWWsG_JK4vt"
      },
      "source": [
        "checkpointer=keras.callbacks.ModelCheckpoint(\"MobileNet.h5_1\")\n",
        "earlystopper=keras.callbacks.EarlyStopping(patience=10, restore_best_weights=True)\n",
        "reducer=ReduceLROnPlateau(factor=np.sqrt(.1),\n",
        "                         patience=5,re\n",
        "                         verbose=1)"
      ],
      "execution_count": null,
      "outputs": []
    },
    {
      "cell_type": "markdown",
      "metadata": {
        "id": "dkoHAjeXM23x"
      },
      "source": [
        "## Plain Model"
      ]
    },
    {
      "cell_type": "code",
      "metadata": {
        "id": "s_6xcRTsQ3UX"
      },
      "source": [
        "x = base_model.layers[-1].output\n",
        "output = Dense(units=7, activation='softmax')(x)"
      ],
      "execution_count": null,
      "outputs": []
    },
    {
      "cell_type": "code",
      "metadata": {
        "id": "QmTBkvKFQTTj"
      },
      "source": [
        "model_mobnet = Model(inputs=base_model.input, outputs=output)"
      ],
      "execution_count": null,
      "outputs": []
    },
    {
      "cell_type": "code",
      "metadata": {
        "colab": {
          "base_uri": "https://localhost:8080/"
        },
        "id": "bYxTgjveXnVg",
        "outputId": "c95d2c39-5345-4e88-b6fb-3aad939f38c9"
      },
      "source": [
        "model_mobnet.summary()"
      ],
      "execution_count": null,
      "outputs": [
        {
          "output_type": "stream",
          "text": [
            "Model: \"model_2\"\n",
            "_________________________________________________________________\n",
            "Layer (type)                 Output Shape              Param #   \n",
            "=================================================================\n",
            "input_2 (InputLayer)         [(None, 224, 224, 3)]     0         \n",
            "_________________________________________________________________\n",
            "conv1 (Conv2D)               (None, 112, 112, 32)      864       \n",
            "_________________________________________________________________\n",
            "conv1_bn (BatchNormalization (None, 112, 112, 32)      128       \n",
            "_________________________________________________________________\n",
            "conv1_relu (ReLU)            (None, 112, 112, 32)      0         \n",
            "_________________________________________________________________\n",
            "conv_dw_1 (DepthwiseConv2D)  (None, 112, 112, 32)      288       \n",
            "_________________________________________________________________\n",
            "conv_dw_1_bn (BatchNormaliza (None, 112, 112, 32)      128       \n",
            "_________________________________________________________________\n",
            "conv_dw_1_relu (ReLU)        (None, 112, 112, 32)      0         \n",
            "_________________________________________________________________\n",
            "conv_pw_1 (Conv2D)           (None, 112, 112, 64)      2048      \n",
            "_________________________________________________________________\n",
            "conv_pw_1_bn (BatchNormaliza (None, 112, 112, 64)      256       \n",
            "_________________________________________________________________\n",
            "conv_pw_1_relu (ReLU)        (None, 112, 112, 64)      0         \n",
            "_________________________________________________________________\n",
            "conv_pad_2 (ZeroPadding2D)   (None, 113, 113, 64)      0         \n",
            "_________________________________________________________________\n",
            "conv_dw_2 (DepthwiseConv2D)  (None, 56, 56, 64)        576       \n",
            "_________________________________________________________________\n",
            "conv_dw_2_bn (BatchNormaliza (None, 56, 56, 64)        256       \n",
            "_________________________________________________________________\n",
            "conv_dw_2_relu (ReLU)        (None, 56, 56, 64)        0         \n",
            "_________________________________________________________________\n",
            "conv_pw_2 (Conv2D)           (None, 56, 56, 128)       8192      \n",
            "_________________________________________________________________\n",
            "conv_pw_2_bn (BatchNormaliza (None, 56, 56, 128)       512       \n",
            "_________________________________________________________________\n",
            "conv_pw_2_relu (ReLU)        (None, 56, 56, 128)       0         \n",
            "_________________________________________________________________\n",
            "conv_dw_3 (DepthwiseConv2D)  (None, 56, 56, 128)       1152      \n",
            "_________________________________________________________________\n",
            "conv_dw_3_bn (BatchNormaliza (None, 56, 56, 128)       512       \n",
            "_________________________________________________________________\n",
            "conv_dw_3_relu (ReLU)        (None, 56, 56, 128)       0         \n",
            "_________________________________________________________________\n",
            "conv_pw_3 (Conv2D)           (None, 56, 56, 128)       16384     \n",
            "_________________________________________________________________\n",
            "conv_pw_3_bn (BatchNormaliza (None, 56, 56, 128)       512       \n",
            "_________________________________________________________________\n",
            "conv_pw_3_relu (ReLU)        (None, 56, 56, 128)       0         \n",
            "_________________________________________________________________\n",
            "conv_pad_4 (ZeroPadding2D)   (None, 57, 57, 128)       0         \n",
            "_________________________________________________________________\n",
            "conv_dw_4 (DepthwiseConv2D)  (None, 28, 28, 128)       1152      \n",
            "_________________________________________________________________\n",
            "conv_dw_4_bn (BatchNormaliza (None, 28, 28, 128)       512       \n",
            "_________________________________________________________________\n",
            "conv_dw_4_relu (ReLU)        (None, 28, 28, 128)       0         \n",
            "_________________________________________________________________\n",
            "conv_pw_4 (Conv2D)           (None, 28, 28, 256)       32768     \n",
            "_________________________________________________________________\n",
            "conv_pw_4_bn (BatchNormaliza (None, 28, 28, 256)       1024      \n",
            "_________________________________________________________________\n",
            "conv_pw_4_relu (ReLU)        (None, 28, 28, 256)       0         \n",
            "_________________________________________________________________\n",
            "conv_dw_5 (DepthwiseConv2D)  (None, 28, 28, 256)       2304      \n",
            "_________________________________________________________________\n",
            "conv_dw_5_bn (BatchNormaliza (None, 28, 28, 256)       1024      \n",
            "_________________________________________________________________\n",
            "conv_dw_5_relu (ReLU)        (None, 28, 28, 256)       0         \n",
            "_________________________________________________________________\n",
            "conv_pw_5 (Conv2D)           (None, 28, 28, 256)       65536     \n",
            "_________________________________________________________________\n",
            "conv_pw_5_bn (BatchNormaliza (None, 28, 28, 256)       1024      \n",
            "_________________________________________________________________\n",
            "conv_pw_5_relu (ReLU)        (None, 28, 28, 256)       0         \n",
            "_________________________________________________________________\n",
            "conv_pad_6 (ZeroPadding2D)   (None, 29, 29, 256)       0         \n",
            "_________________________________________________________________\n",
            "conv_dw_6 (DepthwiseConv2D)  (None, 14, 14, 256)       2304      \n",
            "_________________________________________________________________\n",
            "conv_dw_6_bn (BatchNormaliza (None, 14, 14, 256)       1024      \n",
            "_________________________________________________________________\n",
            "conv_dw_6_relu (ReLU)        (None, 14, 14, 256)       0         \n",
            "_________________________________________________________________\n",
            "conv_pw_6 (Conv2D)           (None, 14, 14, 512)       131072    \n",
            "_________________________________________________________________\n",
            "conv_pw_6_bn (BatchNormaliza (None, 14, 14, 512)       2048      \n",
            "_________________________________________________________________\n",
            "conv_pw_6_relu (ReLU)        (None, 14, 14, 512)       0         \n",
            "_________________________________________________________________\n",
            "conv_dw_7 (DepthwiseConv2D)  (None, 14, 14, 512)       4608      \n",
            "_________________________________________________________________\n",
            "conv_dw_7_bn (BatchNormaliza (None, 14, 14, 512)       2048      \n",
            "_________________________________________________________________\n",
            "conv_dw_7_relu (ReLU)        (None, 14, 14, 512)       0         \n",
            "_________________________________________________________________\n",
            "conv_pw_7 (Conv2D)           (None, 14, 14, 512)       262144    \n",
            "_________________________________________________________________\n",
            "conv_pw_7_bn (BatchNormaliza (None, 14, 14, 512)       2048      \n",
            "_________________________________________________________________\n",
            "conv_pw_7_relu (ReLU)        (None, 14, 14, 512)       0         \n",
            "_________________________________________________________________\n",
            "conv_dw_8 (DepthwiseConv2D)  (None, 14, 14, 512)       4608      \n",
            "_________________________________________________________________\n",
            "conv_dw_8_bn (BatchNormaliza (None, 14, 14, 512)       2048      \n",
            "_________________________________________________________________\n",
            "conv_dw_8_relu (ReLU)        (None, 14, 14, 512)       0         \n",
            "_________________________________________________________________\n",
            "conv_pw_8 (Conv2D)           (None, 14, 14, 512)       262144    \n",
            "_________________________________________________________________\n",
            "conv_pw_8_bn (BatchNormaliza (None, 14, 14, 512)       2048      \n",
            "_________________________________________________________________\n",
            "conv_pw_8_relu (ReLU)        (None, 14, 14, 512)       0         \n",
            "_________________________________________________________________\n",
            "conv_dw_9 (DepthwiseConv2D)  (None, 14, 14, 512)       4608      \n",
            "_________________________________________________________________\n",
            "conv_dw_9_bn (BatchNormaliza (None, 14, 14, 512)       2048      \n",
            "_________________________________________________________________\n",
            "conv_dw_9_relu (ReLU)        (None, 14, 14, 512)       0         \n",
            "_________________________________________________________________\n",
            "conv_pw_9 (Conv2D)           (None, 14, 14, 512)       262144    \n",
            "_________________________________________________________________\n",
            "conv_pw_9_bn (BatchNormaliza (None, 14, 14, 512)       2048      \n",
            "_________________________________________________________________\n",
            "conv_pw_9_relu (ReLU)        (None, 14, 14, 512)       0         \n",
            "_________________________________________________________________\n",
            "conv_dw_10 (DepthwiseConv2D) (None, 14, 14, 512)       4608      \n",
            "_________________________________________________________________\n",
            "conv_dw_10_bn (BatchNormaliz (None, 14, 14, 512)       2048      \n",
            "_________________________________________________________________\n",
            "conv_dw_10_relu (ReLU)       (None, 14, 14, 512)       0         \n",
            "_________________________________________________________________\n",
            "conv_pw_10 (Conv2D)          (None, 14, 14, 512)       262144    \n",
            "_________________________________________________________________\n",
            "conv_pw_10_bn (BatchNormaliz (None, 14, 14, 512)       2048      \n",
            "_________________________________________________________________\n",
            "conv_pw_10_relu (ReLU)       (None, 14, 14, 512)       0         \n",
            "_________________________________________________________________\n",
            "conv_dw_11 (DepthwiseConv2D) (None, 14, 14, 512)       4608      \n",
            "_________________________________________________________________\n",
            "conv_dw_11_bn (BatchNormaliz (None, 14, 14, 512)       2048      \n",
            "_________________________________________________________________\n",
            "conv_dw_11_relu (ReLU)       (None, 14, 14, 512)       0         \n",
            "_________________________________________________________________\n",
            "conv_pw_11 (Conv2D)          (None, 14, 14, 512)       262144    \n",
            "_________________________________________________________________\n",
            "conv_pw_11_bn (BatchNormaliz (None, 14, 14, 512)       2048      \n",
            "_________________________________________________________________\n",
            "conv_pw_11_relu (ReLU)       (None, 14, 14, 512)       0         \n",
            "_________________________________________________________________\n",
            "conv_pad_12 (ZeroPadding2D)  (None, 15, 15, 512)       0         \n",
            "_________________________________________________________________\n",
            "conv_dw_12 (DepthwiseConv2D) (None, 7, 7, 512)         4608      \n",
            "_________________________________________________________________\n",
            "conv_dw_12_bn (BatchNormaliz (None, 7, 7, 512)         2048      \n",
            "_________________________________________________________________\n",
            "conv_dw_12_relu (ReLU)       (None, 7, 7, 512)         0         \n",
            "_________________________________________________________________\n",
            "conv_pw_12 (Conv2D)          (None, 7, 7, 1024)        524288    \n",
            "_________________________________________________________________\n",
            "conv_pw_12_bn (BatchNormaliz (None, 7, 7, 1024)        4096      \n",
            "_________________________________________________________________\n",
            "conv_pw_12_relu (ReLU)       (None, 7, 7, 1024)        0         \n",
            "_________________________________________________________________\n",
            "conv_dw_13 (DepthwiseConv2D) (None, 7, 7, 1024)        9216      \n",
            "_________________________________________________________________\n",
            "conv_dw_13_bn (BatchNormaliz (None, 7, 7, 1024)        4096      \n",
            "_________________________________________________________________\n",
            "conv_dw_13_relu (ReLU)       (None, 7, 7, 1024)        0         \n",
            "_________________________________________________________________\n",
            "conv_pw_13 (Conv2D)          (None, 7, 7, 1024)        1048576   \n",
            "_________________________________________________________________\n",
            "conv_pw_13_bn (BatchNormaliz (None, 7, 7, 1024)        4096      \n",
            "_________________________________________________________________\n",
            "conv_pw_13_relu (ReLU)       (None, 7, 7, 1024)        0         \n",
            "_________________________________________________________________\n",
            "global_average_pooling2d_1 ( (None, 1024)              0         \n",
            "_________________________________________________________________\n",
            "reshape_1 (Reshape)          (None, 1, 1, 1024)        0         \n",
            "_________________________________________________________________\n",
            "dropout (Dropout)            (None, 1, 1, 1024)        0         \n",
            "_________________________________________________________________\n",
            "conv_preds (Conv2D)          (None, 1, 1, 1000)        1025000   \n",
            "_________________________________________________________________\n",
            "reshape_2 (Reshape)          (None, 1000)              0         \n",
            "_________________________________________________________________\n",
            "predictions (Activation)     (None, 1000)              0         \n",
            "_________________________________________________________________\n",
            "dense_56 (Dense)             (None, 7)                 7007      \n",
            "=================================================================\n",
            "Total params: 4,260,871\n",
            "Trainable params: 4,238,983\n",
            "Non-trainable params: 21,888\n",
            "_________________________________________________________________\n"
          ],
          "name": "stdout"
        }
      ]
    },
    {
      "cell_type": "code",
      "metadata": {
        "id": "ngkXb2c3M6ec"
      },
      "source": [
        "model_mobnet.compile(optimizer='adam', loss='categorical_crossentropy', metrics=['accuracy'])"
      ],
      "execution_count": null,
      "outputs": []
    },
    {
      "cell_type": "code",
      "metadata": {
        "id": "l5HcqvYPSy0l"
      },
      "source": [
        "for layer in model_mobnet.layers[:-1]:\n",
        "    layer.trainable = False"
      ],
      "execution_count": null,
      "outputs": []
    },
    {
      "cell_type": "code",
      "metadata": {
        "colab": {
          "base_uri": "https://localhost:8080/"
        },
        "id": "YFGNFm-3Na9t",
        "outputId": "690a2b18-f29a-47cd-e7ca-863af10e04d7"
      },
      "source": [
        "history = model_mobnet.fit(x=train_batches,\n",
        "            validation_data=validate_batches,\n",
        "            epochs=30,\n",
        "            verbose=1\n",
        ")"
      ],
      "execution_count": null,
      "outputs": [
        {
          "output_type": "stream",
          "text": [
            "Epoch 1/30\n",
            "208/208 [==============================] - 33s 150ms/step - loss: 1.8648 - accuracy: 0.5768 - val_loss: 1.7963 - val_accuracy: 0.4520\n",
            "Epoch 2/30\n",
            "208/208 [==============================] - 30s 146ms/step - loss: 1.6020 - accuracy: 0.7607 - val_loss: 1.7497 - val_accuracy: 0.4200\n",
            "Epoch 3/30\n",
            "208/208 [==============================] - 30s 145ms/step - loss: 1.3801 - accuracy: 0.7659 - val_loss: 1.6154 - val_accuracy: 0.4615\n",
            "Epoch 4/30\n",
            "208/208 [==============================] - 30s 146ms/step - loss: 1.1884 - accuracy: 0.7767 - val_loss: 1.6167 - val_accuracy: 0.4130\n",
            "Epoch 5/30\n",
            "208/208 [==============================] - 30s 146ms/step - loss: 1.0363 - accuracy: 0.7774 - val_loss: 1.5443 - val_accuracy: 0.4680\n",
            "Epoch 6/30\n",
            "208/208 [==============================] - 30s 145ms/step - loss: 0.9175 - accuracy: 0.7800 - val_loss: 1.5646 - val_accuracy: 0.4390\n",
            "Epoch 7/30\n",
            "208/208 [==============================] - 30s 145ms/step - loss: 0.8289 - accuracy: 0.7813 - val_loss: 1.6456 - val_accuracy: 0.4065\n",
            "Epoch 8/30\n",
            "208/208 [==============================] - 30s 146ms/step - loss: 0.7532 - accuracy: 0.7854 - val_loss: 1.5717 - val_accuracy: 0.4710\n",
            "Epoch 9/30\n",
            "208/208 [==============================] - 30s 146ms/step - loss: 0.6913 - accuracy: 0.7859 - val_loss: 1.5728 - val_accuracy: 0.4550\n",
            "Epoch 10/30\n",
            "208/208 [==============================] - 30s 146ms/step - loss: 0.6335 - accuracy: 0.7982 - val_loss: 1.6017 - val_accuracy: 0.4575\n",
            "Epoch 11/30\n",
            "208/208 [==============================] - 30s 145ms/step - loss: 0.6057 - accuracy: 0.7933 - val_loss: 1.6440 - val_accuracy: 0.4370\n",
            "Epoch 12/30\n",
            "208/208 [==============================] - 30s 146ms/step - loss: 0.5795 - accuracy: 0.7918 - val_loss: 1.7691 - val_accuracy: 0.4480\n",
            "Epoch 13/30\n",
            "208/208 [==============================] - 30s 146ms/step - loss: 0.5468 - accuracy: 0.7979 - val_loss: 1.6587 - val_accuracy: 0.4610\n",
            "Epoch 14/30\n",
            "208/208 [==============================] - 30s 146ms/step - loss: 0.5290 - accuracy: 0.7977 - val_loss: 1.7361 - val_accuracy: 0.4405\n",
            "Epoch 15/30\n",
            "208/208 [==============================] - 30s 146ms/step - loss: 0.5117 - accuracy: 0.7993 - val_loss: 1.8968 - val_accuracy: 0.4265\n",
            "Epoch 16/30\n",
            "208/208 [==============================] - 30s 145ms/step - loss: 0.5007 - accuracy: 0.8004 - val_loss: 1.8386 - val_accuracy: 0.4495\n",
            "Epoch 17/30\n",
            "208/208 [==============================] - 30s 146ms/step - loss: 0.4919 - accuracy: 0.8011 - val_loss: 1.7365 - val_accuracy: 0.4675\n",
            "Epoch 18/30\n",
            "208/208 [==============================] - 30s 145ms/step - loss: 0.4887 - accuracy: 0.7985 - val_loss: 1.7830 - val_accuracy: 0.4500\n",
            "Epoch 19/30\n",
            "208/208 [==============================] - 30s 146ms/step - loss: 0.4896 - accuracy: 0.7948 - val_loss: 1.8245 - val_accuracy: 0.4520\n",
            "Epoch 20/30\n",
            "208/208 [==============================] - 30s 146ms/step - loss: 0.4665 - accuracy: 0.8056 - val_loss: 1.8170 - val_accuracy: 0.4445\n",
            "Epoch 21/30\n",
            "208/208 [==============================] - 30s 145ms/step - loss: 0.4740 - accuracy: 0.7990 - val_loss: 1.8866 - val_accuracy: 0.4355\n",
            "Epoch 22/30\n",
            "208/208 [==============================] - 30s 146ms/step - loss: 0.4503 - accuracy: 0.8067 - val_loss: 2.0695 - val_accuracy: 0.4400\n",
            "Epoch 23/30\n",
            "208/208 [==============================] - 30s 146ms/step - loss: 0.4543 - accuracy: 0.8016 - val_loss: 1.8627 - val_accuracy: 0.4815\n",
            "Epoch 24/30\n",
            "208/208 [==============================] - 30s 146ms/step - loss: 0.4491 - accuracy: 0.8048 - val_loss: 2.0906 - val_accuracy: 0.4650\n",
            "Epoch 25/30\n",
            "208/208 [==============================] - 30s 146ms/step - loss: 0.4407 - accuracy: 0.8055 - val_loss: 1.9298 - val_accuracy: 0.4695\n",
            "Epoch 26/30\n",
            "208/208 [==============================] - 30s 145ms/step - loss: 0.4354 - accuracy: 0.8078 - val_loss: 1.9406 - val_accuracy: 0.4675\n",
            "Epoch 27/30\n",
            "208/208 [==============================] - 30s 145ms/step - loss: 0.4416 - accuracy: 0.8074 - val_loss: 2.1032 - val_accuracy: 0.4465\n",
            "Epoch 28/30\n",
            "208/208 [==============================] - 30s 146ms/step - loss: 0.4404 - accuracy: 0.8053 - val_loss: 1.9114 - val_accuracy: 0.4725\n",
            "Epoch 29/30\n",
            "208/208 [==============================] - 30s 146ms/step - loss: 0.4233 - accuracy: 0.8087 - val_loss: 1.8737 - val_accuracy: 0.4815\n",
            "Epoch 30/30\n",
            "208/208 [==============================] - 30s 145ms/step - loss: 0.4246 - accuracy: 0.8096 - val_loss: 1.9968 - val_accuracy: 0.4575\n"
          ],
          "name": "stdout"
        }
      ]
    },
    {
      "cell_type": "code",
      "metadata": {
        "colab": {
          "base_uri": "https://localhost:8080/"
        },
        "id": "s4Qb_k2reo08",
        "outputId": "5d6ce55b-5a46-41e5-a256-f4abaf8e8b3e"
      },
      "source": [
        "train_loss, train_acc = model_mobnet.evaluate(train_batches)\n",
        "val_loss, val_acc = model_mobnet.evaluate(validate_batches)\n",
        "\n",
        "print('Train Loss: {}'.format(train_loss))\n",
        "print('Train Accuracy: {}'.format(train_acc))\n",
        "print('Validation Loss: {}'.format(val_loss))\n",
        "print('Validation Accuracy: {}'.format(val_acc))\n"
      ],
      "execution_count": null,
      "outputs": [
        {
          "output_type": "stream",
          "text": [
            "208/208 [==============================] - 24s 113ms/step - loss: 0.7442 - accuracy: 0.7152\n",
            "20/20 [==============================] - 2s 114ms/step - loss: 1.5661 - accuracy: 0.4765\n",
            "Train Loss: 0.744209349155426\n",
            "Train Accuracy: 0.7151749134063721\n",
            "Validation Loss: 1.5661208629608154\n",
            "Validation Accuracy: 0.476500004529953\n"
          ],
          "name": "stdout"
        }
      ]
    },
    {
      "cell_type": "code",
      "metadata": {
        "colab": {
          "base_uri": "https://localhost:8080/",
          "height": 518
        },
        "id": "4i7TXqXGeyVe",
        "outputId": "d459601f-2042-4b86-8928-19c696fcdd46"
      },
      "source": [
        "plt.figure(figsize=(16,8))\n",
        "plt.subplot(1,2,1) \n",
        "\n",
        "plot_graphs(history, 'accuracy')\n",
        "plt.ylim(0,1)\n",
        "plt.subplot(1,2,2)\n",
        "plot_graphs(history, 'loss')\n",
        "plt.ylim(0,None)"
      ],
      "execution_count": null,
      "outputs": [
        {
          "output_type": "execute_result",
          "data": {
            "text/plain": [
              "(0.0, 3.8007006883621215)"
            ]
          },
          "metadata": {
            "tags": []
          },
          "execution_count": 18
        },
        {
          "output_type": "display_data",
          "data": {
            "image/png": "[encoded data removed]",
            "text/plain": [
              "<Figure size 1152x576 with 2 Axes>"
            ]
          },
          "metadata": {
            "tags": [],
            "needs_background": "light"
          }
        }
      ]
    },
    {
      "cell_type": "markdown",
      "metadata": {
        "id": "9DFvyRnCCA_p"
      },
      "source": [
        "## Model_mobnet_1"
      ]
    },
    {
      "cell_type": "markdown",
      "metadata": {
        "id": "XprW6UPSCJw7"
      },
      "source": [
        "Adapted from AIM website"
      ]
    },
    {
      "cell_type": "markdown",
      "metadata": {
        "id": "d5nmjjbyQ5uN"
      },
      "source": [
        "Add Layers to base_model"
      ]
    },
    {
      "cell_type": "code",
      "metadata": {
        "id": "WVTYSNxtmmxt"
      },
      "source": [
        "model_mobnet_1 = Sequential()\n",
        "model_mobnet_1.add(base_model) \n",
        "model_mobnet_1.add(Flatten()) \n",
        "model_mobnet_1.add(Dense(1024,activation=('relu'),input_dim=512))\n",
        "model_mobnet_1.add(Dense(512,activation=('relu'))) \n",
        "model_mobnet_1.add(Dense(256,activation=('relu'))) \n",
        "model_mobnet_1.add(Dense(128,activation=('relu')))\n",
        "model_mobnet_1.add(Dense(7,activation=('softmax')))"
      ],
      "execution_count": null,
      "outputs": []
    },
    {
      "cell_type": "code",
      "metadata": {
        "id": "FBYrGynPlsL0",
        "colab": {
          "base_uri": "https://localhost:8080/"
        },
        "outputId": "247683f0-857e-4e4e-beed-44a83a8e5422"
      },
      "source": [
        "model_mobnet_1.summary()"
      ],
      "execution_count": null,
      "outputs": [
        {
          "output_type": "stream",
          "text": [
            "Model: \"sequential\"\n",
            "_________________________________________________________________\n",
            "Layer (type)                 Output Shape              Param #   \n",
            "=================================================================\n",
            "mobilenet_1.00_224 (Function (None, 1000)              4253864   \n",
            "_________________________________________________________________\n",
            "flatten (Flatten)            (None, 1000)              0         \n",
            "_________________________________________________________________\n",
            "dense_1 (Dense)              (None, 1024)              1025024   \n",
            "_________________________________________________________________\n",
            "dense_2 (Dense)              (None, 512)               524800    \n",
            "_________________________________________________________________\n",
            "dense_3 (Dense)              (None, 256)               131328    \n",
            "_________________________________________________________________\n",
            "dense_4 (Dense)              (None, 128)               32896     \n",
            "_________________________________________________________________\n",
            "dense_5 (Dense)              (None, 7)                 903       \n",
            "=================================================================\n",
            "Total params: 5,968,815\n",
            "Trainable params: 4,596,975\n",
            "Non-trainable params: 1,371,840\n",
            "_________________________________________________________________\n"
          ],
          "name": "stdout"
        }
      ]
    },
    {
      "cell_type": "markdown",
      "metadata": {
        "id": "tD0qM9B1DG4f"
      },
      "source": [
        "Froze layers from the begining to 23rd to the last and carry their weights"
      ]
    },
    {
      "cell_type": "code",
      "metadata": {
        "id": "icdq00wLvaUA"
      },
      "source": [
        "for layer in model_mobnet_1.layers[:-23]:\n",
        "    layer.trainable = False"
      ],
      "execution_count": null,
      "outputs": []
    },
    {
      "cell_type": "markdown",
      "metadata": {
        "id": "QgYcTuubDdac"
      },
      "source": [
        "Add earlystop"
      ]
    },
    {
      "cell_type": "code",
      "metadata": {
        "id": "k5sJWRUwlyiW"
      },
      "source": [
        "model_mobnet_1.compile(optimizer='adam', loss='categorical_crossentropy', metrics=['accuracy'])"
      ],
      "execution_count": null,
      "outputs": []
    },
    {
      "cell_type": "code",
      "metadata": {
        "id": "pnx9VyTJlymw",
        "colab": {
          "base_uri": "https://localhost:8080/"
        },
        "outputId": "4902f8e7-f19c-4767-b813-3db195ffc4b3"
      },
      "source": [
        "history_1 = model_mobnet_1.fit(x=train_batches,\n",
        "            steps_per_epoch=len(train_batches),\n",
        "            validation_data=validate_batches,\n",
        "            validation_steps=len(validate_batches),\n",
        "            epochs=30,\n",
        "            verbose=1\n",
        ")"
      ],
      "execution_count": null,
      "outputs": [
        {
          "output_type": "stream",
          "text": [
            "Epoch 1/30\n",
            "208/208 [==============================] - 31s 150ms/step - loss: 0.7171 - accuracy: 0.7112 - val_loss: 1.8286 - val_accuracy: 0.4675\n",
            "Epoch 2/30\n",
            "208/208 [==============================] - 31s 148ms/step - loss: 0.6807 - accuracy: 0.7213 - val_loss: 1.5852 - val_accuracy: 0.4515\n",
            "Epoch 3/30\n",
            "208/208 [==============================] - 31s 147ms/step - loss: 0.6619 - accuracy: 0.7442 - val_loss: 1.6512 - val_accuracy: 0.4700\n",
            "Epoch 4/30\n",
            "208/208 [==============================] - 31s 147ms/step - loss: 0.6542 - accuracy: 0.7519 - val_loss: 1.7609 - val_accuracy: 0.4700\n",
            "Epoch 5/30\n",
            "208/208 [==============================] - 30s 146ms/step - loss: 0.6251 - accuracy: 0.7702 - val_loss: 1.6301 - val_accuracy: 0.4775\n",
            "Epoch 6/30\n",
            "208/208 [==============================] - 31s 147ms/step - loss: 0.6174 - accuracy: 0.7736 - val_loss: 1.7516 - val_accuracy: 0.4570\n",
            "Epoch 7/30\n",
            "208/208 [==============================] - 30s 146ms/step - loss: 0.6037 - accuracy: 0.7821 - val_loss: 1.6339 - val_accuracy: 0.4885\n",
            "Epoch 8/30\n",
            "208/208 [==============================] - 31s 147ms/step - loss: 0.5941 - accuracy: 0.7887 - val_loss: 1.7494 - val_accuracy: 0.4680\n",
            "Epoch 9/30\n",
            "208/208 [==============================] - 31s 147ms/step - loss: 0.5789 - accuracy: 0.7966 - val_loss: 1.7995 - val_accuracy: 0.4575\n",
            "Epoch 10/30\n",
            "208/208 [==============================] - 31s 147ms/step - loss: 0.5682 - accuracy: 0.8039 - val_loss: 1.8614 - val_accuracy: 0.4905\n",
            "Epoch 11/30\n",
            "208/208 [==============================] - 31s 146ms/step - loss: 0.5568 - accuracy: 0.8093 - val_loss: 1.8154 - val_accuracy: 0.4955\n",
            "Epoch 12/30\n",
            "208/208 [==============================] - 30s 146ms/step - loss: 0.5509 - accuracy: 0.8152 - val_loss: 1.9825 - val_accuracy: 0.4540\n",
            "Epoch 13/30\n",
            "208/208 [==============================] - 31s 147ms/step - loss: 0.5356 - accuracy: 0.8214 - val_loss: 1.9630 - val_accuracy: 0.4765\n",
            "Epoch 14/30\n",
            "208/208 [==============================] - 30s 146ms/step - loss: 0.5113 - accuracy: 0.8331 - val_loss: 1.9480 - val_accuracy: 0.4440\n",
            "Epoch 15/30\n",
            "208/208 [==============================] - 30s 146ms/step - loss: 0.4954 - accuracy: 0.8412 - val_loss: 2.0006 - val_accuracy: 0.4910\n",
            "Epoch 16/30\n",
            "208/208 [==============================] - 30s 146ms/step - loss: 0.4710 - accuracy: 0.8529 - val_loss: 1.9835 - val_accuracy: 0.4865\n",
            "Epoch 17/30\n",
            "208/208 [==============================] - 30s 146ms/step - loss: 0.4523 - accuracy: 0.8578 - val_loss: 2.1063 - val_accuracy: 0.4900\n",
            "Epoch 18/30\n",
            "208/208 [==============================] - 30s 146ms/step - loss: 0.4326 - accuracy: 0.8664 - val_loss: 2.1013 - val_accuracy: 0.5025\n",
            "Epoch 19/30\n",
            "208/208 [==============================] - 30s 146ms/step - loss: 0.4153 - accuracy: 0.8743 - val_loss: 2.0322 - val_accuracy: 0.4690\n",
            "Epoch 20/30\n",
            "208/208 [==============================] - 31s 146ms/step - loss: 0.3997 - accuracy: 0.8796 - val_loss: 2.0233 - val_accuracy: 0.4315\n",
            "Epoch 21/30\n",
            "208/208 [==============================] - 31s 147ms/step - loss: 0.3838 - accuracy: 0.8867 - val_loss: 2.5171 - val_accuracy: 0.4565\n",
            "Epoch 22/30\n",
            "208/208 [==============================] - 30s 146ms/step - loss: 0.3752 - accuracy: 0.8892 - val_loss: 2.1862 - val_accuracy: 0.4760\n",
            "Epoch 23/30\n",
            "208/208 [==============================] - 30s 146ms/step - loss: 0.3513 - accuracy: 0.8971 - val_loss: 2.9113 - val_accuracy: 0.4620\n",
            "Epoch 24/30\n",
            "208/208 [==============================] - 31s 146ms/step - loss: 0.3300 - accuracy: 0.9079 - val_loss: 2.7086 - val_accuracy: 0.4685\n",
            "Epoch 25/30\n",
            "208/208 [==============================] - 30s 146ms/step - loss: 0.3229 - accuracy: 0.9094 - val_loss: 2.1921 - val_accuracy: 0.4690\n",
            "Epoch 26/30\n",
            "208/208 [==============================] - 31s 147ms/step - loss: 0.3125 - accuracy: 0.9133 - val_loss: 2.3408 - val_accuracy: 0.4665\n",
            "Epoch 27/30\n",
            "208/208 [==============================] - 30s 146ms/step - loss: 0.2957 - accuracy: 0.9187 - val_loss: 2.5396 - val_accuracy: 0.4725\n",
            "Epoch 28/30\n",
            "208/208 [==============================] - 30s 146ms/step - loss: 0.2943 - accuracy: 0.9188 - val_loss: 2.7279 - val_accuracy: 0.4810\n",
            "Epoch 29/30\n",
            "208/208 [==============================] - 31s 147ms/step - loss: 0.2800 - accuracy: 0.9243 - val_loss: 2.5388 - val_accuracy: 0.4935\n",
            "Epoch 30/30\n",
            "208/208 [==============================] - 30s 146ms/step - loss: 0.2788 - accuracy: 0.9242 - val_loss: 2.5420 - val_accuracy: 0.4705\n"
          ],
          "name": "stdout"
        }
      ]
    },
    {
      "cell_type": "markdown",
      "metadata": {
        "id": "-RfYV9wyF6iK"
      },
      "source": [
        "Model in test data"
      ]
    },
    {
      "cell_type": "code",
      "metadata": {
        "id": "vshhYGk2F5iP",
        "colab": {
          "base_uri": "https://localhost:8080/"
        },
        "outputId": "91a9f0ba-95aa-4a55-cc14-b2eb02b76345"
      },
      "source": [
        "train_loss, train_acc = model_mobnet_1.evaluate(train_batches)\n",
        "val_loss, val_acc = model_mobnet_1.evaluate(validate_batches)\n",
        "\n",
        "print('Train Loss: {}'.format(train_loss))\n",
        "print('Train Accuracy: {}'.format(train_acc))\n",
        "print('Validation Loss: {}'.format(val_loss))\n",
        "print('Validation Accuracy: {}'.format(val_acc))\n"
      ],
      "execution_count": null,
      "outputs": [
        {
          "output_type": "stream",
          "text": [
            "208/208 [==============================] - 24s 115ms/step - loss: 0.6018 - accuracy: 0.8294\n",
            "20/20 [==============================] - 2s 115ms/step - loss: 2.5420 - accuracy: 0.4705\n",
            "Train Loss: 0.6018105149269104\n",
            "Train Accuracy: 0.8293848037719727\n",
            "Validation Loss: 2.5419559478759766\n",
            "Validation Accuracy: 0.47049999237060547\n"
          ],
          "name": "stdout"
        }
      ]
    },
    {
      "cell_type": "markdown",
      "metadata": {
        "id": "0QmCfqr1Fr8A"
      },
      "source": [
        "Plot the accuracy and loss"
      ]
    },
    {
      "cell_type": "code",
      "metadata": {
        "id": "_G2RgPJaFq9I",
        "colab": {
          "base_uri": "https://localhost:8080/",
          "height": 518
        },
        "outputId": "ba01c416-42ba-4862-e195-7807f5fb0f7a"
      },
      "source": [
        "plt.figure(figsize=(16,8))\n",
        "plt.subplot(1,2,1) \n",
        "\n",
        "plot_graphs(history_1, 'accuracy')\n",
        "plt.ylim(0,1)\n",
        "plt.subplot(1,2,2)\n",
        "plot_graphs(history_1, 'loss')\n",
        "plt.ylim(0,None)"
      ],
      "execution_count": null,
      "outputs": [
        {
          "output_type": "execute_result",
          "data": {
            "text/plain": [
              "(0.0, 3.042900651693344)"
            ]
          },
          "metadata": {
            "tags": []
          },
          "execution_count": 26
        },
        {
          "output_type": "display_data",
          "data": {
            "image/png": "[encoded data removed]",
            "text/plain": [
              "<Figure size 1152x576 with 2 Axes>"
            ]
          },
          "metadata": {
            "tags": [],
            "needs_background": "light"
          }
        }
      ]
    },
    {
      "cell_type": "markdown",
      "metadata": {
        "id": "9hnjgow7xyJy"
      },
      "source": [
        "## Model_mobnet_2"
      ]
    },
    {
      "cell_type": "markdown",
      "metadata": {
        "id": "t7cz_RTHJMBr"
      },
      "source": [
        "Modify the model from model_mobnet_1, and try do solve overfitting problems."
      ]
    },
    {
      "cell_type": "code",
      "metadata": {
        "id": "w0ON8KUOvBGR"
      },
      "source": [
        "model_mobnet_2 = Sequential()\n",
        "model_mobnet_2.add(base_model) \n",
        "model_mobnet_2.add(Flatten()) \n",
        "model_mobnet_2.add(keras.layers.BatchNormalization())\n",
        "model_mobnet_2.add(Dense(1024,activation=('relu'),kernel_regularizer=keras.regularizers.l2(alpha),input_dim=512))\n",
        "model_mobnet_2.add(Dense(512,activation=('relu'))) \n",
        "model_mobnet_2.add(Dense(256,activation=('relu'))) \n",
        "model_mobnet_2.add(Dense(128,activation=('relu')))\n",
        "model_mobnet_2.add(Dense(7,activation=('softmax')))\n"
      ],
      "execution_count": null,
      "outputs": []
    },
    {
      "cell_type": "code",
      "metadata": {
        "colab": {
          "base_uri": "https://localhost:8080/"
        },
        "id": "ePGr01QYyAon",
        "outputId": "8f2253a6-0cd6-4547-eb3d-d080217f3073"
      },
      "source": [
        "model_mobnet_2.summary()"
      ],
      "execution_count": null,
      "outputs": [
        {
          "output_type": "stream",
          "text": [
            "Model: \"sequential_11\"\n",
            "_________________________________________________________________\n",
            "Layer (type)                 Output Shape              Param #   \n",
            "=================================================================\n",
            "mobilenet_1.00_224 (Function (None, 1000)              4253864   \n",
            "_________________________________________________________________\n",
            "flatten_11 (Flatten)         (None, 1000)              0         \n",
            "_________________________________________________________________\n",
            "batch_normalization_10 (Batc (None, 1000)              4000      \n",
            "_________________________________________________________________\n",
            "dense_51 (Dense)             (None, 1024)              1025024   \n",
            "_________________________________________________________________\n",
            "dense_52 (Dense)             (None, 512)               524800    \n",
            "_________________________________________________________________\n",
            "dense_53 (Dense)             (None, 256)               131328    \n",
            "_________________________________________________________________\n",
            "dense_54 (Dense)             (None, 128)               32896     \n",
            "_________________________________________________________________\n",
            "dense_55 (Dense)             (None, 7)                 903       \n",
            "=================================================================\n",
            "Total params: 5,972,815\n",
            "Trainable params: 5,948,927\n",
            "Non-trainable params: 23,888\n",
            "_________________________________________________________________\n"
          ],
          "name": "stdout"
        }
      ]
    },
    {
      "cell_type": "code",
      "metadata": {
        "id": "qtPJIjQEyGF-"
      },
      "source": [
        "for layer in model_mobnet_2.layers[:-23]:\n",
        "    layer.trainable = False"
      ],
      "execution_count": null,
      "outputs": []
    },
    {
      "cell_type": "code",
      "metadata": {
        "colab": {
          "base_uri": "https://localhost:8080/"
        },
        "id": "nq8uAgiByV5B",
        "outputId": "a49fff8f-aa4f-494d-e737-69ac54d697bb"
      },
      "source": [
        "model_mobnet_2.compile(optimizer='adam', loss='categorical_crossentropy', metrics=['accuracy'])\n",
        "history_2 = model_mobnet_2.fit(x=train_batches,\n",
        "            steps_per_epoch=len(train_batches),\n",
        "            validation_data=validate_batches,\n",
        "            validation_steps=len(validate_batches),\n",
        "            epochs=30,\n",
        "            callbacks=[checkpointer, earlystopper, reducer],\n",
        "            verbose=1\n",
        ")"
      ],
      "execution_count": null,
      "outputs": [
        {
          "output_type": "stream",
          "text": [
            "Epoch 1/30\n",
            "208/208 [==============================] - 120s 564ms/step - loss: 1.0950 - accuracy: 0.6335 - val_loss: 2.7129 - val_accuracy: 0.3025\n",
            "INFO:tensorflow:Assets written to: MobileNet.h5_1/assets\n",
            "Epoch 2/30\n",
            "208/208 [==============================] - 118s 565ms/step - loss: 0.8582 - accuracy: 0.6947 - val_loss: 1.3411 - val_accuracy: 0.5345\n",
            "INFO:tensorflow:Assets written to: MobileNet.h5_1/assets\n",
            "Epoch 3/30\n",
            "208/208 [==============================] - 116s 559ms/step - loss: 0.7557 - accuracy: 0.7311 - val_loss: 1.4679 - val_accuracy: 0.5225\n",
            "INFO:tensorflow:Assets written to: MobileNet.h5_1/assets\n",
            "Epoch 4/30\n",
            "208/208 [==============================] - 116s 555ms/step - loss: 0.6727 - accuracy: 0.7610 - val_loss: 1.5702 - val_accuracy: 0.4920\n",
            "INFO:tensorflow:Assets written to: MobileNet.h5_1/assets\n",
            "Epoch 5/30\n",
            "208/208 [==============================] - 116s 558ms/step - loss: 0.6225 - accuracy: 0.7888 - val_loss: 1.6011 - val_accuracy: 0.5050\n",
            "INFO:tensorflow:Assets written to: MobileNet.h5_1/assets\n",
            "Epoch 6/30\n",
            "208/208 [==============================] - 116s 558ms/step - loss: 0.5367 - accuracy: 0.8170 - val_loss: 1.6284 - val_accuracy: 0.5155\n",
            "INFO:tensorflow:Assets written to: MobileNet.h5_1/assets\n",
            "Epoch 7/30\n",
            "208/208 [==============================] - 117s 562ms/step - loss: 0.4561 - accuracy: 0.8483 - val_loss: 1.8463 - val_accuracy: 0.5210\n",
            "INFO:tensorflow:Assets written to: MobileNet.h5_1/assets\n",
            "\n",
            "Epoch 00007: ReduceLROnPlateau reducing learning rate to 0.00031622778103685084.\n",
            "Epoch 8/30\n",
            "208/208 [==============================] - 117s 560ms/step - loss: 0.3090 - accuracy: 0.9015 - val_loss: 1.5958 - val_accuracy: 0.5755\n",
            "INFO:tensorflow:Assets written to: MobileNet.h5_1/assets\n",
            "Epoch 9/30\n",
            "208/208 [==============================] - 117s 563ms/step - loss: 0.1491 - accuracy: 0.9596 - val_loss: 1.8904 - val_accuracy: 0.5520\n",
            "INFO:tensorflow:Assets written to: MobileNet.h5_1/assets\n",
            "Epoch 10/30\n",
            "208/208 [==============================] - 118s 565ms/step - loss: 0.1366 - accuracy: 0.9638 - val_loss: 1.9156 - val_accuracy: 0.5610\n",
            "INFO:tensorflow:Assets written to: MobileNet.h5_1/assets\n",
            "Epoch 11/30\n",
            "208/208 [==============================] - 120s 575ms/step - loss: 0.1204 - accuracy: 0.9689 - val_loss: 2.2188 - val_accuracy: 0.5610\n",
            "INFO:tensorflow:Assets written to: MobileNet.h5_1/assets\n",
            "Epoch 12/30\n",
            "208/208 [==============================] - 117s 560ms/step - loss: 0.0891 - accuracy: 0.9765 - val_loss: 2.2287 - val_accuracy: 0.5615\n",
            "INFO:tensorflow:Assets written to: MobileNet.h5_1/assets\n",
            "\n",
            "Epoch 00012: ReduceLROnPlateau reducing learning rate to 0.00010000000639606199.\n"
          ],
          "name": "stdout"
        }
      ]
    },
    {
      "cell_type": "code",
      "metadata": {
        "colab": {
          "base_uri": "https://localhost:8080/"
        },
        "id": "ntOcD5sCydEH",
        "outputId": "78ac5e31-616e-4f61-a5f9-05ed6c52a036"
      },
      "source": [
        "train_loss, train_acc = model_mobnet_2.evaluate(train_batches)\n",
        "val_loss, val_acc = model_mobnet_2.evaluate(validate_batches)\n",
        "\n",
        "print('Train Loss: {}'.format(train_loss))\n",
        "print('Train Accuracy: {}'.format(train_acc))\n",
        "print('Validation Loss: {}'.format(val_loss))\n",
        "print('Validation Accuracy: {}'.format(val_acc))"
      ],
      "execution_count": null,
      "outputs": [
        {
          "output_type": "stream",
          "text": [
            "208/208 [==============================] - 23s 112ms/step - loss: 0.8190 - accuracy: 0.7099\n",
            "20/20 [==============================] - 2s 113ms/step - loss: 1.3411 - accuracy: 0.5345\n",
            "Train Loss: 0.819038450717926\n",
            "Train Accuracy: 0.7099155783653259\n",
            "Validation Loss: 1.341144323348999\n",
            "Validation Accuracy: 0.534500002861023\n"
          ],
          "name": "stdout"
        }
      ]
    },
    {
      "cell_type": "code",
      "metadata": {
        "colab": {
          "base_uri": "https://localhost:8080/",
          "height": 518
        },
        "id": "C_EYKppfyd0p",
        "outputId": "e65abfbd-b2bd-4481-f6ab-63657f14252e"
      },
      "source": [
        "plt.figure(figsize=(16,8))\n",
        "plt.subplot(1,2,1) \n",
        "\n",
        "plot_graphs(history_2, 'accuracy')\n",
        "plt.ylim(0,1)\n",
        "plt.subplot(1,2,2)\n",
        "plot_graphs(history_2, 'loss')\n",
        "plt.ylim(0,None)"
      ],
      "execution_count": null,
      "outputs": [
        {
          "output_type": "execute_result",
          "data": {
            "text/plain": [
              "(0.0, 2.6966162040829658)"
            ]
          },
          "metadata": {
            "tags": []
          },
          "execution_count": 66
        },
        {
          "output_type": "display_data",
          "data": {
            "image/png": "[encoded data removed]",
            "text/plain": [
              "<Figure size 1152x576 with 2 Axes>"
            ]
          },
          "metadata": {
            "tags": [],
            "needs_background": "light"
          }
        }
      ]
    }
  ]
}