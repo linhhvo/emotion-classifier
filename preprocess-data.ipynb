{
 "metadata": {
  "language_info": {
   "codemirror_mode": {
    "name": "ipython",
    "version": 3
   },
   "file_extension": ".py",
   "mimetype": "text/x-python",
   "name": "python",
   "nbconvert_exporter": "python",
   "pygments_lexer": "ipython3",
   "version": "3.8.5-final"
  },
  "orig_nbformat": 2,
  "kernelspec": {
   "name": "python385jvsc74a57bd0a4ba7d38fcf401295496b3787f7245079472fa45d39472f8f85fc353ace5026b",
   "display_name": "Python 3.8.5 64-bit"
  },
  "metadata": {
   "interpreter": {
    "hash": "a4ba7d38fcf401295496b3787f7245079472fa45d39472f8f85fc353ace5026b"
   }
  }
 },
 "nbformat": 4,
 "nbformat_minor": 2,
 "cells": [
  {
   "cell_type": "code",
   "execution_count": null,
   "metadata": {},
   "outputs": [],
   "source": [
    "# If you don't have some of these packages, please install them with pip or conda before running the file.\n",
    "\n",
    "import os\n",
    "import glob\n",
    "import random\n",
    "import shutil\n",
    "import cv2\n",
    "from imutils import paths\n",
    "import argparse\n",
    "import numpy as np\n",
    "import matplotlib.pyplot as plt\n",
    "import tensorflow as tf\n",
    "from tensorflow.keras.preprocessing.image import ImageDataGenerator, load_img, array_to_img, img_to_array"
   ]
  },
  {
   "source": [
    "Dataset: https://www.kaggle.com/jonathanoheix/face-expression-recognition-dataset\n",
    "\n",
    "__NOTE__: This file needs to be in the same folder as your \"images\" folder. Run this file on the original dataset downloaded from Kaggle."
   ],
   "cell_type": "markdown",
   "metadata": {}
  },
  {
   "source": [
    "### Orignial count of dataset before any preprocessing"
   ],
   "cell_type": "markdown",
   "metadata": {}
  },
  {
   "cell_type": "code",
   "execution_count": 536,
   "metadata": {},
   "outputs": [
    {
     "output_type": "stream",
     "name": "stdout",
     "text": [
      "angry: 3000\ndisgust: 2789\nfear: 3000\nhappy: 3000\nneutral: 3000\nsad: 3000\nsurprise: 2936\n"
     ]
    }
   ],
   "source": [
    "# Count of images in train folder\n",
    "for folder in os.listdir('images/train'):\n",
    "    train_count = len(os.listdir(f'images/train/{folder}'))\n",
    "    print(f'{folder}: {train_count}')"
   ]
  },
  {
   "cell_type": "code",
   "execution_count": 537,
   "metadata": {},
   "outputs": [
    {
     "output_type": "stream",
     "name": "stdout",
     "text": [
      "angry: 300\ndisgust: 200\nfear: 300\nhappy: 300\nneutral: 300\nsad: 300\nsurprise: 300\n"
     ]
    }
   ],
   "source": [
    "# Count of images in validation folder\n",
    "for folder in os.listdir('images/validation'):\n",
    "    valid_count = len(os.listdir(f'images/validation/{folder}'))\n",
    "    print(f'{folder}: {valid_count}')"
   ]
  },
  {
   "cell_type": "code",
   "execution_count": null,
   "metadata": {},
   "outputs": [],
   "source": [
    "# List of labels\n",
    "labels = os.listdir('images/train')\n",
    "labels"
   ]
  },
  {
   "source": [
    "## Preprocessing\n",
    "\n",
    "I performed the following preprocessing steps:\n",
    "\n",
    "1. Remove duplicated images. Some images appear in multiple folders (e.g. the same image appears in both Fear and Angry folders)\n",
    "2. Remove bad/corrupted images.\n",
    "3. Balance out the number of images for each label by removing images and data augmentation"
   ],
   "cell_type": "markdown",
   "metadata": {}
  },
  {
   "source": [
    "### Combine all images from train and validation folders to one combined folder\n",
    "\n",
    "Because there are duplicated images in the dataset, we can't guarantee that the same image doesn't appear in both train folder and validation folder. There are also bad images in both folders.\n",
    "\n",
    "That's why it's easier to combine all images to just run functions that identify bad images on all images at once.\n",
    "\n",
    "__Note__: the images are still categorized by emotion labels."
   ],
   "cell_type": "markdown",
   "metadata": {}
  },
  {
   "cell_type": "code",
   "execution_count": null,
   "metadata": {},
   "outputs": [],
   "source": [
    "# Create combined folder\n",
    "os.makedirs('images/combined')\n",
    "\n",
    "# Create an empty folder for each label inside the combined folder\n",
    "for label in labels:\n",
    "    os.makedirs(f'images/combined/{label}')\n",
    "    print('Success')"
   ]
  },
  {
   "cell_type": "code",
   "execution_count": null,
   "metadata": {},
   "outputs": [],
   "source": [
    "# Moving all images from train and validation folders to combined folder\n",
    "for folder in os.listdir('images/validation'):\n",
    "    for filename in os.listdir(f'images/validation/{folder}'):\n",
    "        shutil.move(f'images/validation/{folder}/{filename}', f'images/combined/{folder}')\n",
    "\n",
    "for folder in os.listdir('images/train'):\n",
    "    for filename in os.listdir(f'images/train/{folder}'):\n",
    "        shutil.move(f'images/train/{folder}/{filename}', f'images/combined/{folder}')"
   ]
  },
  {
   "source": [
    "### At this point, make sure that your train folder and validation folder are all empty because later on we will distribute images back to these folders.\n",
    "\n",
    "You can rerun cells 2 and 3 above to check the count again."
   ],
   "cell_type": "markdown",
   "metadata": {}
  },
  {
   "source": [
    "### Remove duplicated images\n",
    "\n",
    "The code is adapted from this article: https://www.pyimagesearch.com/2020/04/20/detect-and-remove-duplicate-images-from-a-dataset-for-deep-learning/\n",
    "\n",
    "The main idea is generating hash code for each image based on its pixels. Duplicated images will have the same hash code and will be grouped together. After that, we will remove the duplicates.\n"
   ],
   "cell_type": "markdown",
   "metadata": {}
  },
  {
   "cell_type": "code",
   "execution_count": null,
   "metadata": {},
   "outputs": [],
   "source": [
    "def generate_hash(image, hashSize=8):\n",
    "\t# convert the image to grayscale and resize the grayscale image,\n",
    "\t# adding a single column (width) so we can compute the horizontal\n",
    "\t# gradient\n",
    "\tgray = cv2.cvtColor(image, cv2.COLOR_BGR2GRAY)\n",
    "\tresized = cv2.resize(gray, (hashSize + 1, hashSize))\n",
    "\n",
    "\t# compute the (relative) horizontal gradient between adjacent\n",
    "\t# column pixels\n",
    "\tdiff = resized[:, 1:] > resized[:, :-1]\n",
    "\n",
    "\t# convert the difference image to a hash and return it\n",
    "\treturn sum([2 ** i for (i, v) in enumerate(diff.flatten()) if v])"
   ]
  },
  {
   "cell_type": "code",
   "execution_count": 99,
   "metadata": {},
   "outputs": [],
   "source": [
    "# grab the paths to all images in our input dataset directory and\n",
    "# then initialize our hashes dictionary\n",
    "imagePaths = list(paths.list_images('images/combined'))"
   ]
  },
  {
   "cell_type": "code",
   "execution_count": 100,
   "metadata": {},
   "outputs": [],
   "source": [
    "hashes = {}\n",
    "# loop over our image paths\n",
    "for imagePath in imagePaths:\n",
    "\t# load the input image and compute the hash\n",
    "\timage = cv2.imread(imagePath)\n",
    "\thash_code = generate_hash(image)\n",
    "\n",
    "\t# grab all image paths with that hash, add the current image\n",
    "\t# path to it, and store the list back in the hashes dictionary\n",
    "\timage_paths = hashes.get(hash_code, [])\n",
    "\timage_paths.append(imagePath)\n",
    "\thashes[hash_code] = image_paths"
   ]
  },
  {
   "source": [
    "This block of code will display the duplicated images in a new window for you to examine if the grouped pictures are actual duplicates.\n",
    "\n",
    "When the image window opens, press any key to display the next image. To close the window, interrupt the notebook connection. Once you see that the code correctly detects duplicates, you can proceed with the next cell to remvoe these images."
   ],
   "cell_type": "markdown",
   "metadata": {}
  },
  {
   "cell_type": "code",
   "execution_count": 103,
   "metadata": {},
   "outputs": [],
   "source": [
    "# loop over the image hashes\n",
    "for (h, hashedPaths) in hashes.items():\n",
    "    # check to see if there is more than one image with the same hash\n",
    "    if len(hashedPaths) > 1:\n",
    "        # initialize a montage to store all images with the same\n",
    "        # hash\n",
    "        montage = None\n",
    "        # loop over all image paths with the same hash\n",
    "        for p in hashedPaths:\n",
    "            print(p)\n",
    "            # load the input image and resize it to a fixed width\n",
    "            # and height\n",
    "            image = cv2.imread(p)\n",
    "            image = cv2.resize(image, (150, 150))\n",
    "\n",
    "            # if our montage is None, initialize it\n",
    "            if montage is None:\n",
    "                montage = image\n",
    "\n",
    "            # otherwise, horizontally stack the images\n",
    "            else:\n",
    "                montage = np.hstack([montage, image])\n",
    "\n",
    "        # show the montage for the hash\n",
    "        # print(\"[INFO] hash: {}\".format(h))\n",
    "        cv2.imshow(\"Montage\", montage)\n",
    "        cv2.waitKey(0)\n",
    "        cv2.destroyAllWindows()"
   ]
  },
  {
   "source": [
    "The next block of code will delete the duplicated images from the folder. When I ran the code on my files, 1904 images were deleted. You should get around this number."
   ],
   "cell_type": "markdown",
   "metadata": {}
  },
  {
   "cell_type": "code",
   "execution_count": 104,
   "metadata": {},
   "outputs": [],
   "source": [
    "# loop over the image hashes\n",
    "count = 0\n",
    "for (h, hashedPaths) in hashes.items():\n",
    "    # check to see if there is more than one image with the same hash\n",
    "    if len(hashedPaths) > 1:\n",
    "        for p in hashedPaths[1:]:\n",
    "            os.remove(p)\n",
    "\n",
    "            print('removed ', p)\n",
    "            count += 1\n",
    "            print(count)"
   ]
  },
  {
   "cell_type": "code",
   "execution_count": 522,
   "metadata": {},
   "outputs": [
    {
     "output_type": "stream",
     "name": "stdout",
     "text": [
      "angry: 4717\ndisgust: 447\nfear: 4797\nhappy: 8792\nneutral: 6035\nsad: 5902\nsurprise: 3236\n"
     ]
    }
   ],
   "source": [
    "# Check the count of images after removing duplicates\n",
    "for folder in os.listdir('images/combined'):\n",
    "    count = len(os.listdir(f'images/combined/{folder}'))\n",
    "    print(f'{folder}: {count}')"
   ]
  },
  {
   "source": [
    "### Remove bad images\n",
    "\n",
    "Below are some examples of bad/corrupted images. They either cannot display the original images or they are not human faces.\n",
    "\n",
    "<img src='images-old\\Bad\\2059.jpg' />\n",
    "<img src='images-old\\Bad\\2809.jpg' />\n",
    "<img src='images-old\\Bad\\6458.jpg' />\n",
    "<img src='images-old\\Bad\\5722.jpg' />\n",
    "<img src='images-old\\Bad\\8030.jpg' />\n",
    "\n",
    "Unfortunately, this part is pretty manual. You don't have to go through thousands of images but you still have to delete the bad ones manually once you get the file name.\n",
    "\n",
    "The general idea is to count the number of black and white pixels and look at the ones that have highest number of black pixels or highest number of white pixels. Because most of these bad pictures are mostly black or mostly white.\n",
    "\n",
    "You might also find some duplicates in this step. Make sure to delete those as well."
   ],
   "cell_type": "markdown",
   "metadata": {}
  },
  {
   "cell_type": "code",
   "execution_count": 464,
   "metadata": {},
   "outputs": [],
   "source": [
    "# Counting number of black pixels\n",
    "black_pixels = {}\n",
    "\n",
    "folder = 'surprise' #change this for each folder\n",
    "\n",
    "for filename in os.listdir(f'images/combined/{folder}'):\n",
    "    # Load image and change to grayscale color\n",
    "    image = cv2.imread(f'images/combined/{folder}/{filename}')\n",
    "    image = cv2.cvtColor(image, cv2.COLOR_BGR2GRAY)\n",
    "\n",
    "    # Find black pixels, count them, and assign the count to the image file\n",
    "    number_of_black_pix = np.sum(image == 0) \n",
    "    black_pixels[filename] = number_of_black_pix\n",
    "\n",
    "# Sort the list of images by the highest count of black pixels\n",
    "reverse = reversed(sorted(black_pixels, key=black_pixels.get))"
   ]
  },
  {
   "cell_type": "code",
   "execution_count": 487,
   "metadata": {},
   "outputs": [
    {
     "output_type": "stream",
     "name": "stdout",
     "text": [
      "images/combined/surprise/9703.jpg\n"
     ]
    },
    {
     "output_type": "execute_result",
     "data": {
      "text/plain": [
       "<matplotlib.image.AxesImage at 0x2216151e430>"
      ]
     },
     "metadata": {},
     "execution_count": 487
    },
    {
     "output_type": "display_data",
     "data": {
      "text/plain": "<Figure size 360x360 with 1 Axes>",
      "image/svg+xml": "<?xml version=\"1.0\" encoding=\"utf-8\" standalone=\"no\"?>\r\n<!DOCTYPE svg PUBLIC \"-//W3C//DTD SVG 1.1//EN\"\r\n  \"http://www.w3.org/Graphics/SVG/1.1/DTD/svg11.dtd\">\r\n<!-- Created with matplotlib (https://matplotlib.org/) -->\r\n<svg height=\"286.2pt\" version=\"1.1\" viewBox=\"0 0 286.2 286.2\" width=\"286.2pt\" xmlns=\"http://www.w3.org/2000/svg\" xmlns:xlink=\"http://www.w3.org/1999/xlink\">\r\n <metadata>\r\n  <rdf:RDF xmlns:cc=\"http://creativecommons.org/ns#\" xmlns:dc=\"http://purl.org/dc/elements/1.1/\" xmlns:rdf=\"http://www.w3.org/1999/02/22-rdf-syntax-ns#\">\r\n   <cc:Work>\r\n    <dc:type rdf:resource=\"http://purl.org/dc/dcmitype/StillImage\"/>\r\n    <dc:date>2021-04-19T17:53:09.086665</dc:date>\r\n    <dc:format>image/svg+xml</dc:format>\r\n    <dc:creator>\r\n     <cc:Agent>\r\n      <dc:title>Matplotlib v3.3.3, https://matplotlib.org/</dc:title>\r\n     </cc:Agent>\r\n    </dc:creator>\r\n   </cc:Work>\r\n  </rdf:RDF>\r\n </metadata>\r\n <defs>\r\n  <style type=\"text/css\">*{stroke-linecap:butt;stroke-linejoin:round;}</style>\r\n </defs>\r\n <g id=\"figure_1\">\r\n  <g id=\"patch_1\">\r\n   <path d=\"M 0 286.2 \r\nL 286.2 286.2 \r\nL 286.2 0 \r\nL 0 0 \r\nz\r\n\" style=\"fill:none;\"/>\r\n  </g>\r\n  <g id=\"axes_1\">\r\n   <g clip-path=\"url(#pf58aec805c)\">\r\n    <image height=\"272\" id=\"imageb8ec3f6d15\" transform=\"scale(1 -1)translate(0 -272)\" width=\"272\" x=\"7.2\" xlink:href=\"data:image/png;base64,\r\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\" y=\"-7\"/>\r\n   </g>\r\n  </g>\r\n </g>\r\n <defs>\r\n  <clipPath id=\"pf58aec805c\">\r\n   <rect height=\"271.8\" width=\"271.8\" x=\"7.2\" y=\"7.2\"/>\r\n  </clipPath>\r\n </defs>\r\n</svg>\r\n",
      "image/png": "[encoded data removed]"
     },
     "metadata": {
      "needs_background": "light"
     }
    }
   ],
   "source": [
    "# Rerun this cell to print out the next image on the list\n",
    "# If you see that the image is not a human face, copy the file name and find it in your images folder then delete it\n",
    "# You can just look at 10 images with the highest black pixels count to get most of the bad images\n",
    "\n",
    "img_path = f'images/combined/{folder}/{next(reverse)}'\n",
    "print(img_path)\n",
    "image = plt.imread(img_path)\n",
    "plt.figure(figsize=(5, 5))\n",
    "plt.axis('off')\n",
    "plt.imshow(image)"
   ]
  },
  {
   "source": [
    "Do the same thing for white pixels. There are not a lot of bad images with high white pixels."
   ],
   "cell_type": "markdown",
   "metadata": {}
  },
  {
   "cell_type": "code",
   "execution_count": 488,
   "metadata": {},
   "outputs": [],
   "source": [
    "# Counting number of white pixels\n",
    "white_pixels = {}\n",
    "\n",
    "for filename in os.listdir(f'images/combined/{folder}'):\n",
    "    # Load image and change to grayscale color\n",
    "    image = cv2.imread(f'images/combined/{folder}/{filename}')\n",
    "    image = cv2.cvtColor(image, cv2.COLOR_BGR2GRAY)\n",
    "\n",
    "    # Find white pixels, count them, and assign the count to the image file\n",
    "    number_of_white_pix = np.sum(image == 255) \n",
    "    white_pixels[filename] = number_of_white_pix\n",
    "\n",
    "# Sort the list of images by the highest count of white pixels\n",
    "reverse = reversed(sorted(white_pixels, key=white_pixels.get))"
   ]
  },
  {
   "cell_type": "code",
   "execution_count": 521,
   "metadata": {},
   "outputs": [
    {
     "output_type": "stream",
     "name": "stdout",
     "text": [
      "images/combined/surprise/30322.jpg\n"
     ]
    },
    {
     "output_type": "execute_result",
     "data": {
      "text/plain": [
       "<matplotlib.image.AxesImage at 0x22168d895e0>"
      ]
     },
     "metadata": {},
     "execution_count": 521
    },
    {
     "output_type": "display_data",
     "data": {
      "text/plain": "<Figure size 360x360 with 1 Axes>",
      "image/svg+xml": "<?xml version=\"1.0\" encoding=\"utf-8\" standalone=\"no\"?>\r\n<!DOCTYPE svg PUBLIC \"-//W3C//DTD SVG 1.1//EN\"\r\n  \"http://www.w3.org/Graphics/SVG/1.1/DTD/svg11.dtd\">\r\n<!-- Created with matplotlib (https://matplotlib.org/) -->\r\n<svg height=\"286.2pt\" version=\"1.1\" viewBox=\"0 0 286.2 286.2\" width=\"286.2pt\" xmlns=\"http://www.w3.org/2000/svg\" xmlns:xlink=\"http://www.w3.org/1999/xlink\">\r\n <metadata>\r\n  <rdf:RDF xmlns:cc=\"http://creativecommons.org/ns#\" xmlns:dc=\"http://purl.org/dc/elements/1.1/\" xmlns:rdf=\"http://www.w3.org/1999/02/22-rdf-syntax-ns#\">\r\n   <cc:Work>\r\n    <dc:type rdf:resource=\"http://purl.org/dc/dcmitype/StillImage\"/>\r\n    <dc:date>2021-04-19T17:54:36.099823</dc:date>\r\n    <dc:format>image/svg+xml</dc:format>\r\n    <dc:creator>\r\n     <cc:Agent>\r\n      <dc:title>Matplotlib v3.3.3, https://matplotlib.org/</dc:title>\r\n     </cc:Agent>\r\n    </dc:creator>\r\n   </cc:Work>\r\n  </rdf:RDF>\r\n </metadata>\r\n <defs>\r\n  <style type=\"text/css\">*{stroke-linecap:butt;stroke-linejoin:round;}</style>\r\n </defs>\r\n <g id=\"figure_1\">\r\n  <g id=\"patch_1\">\r\n   <path d=\"M 0 286.2 \r\nL 286.2 286.2 \r\nL 286.2 0 \r\nL 0 0 \r\nz\r\n\" style=\"fill:none;\"/>\r\n  </g>\r\n  <g id=\"axes_1\">\r\n   <g clip-path=\"url(#pd92ed1be0e)\">\r\n    <image height=\"272\" id=\"image99cf8c2577\" transform=\"scale(1 -1)translate(0 -272)\" width=\"272\" x=\"7.2\" xlink:href=\"data:image/png;base64,\r\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\" y=\"-7\"/>\r\n   </g>\r\n  </g>\r\n </g>\r\n <defs>\r\n  <clipPath id=\"pd92ed1be0e\">\r\n   <rect height=\"271.8\" width=\"271.8\" x=\"7.2\" y=\"7.2\"/>\r\n  </clipPath>\r\n </defs>\r\n</svg>\r\n",
      "image/png": "[encoded data removed]"
     },
     "metadata": {
      "needs_background": "light"
     }
    }
   ],
   "source": [
    "# Rerun this cell to print out the next image on the list\n",
    "# If you see that the image is not a human face, copy the file name and find it in your images folder then delete it\n",
    "# You can just look at 10 images with the highest white pixels count to get most of the bad images\n",
    "\n",
    "img_path = f'images/combined/{folder}/{next(reverse)}'\n",
    "print(img_path)\n",
    "image = plt.imread(img_path)\n",
    "plt.figure(figsize=(5, 5))\n",
    "plt.axis('off')\n",
    "plt.imshow(image)"
   ]
  },
  {
   "source": [
    "Even after these processes, we still can't guarantee that there are no duplicates and corrupted images left but we removed as many as we could"
   ],
   "cell_type": "markdown",
   "metadata": {}
  },
  {
   "source": [
    "### Balance out the number of images in each label\n",
    "\n",
    "The target count is:\n",
    "- Train set: around 3000 images in each label\n",
    "- Validation set: 300 images in each label (Disgust only has 200)\n",
    "- Test set: around 200 images in each label\n",
    "\n",
    "We will move images to validation folder first.\n",
    "\n",
    "Then remove images from all folders except Disgust and Surprise to decrease the image count in these folder.\n",
    "\n",
    "Then augment data in Disgust folder to increase the image count in these folder.\n",
    "\n",
    "Surprise folder has enough for train and validation data so we don't have to do anything\n",
    "\n",
    "Lastly, for test set, we can use some images from this dataset: https://github.com/muxspace/facial_expressions"
   ],
   "cell_type": "markdown",
   "metadata": {}
  },
  {
   "cell_type": "code",
   "execution_count": 529,
   "metadata": {},
   "outputs": [
    {
     "output_type": "stream",
     "name": "stdout",
     "text": [
      "moving images in  angry\n",
      "moving images in  disgust\n",
      "moving images in  fear\n",
      "moving images in  happy\n",
      "moving images in  neutral\n",
      "moving images in  sad\n",
      "moving images in  surprise\n"
     ]
    }
   ],
   "source": [
    "# Move 300 images each label to validation folder (except Disgust folder)\n",
    "for folder in os.listdir('images/combined'):\n",
    "    print('moving images in', folder)\n",
    "\n",
    "    if folder == 'disgust':\n",
    "        count = 200\n",
    "    else:\n",
    "        count = 300\n",
    "\n",
    "    for filename in random.sample(os.listdir(f'images/combined/{folder}'), count):\n",
    "        shutil.move(f'images/combined/{folder}/{filename}', f'images/validation/{folder}')"
   ]
  },
  {
   "cell_type": "code",
   "execution_count": 530,
   "metadata": {},
   "outputs": [
    {
     "output_type": "stream",
     "name": "stdout",
     "text": [
      "moving images in  angry\n",
      "moving images in  fear\n",
      "moving images in  happy\n",
      "moving images in  neutral\n",
      "moving images in  sad\n"
     ]
    }
   ],
   "source": [
    "# Move 3000 images from each Angry, Fear, Happy, Neutral, Sad folders to train folder\n",
    "for folder in ['angry', 'fear', 'happy', 'neutral', 'sad']:\n",
    "    print('moving images in', folder)\n",
    "    for filename in random.sample(os.listdir(f'images/combined/{folder}'), 3000):\n",
    "        shutil.move(f'images/combined/{folder}/{filename}', f'images/train/{folder}')"
   ]
  },
  {
   "cell_type": "code",
   "execution_count": 531,
   "metadata": {},
   "outputs": [
    {
     "output_type": "stream",
     "name": "stdout",
     "text": [
      "moving images in disgust\n",
      "moving images in surprise\n"
     ]
    }
   ],
   "source": [
    "# Move all images from Disgust, Surprise folders to train folder\n",
    "for folder in ['disgust', 'surprise']:\n",
    "    print('moving images in', folder)\n",
    "    for filename in os.listdir(f'images/combined/{folder}'):\n",
    "        shutil.move(f'images/combined/{folder}/{filename}', f'images/train/{folder}')"
   ]
  },
  {
   "source": [
    "The next block of code is adapted from this article: https://blog.keras.io/building-powerful-image-classification-models-using-very-little-data.html"
   ],
   "cell_type": "markdown",
   "metadata": {}
  },
  {
   "cell_type": "code",
   "execution_count": 535,
   "metadata": {},
   "outputs": [],
   "source": [
    "# Perform data augmentation for Disgust images\n",
    "datagen = ImageDataGenerator(rotation_range=40, width_shift_range=0.1, height_shift_range=0.1, shear_range=0.1, zoom_range=0.2, horizontal_flip=True)\n",
    "\n",
    "for filename in os.listdir('images/train/disgust'):\n",
    "    image_path = load_img('images/train/disgust/' + filename)\n",
    "    image = img_to_array(image_path)\n",
    "    image = image.reshape((1,) + image.shape)\n",
    "\n",
    "    i = 0\n",
    "    for batch in datagen.flow(image, batch_size=1,\n",
    "                            save_to_dir='images/train/disgust', save_prefix='aug', save_format='jpg'):\n",
    "        i += 1\n",
    "        if i > 11:\n",
    "            break  # otherwise the generator would loop indefinitely"
   ]
  }
 ]
}